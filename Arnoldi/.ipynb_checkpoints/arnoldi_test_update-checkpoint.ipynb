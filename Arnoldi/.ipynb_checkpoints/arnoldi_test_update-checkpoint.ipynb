{
 "cells": [
  {
   "cell_type": "code",
   "execution_count": 1,
   "metadata": {},
   "outputs": [],
   "source": [
    "import numpy as np\n",
    "from arnoldi_iteration import arnoldi_iteration,chope_lastrow,QR_algorithm,func_ \n",
    "from arnoldi_norm import arnoldi_norm "
   ]
  },
  {
   "cell_type": "code",
   "execution_count": 2,
   "metadata": {},
   "outputs": [
    {
     "name": "stdout",
     "output_type": "stream",
     "text": [
      "############# Test-1 ############\n",
      "Computed matrix norm ‖A‖₂ for M1 = 99.99999999999908\n",
      "True norm ‖A‖₂ for M1 = 99.99999999999993\n",
      "Iterative convergence at = 19 for M1\n"
     ]
    }
   ],
   "source": [
    "    # Load Matrixs \n",
    "    print(\"############# Test-1 ############\")\n",
    "    M1 = np.loadtxt('../CGD/data/M1.txt')\n",
    "    b0_m1 = np.loadtxt('../CGD/data/x0_m1.txt') \n",
    "    prod = func_(M1)\n",
    "    \n",
    "    \n",
    "    # calling a class arnoldi_norm  to fined norm of a matrix and  pass number of itration \n",
    "    arnoldi_norm_test_1 = arnoldi_norm(prod,b0_m1,100) \n",
    "    \n",
    "    # Run function \n",
    "    matrix_norm_M1,Iterative_convergence_M1 , λ_M1 = arnoldi_norm_test_1.arnoldi_norm() \n",
    "    \n",
    "    # print result\n",
    "    print(\"Computed matrix norm ‖A‖\\u2082 for M1 = \"f\"{matrix_norm_M1}\")\n",
    "    print(\"True norm ‖A‖\\u2082 for M1 = \"f\"{np.sqrt(np.linalg.norm(prod, ord=2)) }\")\n",
    "    print(\"Iterative convergence at = \" f\"{Iterative_convergence_M1} for M1\")\n",
    "    #print(\"The approximate eigenvalues of the matrices M1 is \" f\"{λ_M1}\") "
   ]
  },
  {
   "cell_type": "code",
   "execution_count": 4,
   "metadata": {},
   "outputs": [],
   "source": [
    "#Ritz values  λ\n",
    "H_test = arnoldi_iteration(prod, b0_m1, 50)\n",
    "λ_test = QR_algorithm(H_test)"
   ]
  },
  {
   "cell_type": "code",
   "execution_count": 5,
   "metadata": {},
   "outputs": [
    {
     "data": {
      "text/plain": [
       "array([1.00000000e+04, 9.20373200e+03, 8.47086827e+03, 7.79636013e+03,\n",
       "       7.17556092e+03, 6.60419396e+03, 6.07832313e+03, 5.59432571e+03,\n",
       "       5.14886745e+03, 4.73887961e+03, 4.36153779e+03, 4.01424249e+03,\n",
       "       3.69460121e+03, 3.40041193e+03, 3.12964801e+03, 2.88044415e+03,\n",
       "       2.65108360e+03, 2.43998630e+03, 2.24569800e+03, 2.06688025e+03,\n",
       "       1.90230119e+03, 1.75082703e+03, 1.61141428e+03, 1.48310251e+03,\n",
       "       1.36500781e+03, 1.25631660e+03, 1.15628013e+03, 1.06420924e+03,\n",
       "       9.79469655e+02, 9.01477587e+02, 8.29694934e+02, 7.63619598e+02,\n",
       "       6.46737624e+02, 5.88198901e+02, 5.38739085e+02, 4.67793927e+02,\n",
       "       4.35446473e+02, 3.70157065e+02, 3.14507848e+02, 2.82875680e+02,\n",
       "       2.16452133e+02, 1.77464188e+02, 1.35956840e+02, 1.04136471e+02,\n",
       "       7.11510632e+01, 4.60042542e+01, 2.69832942e+01, 1.44584386e+01,\n",
       "       3.83096990e+00, 1.63622557e-02])"
      ]
     },
     "execution_count": 5,
     "metadata": {},
     "output_type": "execute_result"
    }
   ],
   "source": [
    "λ_test"
   ]
  },
  {
   "cell_type": "code",
   "execution_count": 6,
   "metadata": {},
   "outputs": [
    {
     "data": {
      "text/plain": [
       "[9999.999999999955,\n",
       " 9203.731996618268,\n",
       " 8470.868266557418,\n",
       " 7796.360130405324,\n",
       " 7175.560918937019,\n",
       " 6604.1939623304115,\n",
       " 6078.3231282973575,\n",
       " 5594.325706169508,\n",
       " 5148.867450137621,\n",
       " 4738.879609717779,\n",
       " 4361.537789208141,\n",
       " 4014.242490499464,\n",
       " 3694.6012051994535,\n",
       " 3400.4119327038593,\n",
       " 3129.6480106708946,\n",
       " 2880.44415339644,\n",
       " 2651.083601908683,\n",
       " 2439.9862972596875,\n",
       " 2245.697995539904,\n",
       " 2066.8802496292087,\n",
       " 1902.3011886690701,\n",
       " 1750.8270317358504,\n",
       " 1611.4142772531388,\n",
       " 1483.102514336218,\n",
       " 1365.0078065460982,\n",
       " 1256.3166024559612,\n",
       " 1156.280130922061,\n",
       " 1064.2092434996682,\n",
       " 979.4696552542416,\n",
       " 901.4775866503738,\n",
       " 829.6949338397876,\n",
       " 763.6195982611957,\n",
       " 646.7376244640145,\n",
       " 588.1989009488397,\n",
       " 538.7390845958228,\n",
       " 467.79392748416814,\n",
       " 435.44647298705763,\n",
       " 370.1570653146898,\n",
       " 314.50784828449974,\n",
       " 282.87568023020674,\n",
       " 216.45213323468116,\n",
       " 177.4641875374885,\n",
       " 135.95683971889974,\n",
       " 104.13647139392546,\n",
       " 71.15106322425044,\n",
       " 46.00425418380539,\n",
       " 26.98329422958477,\n",
       " 14.458438604273862,\n",
       " 3.8309698975571296,\n",
       " 0.016362255660702926]"
      ]
     },
     "execution_count": 6,
     "metadata": {},
     "output_type": "execute_result"
    }
   ],
   "source": [
    "λ_test = list(λ_test)\n",
    "λ_test"
   ]
  },
  {
   "cell_type": "code",
   "execution_count": 123,
   "metadata": {},
   "outputs": [],
   "source": [
    "λ_test = [float(i) for i in λ] "
   ]
  },
  {
   "cell_type": "code",
   "execution_count": 71,
   "metadata": {},
   "outputs": [],
   "source": [
    "#Ritz values  λ\n",
    "H = arnoldi_iteration(prod, b0_m1, 50)\n",
    "λ = QR_algorithm(H) "
   ]
  },
  {
   "cell_type": "code",
   "execution_count": 7,
   "metadata": {},
   "outputs": [],
   "source": [
    "# exact eigenvalues ν \n",
    "from numpy.linalg import eig\n",
    "ν,w =eig(prod) "
   ]
  },
  {
   "cell_type": "code",
   "execution_count": 8,
   "metadata": {},
   "outputs": [],
   "source": [
    "\n",
    "ν = list(ν.real)\n"
   ]
  },
  {
   "cell_type": "code",
   "execution_count": 9,
   "metadata": {},
   "outputs": [],
   "source": [
    "ν = ν[:50]"
   ]
  },
  {
   "cell_type": "code",
   "execution_count": 110,
   "metadata": {
    "jupyter": {
     "source_hidden": true
    }
   },
   "outputs": [],
   "source": [
    "λ = [float(i) for i in λ] "
   ]
  },
  {
   "cell_type": "code",
   "execution_count": 10,
   "metadata": {},
   "outputs": [
    {
     "data": {
      "text/plain": [
       "([9999.999999999955,\n",
       "  9203.731996618268,\n",
       "  8470.868266557418,\n",
       "  7796.360130405324,\n",
       "  7175.560918937019,\n",
       "  6604.1939623304115,\n",
       "  6078.3231282973575,\n",
       "  5594.325706169508,\n",
       "  5148.867450137621,\n",
       "  4738.879609717779,\n",
       "  4361.537789208141,\n",
       "  4014.242490499464,\n",
       "  3694.6012051994535,\n",
       "  3400.4119327038593,\n",
       "  3129.6480106708946,\n",
       "  2880.44415339644,\n",
       "  2651.083601908683,\n",
       "  2439.9862972596875,\n",
       "  2245.697995539904,\n",
       "  2066.8802496292087,\n",
       "  1902.3011886690701,\n",
       "  1750.8270317358504,\n",
       "  1611.4142772531388,\n",
       "  1483.102514336218,\n",
       "  1365.0078065460982,\n",
       "  1256.3166024559612,\n",
       "  1156.280130922061,\n",
       "  1064.2092434996682,\n",
       "  979.4696552542416,\n",
       "  901.4775866503738,\n",
       "  829.6949338397876,\n",
       "  763.6195982611957,\n",
       "  646.7376244640145,\n",
       "  588.1989009488397,\n",
       "  538.7390845958228,\n",
       "  467.79392748416814,\n",
       "  435.44647298705763,\n",
       "  370.1570653146898,\n",
       "  314.50784828449974,\n",
       "  282.87568023020674,\n",
       "  216.45213323468116,\n",
       "  177.4641875374885,\n",
       "  135.95683971889974,\n",
       "  104.13647139392546,\n",
       "  71.15106322425044,\n",
       "  46.00425418380539,\n",
       "  26.98329422958477,\n",
       "  14.458438604273862,\n",
       "  3.8309698975571296,\n",
       "  0.016362255660702926],\n",
       " [10000.000000000033,\n",
       "  9203.731996618351,\n",
       "  8470.86826655749,\n",
       "  7796.360130405364,\n",
       "  7175.5609189370925,\n",
       "  6604.1939623304315,\n",
       "  6078.323128297352,\n",
       "  5594.325706169516,\n",
       "  5148.867450137614,\n",
       "  4738.879609717834,\n",
       "  4361.537789208188,\n",
       "  4014.242490499483,\n",
       "  3694.6012051994626,\n",
       "  3400.411932703868,\n",
       "  3129.6480106709128,\n",
       "  2880.444153396467,\n",
       "  2651.083601908699,\n",
       "  2439.9862972596975,\n",
       "  2245.6979955399124,\n",
       "  2066.8802496292174,\n",
       "  1902.3011886690776,\n",
       "  1750.8270317358651,\n",
       "  1611.414277253146,\n",
       "  1483.1025143362351,\n",
       "  1365.0078065461262,\n",
       "  1256.3166024742377,\n",
       "  1156.2801312074798,\n",
       "  1064.2092440648225,\n",
       "  979.4696670696333,\n",
       "  901.4776314525787,\n",
       "  829.6958520835778,\n",
       "  763.6298261283088,\n",
       "  702.8244264309142,\n",
       "  646.8607661547057,\n",
       "  595.3533130815098,\n",
       "  547.9472336900902,\n",
       "  504.3159487171964,\n",
       "  464.15888336133895,\n",
       "  427.1993966307344,\n",
       "  393.18287557063076,\n",
       "  361.8749812411795,\n",
       "  333.0600343625086,\n",
       "  306.53952950569885,\n",
       "  282.13076759399,\n",
       "  259.665597293526,\n",
       "  238.9892566231412,\n",
       "  219.95930680304238,\n",
       "  202.4446509977139,\n",
       "  186.32463119318606,\n",
       "  171.48819698708166])"
      ]
     },
     "execution_count": 10,
     "metadata": {},
     "output_type": "execute_result"
    }
   ],
   "source": [
    "λ_test ,ν"
   ]
  },
  {
   "cell_type": "code",
   "execution_count": 18,
   "metadata": {},
   "outputs": [
    {
     "ename": "IndexError",
     "evalue": "list index out of range",
     "output_type": "error",
     "traceback": [
      "\u001b[0;31m---------------------------------------------------------------------------\u001b[0m",
      "\u001b[0;31mIndexError\u001b[0m                                Traceback (most recent call last)",
      "\u001b[0;32m<ipython-input-18-89ebb4835e3d>\u001b[0m in \u001b[0;36m<module>\u001b[0;34m\u001b[0m\n\u001b[0;32m----> 1\u001b[0;31m \u001b[0mλ_test\u001b[0m\u001b[0;34m[\u001b[0m\u001b[0;36m50\u001b[0m\u001b[0;34m]\u001b[0m \u001b[0;34m,\u001b[0m\u001b[0mν\u001b[0m\u001b[0;34m[\u001b[0m\u001b[0;36m50\u001b[0m\u001b[0;34m]\u001b[0m\u001b[0;34m\u001b[0m\u001b[0;34m\u001b[0m\u001b[0m\n\u001b[0m",
      "\u001b[0;31mIndexError\u001b[0m: list index out of range"
     ]
    }
   ],
   "source": [
    "λ_test[50] ,ν[50]"
   ]
  },
  {
   "cell_type": "code",
   "execution_count": 21,
   "metadata": {},
   "outputs": [],
   "source": [
    "#Ritz values  λ , exact eigenvalues ν\n",
    "\n",
    "def arnoldi_convergence(λ_test,ν,n):\n",
    "    n = n-1 \n",
    "    errs = np.zeros((51, ), dtype='float')\n",
    "    for i in range(n,0,-1):\n",
    "        errs[i] = abs(ν[i] - λ_test[i])\n",
    "        \n",
    "        \n",
    "    \n",
    "    return errs \n",
    "    \n",
    "    "
   ]
  },
  {
   "cell_type": "code",
   "execution_count": 263,
   "metadata": {},
   "outputs": [],
   "source": [
    "errs = np.zeros((len(λ_test), ), dtype='float')"
   ]
  },
  {
   "cell_type": "code",
   "execution_count": 264,
   "metadata": {},
   "outputs": [
    {
     "data": {
      "text/plain": [
       "50"
      ]
     },
     "execution_count": 264,
     "metadata": {},
     "output_type": "execute_result"
    }
   ],
   "source": [
    "len(errs)"
   ]
  },
  {
   "cell_type": "code",
   "execution_count": 22,
   "metadata": {},
   "outputs": [],
   "source": [
    "errors_m1 = arnoldi_convergence(λ_test,ν,50)"
   ]
  },
  {
   "cell_type": "code",
   "execution_count": 23,
   "metadata": {},
   "outputs": [],
   "source": [
    "errors_m1 = list (errors_m1)"
   ]
  },
  {
   "cell_type": "code",
   "execution_count": 24,
   "metadata": {},
   "outputs": [],
   "source": [
    "errors_m1.sort(reverse=True)"
   ]
  },
  {
   "cell_type": "code",
   "execution_count": 25,
   "metadata": {},
   "outputs": [
    {
     "data": {
      "text/plain": [
       "[192.9850024393358,\n",
       " 192.9760125734576,\n",
       " 188.51453406927556,\n",
       " 187.98621239344004,\n",
       " 182.49366129562893,\n",
       " 177.99429620006455,\n",
       " 171.47183473142096,\n",
       " 170.5826897867991,\n",
       " 155.5958468250201,\n",
       " 145.42284800649836,\n",
       " 112.69154834623464,\n",
       " 110.30719534042402,\n",
       " 94.00181804664913,\n",
       " 80.15330620592209,\n",
       " 68.86947573013879,\n",
       " 58.66186520586609,\n",
       " 56.61422848568702,\n",
       " 56.08680196689966,\n",
       " 0.010227867113030698,\n",
       " 0.0009182437902381935,\n",
       " 4.480220491132059e-05,\n",
       " 1.1815391644631745e-05,\n",
       " 5.651543233398115e-07,\n",
       " 2.8541876417875756e-07,\n",
       " 1.8276523405802436e-08,\n",
       " 8.36735125631094e-11,\n",
       " 7.366907084360719e-11,\n",
       " 7.275957614183426e-11,\n",
       " 5.4569682106375694e-11,\n",
       " 4.729372449219227e-11,\n",
       " 4.001776687800884e-11,\n",
       " 2.7966962079517543e-11,\n",
       " 2.6830093702301383e-11,\n",
       " 2.000888343900442e-11,\n",
       " 1.9099388737231493e-11,\n",
       " 1.8189894035458565e-11,\n",
       " 1.7053025658242404e-11,\n",
       " 1.6370904631912708e-11,\n",
       " 1.4779288903810084e-11,\n",
       " 1.000444171950221e-11,\n",
       " 9.094947017729282e-12,\n",
       " 8.640199666842818e-12,\n",
       " 8.640199666842818e-12,\n",
       " 8.640199666842818e-12,\n",
       " 8.185452315956354e-12,\n",
       " 7.503331289626658e-12,\n",
       " 7.275957614183426e-12,\n",
       " 7.275957614183426e-12,\n",
       " 5.4569682106375694e-12,\n",
       " 0.0,\n",
       " 0.0]"
      ]
     },
     "execution_count": 25,
     "metadata": {},
     "output_type": "execute_result"
    }
   ],
   "source": [
    "errors_m1"
   ]
  },
  {
   "cell_type": "code",
   "execution_count": 26,
   "metadata": {},
   "outputs": [
    {
     "data": {
      "image/png": "[encoded data removed]",
      "text/plain": [
       "<Figure size 432x288 with 1 Axes>"
      ]
     },
     "metadata": {
      "needs_background": "light"
     },
     "output_type": "display_data"
    }
   ],
   "source": [
    "import matplotlib.pyplot as plt\n",
    "import numpy as np\n",
    "font1 = {'family':'serif','color':'black','size':12}\n",
    "\n",
    "xpoints = list(range(0,len(errors_m1)))\n",
    "ypoints = errors_m1\n",
    "plt.ticklabel_format(style='sci',scilimits=(-3,4),axis='y')\n",
    "plt.plot(xpoints, ypoints,)\n",
    "\n",
    "\n",
    "plt.title(\"convergence of Arnoldi\", fontdict = font1,loc = 'center')\n",
    "plt.xlabel(\"# iterations\", fontdict = font1)\n",
    "plt.ylabel(\"eigenvalue absolute error\", fontdict = font1)\n",
    "plt.grid(color = 'green', linestyle = '--', linewidth = 0.5)\n",
    "plt.show()\n"
   ]
  },
  {
   "cell_type": "code",
   "execution_count": 103,
   "metadata": {},
   "outputs": [
    {
     "data": {
      "text/plain": [
       "array([5.96780126e-02, 1.09921305e+00, 1.07989005e+03, 1.21560636e+03,\n",
       "       2.44038886e+03, 2.86906418e+03, 4.16843705e+03, 4.43290667e+03,\n",
       "       4.82691910e+03, 4.73751728e+03])"
      ]
     },
     "execution_count": 103,
     "metadata": {},
     "output_type": "execute_result"
    }
   ],
   "source": [
    "errors_m1"
   ]
  },
  {
   "cell_type": "code",
   "execution_count": 104,
   "metadata": {},
   "outputs": [
    {
     "data": {
      "text/plain": [
       "4826.919099432701"
      ]
     },
     "execution_count": 104,
     "metadata": {},
     "output_type": "execute_result"
    }
   ],
   "source": [
    "errors_m1[8]"
   ]
  },
  {
   "cell_type": "code",
   "execution_count": 105,
   "metadata": {},
   "outputs": [
    {
     "data": {
      "text/plain": [
       "1.0992130494050798"
      ]
     },
     "execution_count": 105,
     "metadata": {},
     "output_type": "execute_result"
    }
   ],
   "source": [
    "errors_m1[1]"
   ]
  },
  {
   "cell_type": "code",
   "execution_count": null,
   "metadata": {},
   "outputs": [],
   "source": []
  }
 ],
 "metadata": {
  "kernelspec": {
   "display_name": "Python 3",
   "language": "python",
   "name": "python3"
  },
  "language_info": {
   "codemirror_mode": {
    "name": "ipython",
    "version": 3
   },
   "file_extension": ".py",
   "mimetype": "text/x-python",
   "name": "python",
   "nbconvert_exporter": "python",
   "pygments_lexer": "ipython3",
   "version": "3.7.6"
  }
 },
 "nbformat": 4,
 "nbformat_minor": 4
}
