{
 "cells": [
  {
   "cell_type": "code",
   "execution_count": 100,
   "metadata": {},
   "outputs": [],
   "source": [
    "import numpy as np\n",
    "\n",
    "import numpy as np\n",
    "\n",
    "def arnoldi_iteration(A, b, n: int):\n",
    "    \"\"\"Computes an orthonormal basis Q for the Krylov space {b,Ab,A²b,...},\n",
    "\n",
    "    Arguments\n",
    "      A: m × n array\n",
    "      b: initial vector (length m)\n",
    "      n: dimension of Krylov subspace, must be >= 1\n",
    "    \n",
    "    Returns\n",
    "      Q: m x (n + 1) array, the columns are an orthonormal basis of the\n",
    "        Krylov subspace.\n",
    "      H: (n + 1) x n array, A on basis Q.\n",
    "    \"\"\"\n",
    "    m = len(b)  \n",
    "    H = np.zeros((n+1,n))  \n",
    "    Q = np.zeros((m,n+1))  \n",
    "    # Normalize the input vector and Use it as the first Krylov vector q1 = b/|b| \n",
    "    Q[:,0] =b/np.linalg.norm(b,2)   \n",
    "    for i in range(1,n+1): \n",
    "        v = np.dot(A,Q[:,i-1])  # Generate a new candidate vector \n",
    "        for j in range(i): \n",
    "            H[j,i-1] = np.dot(Q[:,j].T, v) \n",
    "            v = v - H[j,i-1] * Q[:,j]\n",
    "    \n",
    "        H[i,i-1] = np.linalg.norm(v,2) \n",
    "        Q[:,i] = v / H[i,i-1] \n",
    "\n",
    "    return Q, H   "
   ]
  },
  {
   "cell_type": "code",
   "execution_count": 99,
   "metadata": {},
   "outputs": [],
   "source": [
    "A= np.random.randn(10, 10)\n",
    "b = np.random.randn(10)"
   ]
  },
  {
   "cell_type": "code",
   "execution_count": 101,
   "metadata": {},
   "outputs": [],
   "source": [
    "Q, H  = arnoldi_iteration(A, b, 3)"
   ]
  },
  {
   "cell_type": "code",
   "execution_count": 102,
   "metadata": {},
   "outputs": [
    {
     "data": {
      "text/plain": [
       "array([[-0.60413107,  1.81902366,  0.58544584],\n",
       "       [ 3.77758001, -0.82316323,  1.10136876],\n",
       "       [ 0.        ,  2.64631262, -2.207419  ],\n",
       "       [ 0.        ,  0.        ,  3.07367566]])"
      ]
     },
     "execution_count": 102,
     "metadata": {},
     "output_type": "execute_result"
    }
   ],
   "source": [
    "H"
   ]
  },
  {
   "cell_type": "code",
   "execution_count": 103,
   "metadata": {},
   "outputs": [
    {
     "data": {
      "text/plain": [
       "array([[-0.13567597, -0.44839319,  0.67951023, -0.38237903],\n",
       "       [ 0.62148279, -0.07602035, -0.08745725, -0.06253943],\n",
       "       [ 0.18661871, -0.03547631,  0.08694648,  0.32605525],\n",
       "       [-0.20987699, -0.31925016,  0.05670089,  0.20060938],\n",
       "       [ 0.50627268, -0.06037961,  0.3798022 ,  0.5350824 ],\n",
       "       [-0.08336493, -0.36933759,  0.05204183,  0.02834966],\n",
       "       [ 0.23499326, -0.57776263, -0.42153647, -0.15784218],\n",
       "       [-0.06186607,  0.29024919,  0.39474159,  0.07236717],\n",
       "       [ 0.15901696,  0.35901619, -0.02094066, -0.40143318],\n",
       "       [ 0.41094879,  0.05461123,  0.19731169, -0.47423868]])"
      ]
     },
     "execution_count": 103,
     "metadata": {},
     "output_type": "execute_result"
    }
   ],
   "source": [
    "Q"
   ]
  },
  {
   "cell_type": "code",
   "execution_count": 4,
   "metadata": {},
   "outputs": [],
   "source": [
    "import numpy as np\n",
    "\n",
    "def arnoldi_iteration2(A, b, n: int):\n",
    "    \"\"\"Computes a basis of the (n + 1)-Krylov subspace of A: the space\n",
    "    spanned by {b, Ab, ..., A^n b}.\n",
    "\n",
    "    Arguments\n",
    "      A: m × m array\n",
    "      b: initial vector (length m)\n",
    "      n: dimension of Krylov subspace, must be >= 1\n",
    "    \n",
    "    Returns\n",
    "      Q: m x (n + 1) array, the columns are an orthonormal basis of the\n",
    "        Krylov subspace.\n",
    "      h: (n + 1) x n array, A on basis Q. It is upper Hessenberg.  \n",
    "    \"\"\"\n",
    "    eps = 1e-12\n",
    "    h = np.zeros((n+1,n))\n",
    "    Q = np.zeros((A.shape[0],n+1))\n",
    "     # Normalize the input vector\n",
    "    Q[:,0] =b/np.linalg.norm(b,2)   # Use it as the first Krylov vector\n",
    "    for k in range(1,n+1):\n",
    "        v = np.dot(A,Q[:,k-1])  # Generate a new candidate vector\n",
    "        for j in range(k):  # Subtract the projections on previous vectors\n",
    "            h[j,k-1] = np.dot(Q[:,j].T, v)\n",
    "            v = v - h[j,k-1] * Q[:,j]\n",
    "        h[k,k-1] = np.linalg.norm(v,2)\n",
    "        if h[k,k-1] > eps:  # Add the produced vector to the list, unless\n",
    "            Q[:,k] = v/h[k,k-1]\n",
    "        else:  # If that happens, stop iterating.\n",
    "            return Q, h\n",
    "    return Q, h"
   ]
  },
  {
   "cell_type": "code",
   "execution_count": 12,
   "metadata": {},
   "outputs": [],
   "source": [
    "# Test-2 load the matrix\n",
    "M2 = np.loadtxt('../CGD/data/M2.txt')\n",
    "x0_m2 = np.round(np.random.randn(10000),decimals = 3)\n"
   ]
  },
  {
   "cell_type": "code",
   "execution_count": 14,
   "metadata": {},
   "outputs": [
    {
     "data": {
      "text/plain": [
       "(10000, 100)"
      ]
     },
     "execution_count": 14,
     "metadata": {},
     "output_type": "execute_result"
    }
   ],
   "source": [
    "M.shape"
   ]
  },
  {
   "cell_type": "code",
   "execution_count": 13,
   "metadata": {},
   "outputs": [
    {
     "ename": "ValueError",
     "evalue": "shapes (10000,100) and (10000,) not aligned: 100 (dim 1) != 10000 (dim 0)",
     "output_type": "error",
     "traceback": [
      "\u001b[0;31m---------------------------------------------------------------------------\u001b[0m",
      "\u001b[0;31mValueError\u001b[0m                                Traceback (most recent call last)",
      "\u001b[0;32m<ipython-input-13-d16d6d8d81ca>\u001b[0m in \u001b[0;36m<module>\u001b[0;34m\u001b[0m\n\u001b[0;32m----> 1\u001b[0;31m \u001b[0mq\u001b[0m\u001b[0;34m,\u001b[0m\u001b[0mh\u001b[0m \u001b[0;34m=\u001b[0m \u001b[0marnoldi_iteration\u001b[0m\u001b[0;34m(\u001b[0m\u001b[0mM2\u001b[0m\u001b[0;34m,\u001b[0m\u001b[0mx0_m2\u001b[0m\u001b[0;34m,\u001b[0m\u001b[0;36m100\u001b[0m\u001b[0;34m)\u001b[0m\u001b[0;34m\u001b[0m\u001b[0;34m\u001b[0m\u001b[0m\n\u001b[0m",
      "\u001b[0;32m<ipython-input-1-ae4c39f27033>\u001b[0m in \u001b[0;36marnoldi_iteration\u001b[0;34m(A, b, n)\u001b[0m\n\u001b[1;32m     21\u001b[0m     \u001b[0mQ\u001b[0m\u001b[0;34m[\u001b[0m\u001b[0;34m:\u001b[0m\u001b[0;34m,\u001b[0m\u001b[0;36m0\u001b[0m\u001b[0;34m]\u001b[0m \u001b[0;34m=\u001b[0m\u001b[0mb\u001b[0m\u001b[0;34m/\u001b[0m\u001b[0mnp\u001b[0m\u001b[0;34m.\u001b[0m\u001b[0mlinalg\u001b[0m\u001b[0;34m.\u001b[0m\u001b[0mnorm\u001b[0m\u001b[0;34m(\u001b[0m\u001b[0mb\u001b[0m\u001b[0;34m,\u001b[0m\u001b[0;36m2\u001b[0m\u001b[0;34m)\u001b[0m   \u001b[0;31m# Use it as the first Krylov vector\u001b[0m\u001b[0;34m\u001b[0m\u001b[0;34m\u001b[0m\u001b[0m\n\u001b[1;32m     22\u001b[0m     \u001b[0;32mfor\u001b[0m \u001b[0mk\u001b[0m \u001b[0;32min\u001b[0m \u001b[0mrange\u001b[0m\u001b[0;34m(\u001b[0m\u001b[0;36m1\u001b[0m\u001b[0;34m,\u001b[0m\u001b[0mn\u001b[0m\u001b[0;34m+\u001b[0m\u001b[0;36m1\u001b[0m\u001b[0;34m)\u001b[0m\u001b[0;34m:\u001b[0m\u001b[0;34m\u001b[0m\u001b[0;34m\u001b[0m\u001b[0m\n\u001b[0;32m---> 23\u001b[0;31m         \u001b[0mv\u001b[0m \u001b[0;34m=\u001b[0m \u001b[0mnp\u001b[0m\u001b[0;34m.\u001b[0m\u001b[0mdot\u001b[0m\u001b[0;34m(\u001b[0m\u001b[0mA\u001b[0m\u001b[0;34m,\u001b[0m\u001b[0mQ\u001b[0m\u001b[0;34m[\u001b[0m\u001b[0;34m:\u001b[0m\u001b[0;34m,\u001b[0m\u001b[0mk\u001b[0m\u001b[0;34m-\u001b[0m\u001b[0;36m1\u001b[0m\u001b[0;34m]\u001b[0m\u001b[0;34m)\u001b[0m  \u001b[0;31m# Generate a new candidate vector\u001b[0m\u001b[0;34m\u001b[0m\u001b[0;34m\u001b[0m\u001b[0m\n\u001b[0m\u001b[1;32m     24\u001b[0m         \u001b[0;32mfor\u001b[0m \u001b[0mj\u001b[0m \u001b[0;32min\u001b[0m \u001b[0mrange\u001b[0m\u001b[0;34m(\u001b[0m\u001b[0mk\u001b[0m\u001b[0;34m)\u001b[0m\u001b[0;34m:\u001b[0m  \u001b[0;31m# Subtract the projections on previous vectors\u001b[0m\u001b[0;34m\u001b[0m\u001b[0;34m\u001b[0m\u001b[0m\n\u001b[1;32m     25\u001b[0m             \u001b[0mh\u001b[0m\u001b[0;34m[\u001b[0m\u001b[0mj\u001b[0m\u001b[0;34m,\u001b[0m\u001b[0mk\u001b[0m\u001b[0;34m-\u001b[0m\u001b[0;36m1\u001b[0m\u001b[0;34m]\u001b[0m \u001b[0;34m=\u001b[0m \u001b[0mnp\u001b[0m\u001b[0;34m.\u001b[0m\u001b[0mdot\u001b[0m\u001b[0;34m(\u001b[0m\u001b[0mQ\u001b[0m\u001b[0;34m[\u001b[0m\u001b[0;34m:\u001b[0m\u001b[0;34m,\u001b[0m\u001b[0mj\u001b[0m\u001b[0;34m]\u001b[0m\u001b[0;34m.\u001b[0m\u001b[0mT\u001b[0m\u001b[0;34m,\u001b[0m \u001b[0mv\u001b[0m\u001b[0;34m)\u001b[0m\u001b[0;34m\u001b[0m\u001b[0;34m\u001b[0m\u001b[0m\n",
      "\u001b[0;32m<__array_function__ internals>\u001b[0m in \u001b[0;36mdot\u001b[0;34m(*args, **kwargs)\u001b[0m\n",
      "\u001b[0;31mValueError\u001b[0m: shapes (10000,100) and (10000,) not aligned: 100 (dim 1) != 10000 (dim 0)"
     ]
    }
   ],
   "source": [
    "q,h = arnoldi_iteration(M2,x0_m2,100)"
   ]
  },
  {
   "cell_type": "code",
   "execution_count": null,
   "metadata": {},
   "outputs": [],
   "source": []
  }
 ],
 "metadata": {
  "kernelspec": {
   "display_name": "Python 3",
   "language": "python",
   "name": "python3"
  },
  "language_info": {
   "codemirror_mode": {
    "name": "ipython",
    "version": 3
   },
   "file_extension": ".py",
   "mimetype": "text/x-python",
   "name": "python",
   "nbconvert_exporter": "python",
   "pygments_lexer": "ipython3",
   "version": "3.7.6"
  }
 },
 "nbformat": 4,
 "nbformat_minor": 4
}
