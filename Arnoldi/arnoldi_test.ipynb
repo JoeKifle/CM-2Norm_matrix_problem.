{
 "cells": [
  {
   "cell_type": "markdown",
   "source": [
    "# Experiments with Arnoldi iterations"
   ],
   "metadata": {}
  },
  {
   "cell_type": "code",
   "execution_count": 1,
   "source": [
    "# import \n",
    "import numpy as np\n",
    "from prettytable import PrettyTable\n",
    "from arnoldi_iteration import arnoldi_iteration,chope_lastrow,QR_algorithm,func_ ,func_2\n",
    "from arnoldi_norm import arnoldi_norm "
   ],
   "outputs": [],
   "metadata": {}
  },
  {
   "cell_type": "markdown",
   "source": [
    "## convergence rates (as absolute errors |ν−λ|) as a function of the number of iterations"
   ],
   "metadata": {}
  },
  {
   "cell_type": "code",
   "execution_count": 2,
   "source": [
    "\n",
    "#Ritz values  λ , exact eigenvalues ν\n",
    "\n",
    "def arnoldi_convergence(λ,ν,n):\n",
    "    n = n-1 \n",
    "    errs = np.zeros((n+1, ), dtype='float')\n",
    "    for i in range(n,0,-1):\n",
    "        errs[i] = abs(ν[i] - λ[i])\n",
    "        \n",
    "        \n",
    "    \n",
    "    return errs \n",
    "# utility function for display    \n",
    "def table(c_norm,t_norm,i_conv):\n",
    "    A = PrettyTable()\n",
    "    \n",
    "    A.add_row(['Computed matrix norm ‖A‖₂', c_norm])\n",
    "    A.add_row([\"True norm ‖A‖₂\",t_norm])\n",
    "    A.add_row([\"Iterative convergence\",i_conv])\n",
    "    \n",
    "    print(A)   "
   ],
   "outputs": [],
   "metadata": {}
  },
  {
   "cell_type": "code",
   "execution_count": 3,
   "source": [
    "# loading the matrices\n",
    "M1 = np.loadtxt('../CGD/data/M1.txt')\n",
    "x0_m1 = np.loadtxt('../CGD/data/x0_m1.txt')\n",
    "\n",
    "M2 = np.loadtxt('../CGD/data/M2.txt')\n",
    "x0_m2 = np.loadtxt('../CGD/data/x0_m2.txt')\n",
    "\n",
    "M3 = np.loadtxt('../CGD/data/M3.txt')\n",
    "x0_m3 = np.loadtxt('../CGD/data/x0_m3.txt')\n",
    "\n",
    "M4 = np.loadtxt('../CGD/data/M4.txt')\n",
    "x0_m4 = np.loadtxt('../CGD/data/x0_m4.txt')\n",
    "\n",
    "M5 = np.loadtxt('../CGD/data/M5.txt')\n",
    "x0_m5 = np.loadtxt('../CGD/data/x0_m5.txt')"
   ],
   "outputs": [],
   "metadata": {}
  },
  {
   "cell_type": "markdown",
   "source": [
    "# M1 - Matrix Test"
   ],
   "metadata": {}
  },
  {
   "cell_type": "code",
   "execution_count": 178,
   "source": [
    "print(\"############# Test-1 ############\")\n",
    "prod = func_(M1)\n",
    "    \n",
    "# Initialize the Arnoldi algorithm.\n",
    "arnoldi_norm_m1 = arnoldi_norm(prod,x0_m1,100) \n",
    "    \n",
    "# Run the algorithm.\n",
    "matrix_norm_m1,Iterative_convergence_m1 , λ_m1 = arnoldi_norm_m1.arnoldi_norm() \n",
    "\n",
    "true_norm = np.sqrt(np.linalg.norm(prod, ord=2))\n",
    "table(matrix_norm_m1,true_norm,Iterative_convergence_m1)    \n",
    "\n"
   ],
   "outputs": [
    {
     "output_type": "stream",
     "name": "stdout",
     "text": [
      "############# Test-1 ############\n",
      "+---------------------------+-------------------+\n",
      "|          Field 1          |      Field 2      |\n",
      "+---------------------------+-------------------+\n",
      "| Computed matrix norm ‖A‖₂ | 99.99999999999973 |\n",
      "|       True norm ‖A‖₂      |  99.9999999999999 |\n",
      "|   Iterative convergence   |         21        |\n",
      "+---------------------------+-------------------+\n"
     ]
    }
   ],
   "metadata": {}
  },
  {
   "cell_type": "code",
   "execution_count": 179,
   "source": [
    "%%timeit -r 10\n",
    "# Measuring running time\n",
    "arnoldi_norm_m1.arnoldi_norm()"
   ],
   "outputs": [
    {
     "output_type": "stream",
     "name": "stdout",
     "text": [
      "744 ms ± 26 ms per loop (mean ± std. dev. of 10 runs, 1 loop each)\n"
     ]
    }
   ],
   "metadata": {}
  },
  {
   "cell_type": "code",
   "execution_count": 180,
   "source": [
    "%%timeit -r 10\n",
    "# Measuring running time\n",
    "np.sqrt(np.linalg.norm(prod, ord=2))"
   ],
   "outputs": [
    {
     "output_type": "stream",
     "name": "stdout",
     "text": [
      "306 ms ± 6.43 ms per loop (mean ± std. dev. of 10 runs, 1 loop each)\n"
     ]
    }
   ],
   "metadata": {}
  },
  {
   "cell_type": "markdown",
   "source": [
    "## M1 - Arnoldi convergence rates "
   ],
   "metadata": {}
  },
  {
   "cell_type": "code",
   "execution_count": 181,
   "source": [
    "# Ritz values λ for n diffrent values \n",
    "H_50 = arnoldi_iteration(prod, x0_m1, 50)\n",
    "λ_50 = list( QR_algorithm(H_50))\n",
    "# n = 20\n",
    "H_20 = arnoldi_iteration(prod, x0_m1, 20)\n",
    "λ_20 = list( QR_algorithm(H_20))\n",
    "# n = 10\n",
    "H_10 = arnoldi_iteration(prod, x0_m1, 10)\n",
    "λ_10 = list( QR_algorithm(H_10))\n",
    "# n = 5\n",
    "H_5 = arnoldi_iteration(prod, x0_m1, 5)\n",
    "λ_5 = list( QR_algorithm(H_5))"
   ],
   "outputs": [],
   "metadata": {}
  },
  {
   "cell_type": "code",
   "execution_count": 182,
   "source": [
    "# exact eigenvalues ν \n",
    "from numpy.linalg import eig\n",
    "ν,w =eig(prod)\n",
    "ν = list(ν.real)\n",
    "ν_50 = ν[:50]\n",
    "ν_20 = ν[:20]\n",
    "ν_10 = ν[:10]\n",
    "ν_5 = ν[:5]"
   ],
   "outputs": [],
   "metadata": {}
  },
  {
   "cell_type": "code",
   "execution_count": 184,
   "source": [
    "#Ritz values λ vs exact eigenvalues ν for n 20\n",
    "# λ_20 ,ν_20"
   ],
   "outputs": [],
   "metadata": {}
  },
  {
   "cell_type": "code",
   "execution_count": 59,
   "source": [
    "# run arnoldi_convergence function \n",
    "errors_m1_n50 = list(arnoldi_convergence(λ_50,ν_50,50))\n",
    "errors_m1_n20 = list(arnoldi_convergence(λ_20,ν_20,20)) \n",
    "errors_m1_n10 = list(arnoldi_convergence(λ_10,ν_10,10))\n",
    "errors_m1_n5 = list(arnoldi_convergence(λ_5,ν_5,5))\n"
   ],
   "outputs": [],
   "metadata": {}
  },
  {
   "cell_type": "code",
   "execution_count": 60,
   "source": [
    "# sort \n",
    "errors_m1_n50.sort(reverse=True)\n",
    "errors_m1_n20.sort(reverse=True)\n",
    "errors_m1_n10.sort(reverse=True)\n",
    "errors_m1_n5.sort(reverse=True)"
   ],
   "outputs": [],
   "metadata": {}
  },
  {
   "cell_type": "code",
   "execution_count": 96,
   "source": [
    "#errors_m1_n20"
   ],
   "outputs": [],
   "metadata": {}
  },
  {
   "cell_type": "code",
   "execution_count": 62,
   "source": [
    "import matplotlib.pyplot as plt\n",
    "import numpy as np\n",
    "font1 = {'family':'serif','color':'black','size':12}\n",
    "\n",
    "xpoints = list(range(0,len(errors_m1_n50)))\n",
    "ypoints = errors_m1_n50\n",
    "xpoints2 = list(range(0,len(errors_m1_n20)))\n",
    "ypoints2 = errors_m1_n20\n",
    "xpoints3 = list(range(0,len(errors_m1_n10)))\n",
    "ypoints3 = errors_m1_n10\n",
    "xpoints4 = list(range(0,len(errors_m1_n5)))\n",
    "ypoints4 = errors_m1_n5\n",
    "#plt.ticklabel_format(style='sci',scilimits=(-3,4),axis='y')\n",
    "plt.plot(xpoints, ypoints,label = \"n = 50\")\n",
    "plt.plot(xpoints2, ypoints2,label = \"n = 20\")\n",
    "plt.plot(xpoints3, ypoints3,label = \"n = 10\")\n",
    "plt.plot(xpoints4, ypoints4,label = \"n = 5\")\n",
    "#plt.yscale('symlog', linthreshy=0.01)\n",
    "plt.legend()\n",
    "plt.title(\"convergence of Arnoldi - M1\", fontdict = font1,loc = 'center')\n",
    "plt.xlabel(\"# iterations\", fontdict = font1)\n",
    "plt.ylabel(\"eigenvalue absolute error\", fontdict = font1)\n",
    "plt.grid(color = 'green', linestyle = '--', linewidth = 0.5)\n",
    "plt.show()\n",
    "plt.savefig('M1.png')\n"
   ],
   "outputs": [
    {
     "output_type": "display_data",
     "data": {
      "image/png": "[encoded data removed]",
      "text/plain": [
       "<Figure size 432x288 with 1 Axes>"
      ]
     },
     "metadata": {
      "needs_background": "light"
     }
    },
    {
     "output_type": "display_data",
     "data": {
      "text/plain": [
       "<Figure size 432x288 with 0 Axes>"
      ]
     },
     "metadata": {}
    }
   ],
   "metadata": {}
  },
  {
   "cell_type": "markdown",
   "source": [
    "# M2 - Matrix Test"
   ],
   "metadata": {}
  },
  {
   "cell_type": "code",
   "execution_count": 67,
   "source": [
    "print(\"############# Test-2 ############\")\n",
    "prod = func_2(M2)\n",
    "    \n",
    "# Initialize the Arnoldi algorithm.\n",
    "arnoldi_norm_m2 = arnoldi_norm(prod,x0_m2,20) \n",
    "    \n",
    "# Run the algorithm.\n",
    "matrix_norm_m2,Iterative_convergence_m2 , λ_m2 = arnoldi_norm_m2.arnoldi_norm() \n",
    "    \n",
    "true_norm = np.sqrt(np.linalg.norm(prod, ord=2))\n",
    "table(matrix_norm_m2,true_norm,Iterative_convergence_m2) "
   ],
   "outputs": [
    {
     "output_type": "stream",
     "name": "stdout",
     "text": [
      "############# Test-2 ############\n",
      "+---------------------------+--------------------+\n",
      "|          Field 1          |      Field 2       |\n",
      "+---------------------------+--------------------+\n",
      "| Computed matrix norm ‖A‖₂ | 41.06642652181129  |\n",
      "|       True norm ‖A‖₂      | 41.199155173994356 |\n",
      "|   Iterative convergence   |         19         |\n",
      "+---------------------------+--------------------+\n"
     ]
    }
   ],
   "metadata": {}
  },
  {
   "cell_type": "code",
   "execution_count": 12,
   "source": [
    "%%timeit -r 10\n",
    "# Measuring running time\n",
    "arnoldi_norm_m2.arnoldi_norm()"
   ],
   "outputs": [
    {
     "output_type": "stream",
     "name": "stdout",
     "text": [
      "907 ms ± 6.96 ms per loop (mean ± std. dev. of 10 runs, 1 loop each)\n"
     ]
    }
   ],
   "metadata": {}
  },
  {
   "cell_type": "code",
   "execution_count": 13,
   "source": [
    "%%timeit -r 10\n",
    "# Measuring running time\n",
    "np.sqrt(np.linalg.norm(prod, ord=2))"
   ],
   "outputs": [
    {
     "output_type": "stream",
     "name": "stdout",
     "text": [
      "797 µs ± 10.7 µs per loop (mean ± std. dev. of 10 runs, 1000 loops each)\n"
     ]
    }
   ],
   "metadata": {}
  },
  {
   "cell_type": "code",
   "execution_count": null,
   "source": [
    "## M2 - Arnoldi convergence rates "
   ],
   "outputs": [],
   "metadata": {}
  },
  {
   "cell_type": "code",
   "execution_count": 68,
   "source": [
    "# Ritz values λ for n diffrent values \n",
    "#H_50 = arnoldi_iteration(prod, x0_m2, 30)\n",
    "#λ_50 = list( QR_algorithm(H_50))\n",
    "# n = 20\n",
    "H_20 = arnoldi_iteration(prod, x0_m2, 20)\n",
    "λ_20 = list( QR_algorithm(H_20))\n",
    "# n = 10\n",
    "H_10 = arnoldi_iteration(prod, x0_m2, 10)\n",
    "λ_10 = list( QR_algorithm(H_10))\n",
    "# n = 5\n",
    "H_5 = arnoldi_iteration(prod, x0_m2, 5)\n",
    "λ_5 = list( QR_algorithm(H_5))"
   ],
   "outputs": [],
   "metadata": {}
  },
  {
   "cell_type": "code",
   "execution_count": 69,
   "source": [
    "# exact eigenvalues ν \n",
    "from numpy.linalg import eig\n",
    "ν,w =eig(prod)\n",
    "ν = list(ν.real)\n",
    "ν_30 = ν[:30]\n",
    "ν_20 = ν[:20]\n",
    "ν_10 = ν[:10]\n",
    "ν_5 = ν[:5]"
   ],
   "outputs": [],
   "metadata": {}
  },
  {
   "cell_type": "code",
   "execution_count": 70,
   "source": [
    "# run arnoldi_convergence function \n",
    "#errors_m2_n30 = list(arnoldi_convergence(λ_50,ν_50,30))\n",
    "errors_m2_n20 = list(arnoldi_convergence(λ_20,ν_20,20)) \n",
    "errors_m2_n10 = list(arnoldi_convergence(λ_10,ν_10,10))\n",
    "errors_m2_n5 = list(arnoldi_convergence(λ_5,ν_5,5))\n"
   ],
   "outputs": [],
   "metadata": {}
  },
  {
   "cell_type": "code",
   "execution_count": 71,
   "source": [
    "# sort \n",
    "#errors_m2_n50.sort(reverse=True)\n",
    "errors_m2_n20.sort(reverse=True)\n",
    "errors_m2_n10.sort(reverse=True)\n",
    "errors_m2_n5.sort(reverse=True)"
   ],
   "outputs": [],
   "metadata": {}
  },
  {
   "cell_type": "code",
   "execution_count": 72,
   "source": [
    "import matplotlib.pyplot as plt\n",
    "import numpy as np\n",
    "font1 = {'family':'serif','color':'black','size':12}\n",
    "\n",
    "xpoints = list(range(0,len(errors_m2_n20)))\n",
    "ypoints = errors_m2_n20\n",
    "xpoints2 = list(range(0,len(errors_m2_n10)))\n",
    "ypoints2 = errors_m2_n10\n",
    "xpoints3 = list(range(0,len(errors_m2_n5)))\n",
    "ypoints3 = errors_m2_n5\n",
    "#plt.ticklabel_format(style='sci',scilimits=(-3,4),axis='y')\n",
    "plt.plot(xpoints, ypoints,label = \"n = 20\")\n",
    "plt.plot(xpoints2, ypoints2,label = \"n = 10\")\n",
    "plt.plot(xpoints3, ypoints3,label = \"n = 5\")\n",
    "#plt.yscale('symlog', linthreshy=0.01)\n",
    "plt.legend()\n",
    "plt.title(\"convergence of Arnoldi - M2\", fontdict = font1,loc = 'center')\n",
    "plt.xlabel(\"# iterations\", fontdict = font1)\n",
    "plt.ylabel(\"eigenvalue absolute error\", fontdict = font1)\n",
    "plt.grid(color = 'green', linestyle = '--', linewidth = 0.5)\n",
    "plt.show()\n",
    "plt.savefig('M2.png')"
   ],
   "outputs": [
    {
     "output_type": "display_data",
     "data": {
      "image/png": "[encoded data removed]",
      "text/plain": [
       "<Figure size 432x288 with 1 Axes>"
      ]
     },
     "metadata": {
      "needs_background": "light"
     }
    },
    {
     "output_type": "display_data",
     "data": {
      "text/plain": [
       "<Figure size 432x288 with 0 Axes>"
      ]
     },
     "metadata": {}
    }
   ],
   "metadata": {}
  },
  {
   "cell_type": "markdown",
   "source": [
    "## M3 - Matrix Test"
   ],
   "metadata": {}
  },
  {
   "cell_type": "code",
   "execution_count": 22,
   "source": [
    "print(\"############# Test-3 ############\")\n",
    "prod = func_2(M3)\n",
    "    \n",
    "# Initialize the Arnoldi algorithm.\n",
    "arnoldi_norm_m3 = arnoldi_norm(prod,x0_m3,100) \n",
    "    \n",
    "# Run the algorithm.\n",
    "matrix_norm_m3,Iterative_convergence_m3 , λ_m3 = arnoldi_norm_m3.arnoldi_norm() \n",
    "    \n",
    "true_norm = np.sqrt(np.linalg.norm(prod, ord=2))\n",
    "table(matrix_norm_m3,true_norm,Iterative_convergence_m3)     \n"
   ],
   "outputs": [
    {
     "output_type": "stream",
     "name": "stdout",
     "text": [
      "############# Test-3 ############\n",
      "+---------------------------+--------------------+\n",
      "|          Field 1          |      Field 2       |\n",
      "+---------------------------+--------------------+\n",
      "| Computed matrix norm ‖A‖₂ |  41.4574385130684  |\n",
      "|       True norm ‖A‖₂      | 41.457438513063735 |\n",
      "|   Iterative convergence   |         34         |\n",
      "+---------------------------+--------------------+\n"
     ]
    }
   ],
   "metadata": {}
  },
  {
   "cell_type": "code",
   "execution_count": 23,
   "source": [
    "%%timeit -r 10\n",
    "# Measuring running time\n",
    "arnoldi_norm_m3.arnoldi_norm()"
   ],
   "outputs": [
    {
     "output_type": "stream",
     "name": "stdout",
     "text": [
      "2.38 s ± 23.2 ms per loop (mean ± std. dev. of 10 runs, 1 loop each)\n"
     ]
    }
   ],
   "metadata": {}
  },
  {
   "cell_type": "code",
   "execution_count": 24,
   "source": [
    "%%timeit -r 10\n",
    "# Measuring running time\n",
    "np.sqrt(np.linalg.norm(prod, ord=2))"
   ],
   "outputs": [
    {
     "output_type": "stream",
     "name": "stdout",
     "text": [
      "181 ms ± 9.7 ms per loop (mean ± std. dev. of 10 runs, 1 loop each)\n"
     ]
    }
   ],
   "metadata": {}
  },
  {
   "cell_type": "markdown",
   "source": [
    "## M3 - Arnoldi convergence rates "
   ],
   "metadata": {}
  },
  {
   "cell_type": "code",
   "execution_count": 25,
   "source": [
    "# Ritz values λ for n diffrent values \n",
    "H_50 = arnoldi_iteration(prod, x0_m3, 50)\n",
    "λ_50 = list(QR_algorithm(H_50))\n",
    "# n = 20\n",
    "H_20 = arnoldi_iteration(prod, x0_m3, 20)\n",
    "λ_20 = list(QR_algorithm(H_20))\n",
    "# n = 10\n",
    "H_10 = arnoldi_iteration(prod, x0_m3, 10)\n",
    "λ_10 = list(QR_algorithm(H_10))\n",
    "# n = 5\n",
    "H_5 = arnoldi_iteration(prod, x0_m3, 5)\n",
    "λ_5 = list(QR_algorithm(H_5))"
   ],
   "outputs": [],
   "metadata": {}
  },
  {
   "cell_type": "code",
   "execution_count": 26,
   "source": [
    "# exact eigenvalues ν \n",
    "from numpy.linalg import eig\n",
    "ν,w =eig(prod) \n",
    "ν = list(ν.real)\n",
    "ν_50 = ν[:50]\n",
    "ν_20 = ν[:20]\n",
    "ν_10 = ν[:10]\n",
    "ν_5 = ν[:5]\n"
   ],
   "outputs": [],
   "metadata": {}
  },
  {
   "cell_type": "code",
   "execution_count": 73,
   "source": [
    "# run arnoldi_convergence function \n",
    "errors_m3_n50 = list(arnoldi_convergence(λ_50,ν_50,50))\n",
    "errors_m3_n20 = list(arnoldi_convergence(λ_20,ν_20,20)) \n",
    "errors_m3_n10 = list(arnoldi_convergence(λ_10,ν_10,10))\n",
    "errors_m3_n5 = list(arnoldi_convergence(λ_5,ν_5,5))"
   ],
   "outputs": [],
   "metadata": {}
  },
  {
   "cell_type": "code",
   "execution_count": 74,
   "source": [
    "errors_m3_n50.sort(reverse=True)\n",
    "errors_m3_n20.sort(reverse=True)\n",
    "errors_m3_n10.sort(reverse=True)\n",
    "errors_m3_n5.sort(reverse=True)"
   ],
   "outputs": [],
   "metadata": {}
  },
  {
   "cell_type": "code",
   "execution_count": 75,
   "source": [
    "import matplotlib.pyplot as plt\n",
    "import numpy as np\n",
    "font1 = {'family':'serif','color':'black','size':12}\n",
    "\n",
    "xpoints = list(range(0,len(errors_m3_n50)))\n",
    "ypoints = errors_m3_n50\n",
    "xpoints2 = list(range(0,len(errors_m3_n20)))\n",
    "ypoints2 = errors_m3_n20\n",
    "xpoints3 = list(range(0,len(errors_m3_n10)))\n",
    "ypoints3 = errors_m3_n10\n",
    "xpoints4 = list(range(0,len(errors_m3_n5)))\n",
    "ypoints4 = errors_m3_n5\n",
    "#plt.ticklabel_format(style='sci',scilimits=(-3,4),axis='y')\n",
    "plt.plot(xpoints, ypoints,label = \"n = 50\")\n",
    "plt.plot(xpoints2, ypoints2,label = \"n = 20\")\n",
    "plt.plot(xpoints3, ypoints3,label = \"n = 10\")\n",
    "plt.plot(xpoints4, ypoints4,label = \"n = 5\")\n",
    "#plt.yscale('symlog', linthreshy=0.01)\n",
    "#plt.yscale('log')\n",
    "plt.legend()\n",
    "plt.title(\"convergence of Arnoldi - M3\", fontdict = font1,loc = 'center')\n",
    "plt.xlabel(\"# iterations\", fontdict = font1)\n",
    "plt.ylabel(\"eigenvalue absolute error\", fontdict = font1)\n",
    "plt.grid(color = 'green', linestyle = '--', linewidth = 0.5)\n",
    "plt.show()\n",
    "plt.savefig('M3.png')"
   ],
   "outputs": [
    {
     "output_type": "display_data",
     "data": {
      "image/png": "[encoded data removed]",
      "text/plain": [
       "<Figure size 432x288 with 1 Axes>"
      ]
     },
     "metadata": {
      "needs_background": "light"
     }
    },
    {
     "output_type": "display_data",
     "data": {
      "text/plain": [
       "<Figure size 432x288 with 0 Axes>"
      ]
     },
     "metadata": {}
    }
   ],
   "metadata": {}
  },
  {
   "cell_type": "markdown",
   "source": [
    "M4 - Matrix Test"
   ],
   "metadata": {}
  },
  {
   "cell_type": "code",
   "execution_count": 76,
   "source": [
    "print(\"############# Test-4 ############\")\n",
    "prod = func_(M4)\n",
    "    \n",
    "# Initialize the Arnoldi algorithm.\n",
    "arnoldi_norm_m4 = arnoldi_norm(prod,x0_m4,100) \n",
    "    \n",
    "# Run the algorithm.\n",
    "matrix_norm_m4,Iterative_convergence_m4 , λ_m4 = arnoldi_norm_m4.arnoldi_norm() \n",
    "\n",
    "    \n",
    "true_norm = np.sqrt(np.linalg.norm(prod, ord=2))\n",
    "table(matrix_norm_m4,true_norm,Iterative_convergence_m4)"
   ],
   "outputs": [
    {
     "output_type": "stream",
     "name": "stdout",
     "text": [
      "############# Test-4 ############\n",
      "+---------------------------+--------------------+\n",
      "|          Field 1          |      Field 2       |\n",
      "+---------------------------+--------------------+\n",
      "| Computed matrix norm ‖A‖₂ | 20.13959571512265  |\n",
      "|       True norm ‖A‖₂      | 20.139595715129648 |\n",
      "|   Iterative convergence   |         19         |\n",
      "+---------------------------+--------------------+\n"
     ]
    }
   ],
   "metadata": {}
  },
  {
   "cell_type": "code",
   "execution_count": 31,
   "source": [
    "%%timeit -r 10\n",
    "# Measuring running time\n",
    "arnoldi_norm_m4.arnoldi_norm()"
   ],
   "outputs": [
    {
     "output_type": "stream",
     "name": "stdout",
     "text": [
      "383 ms ± 800 µs per loop (mean ± std. dev. of 10 runs, 1 loop each)\n"
     ]
    }
   ],
   "metadata": {}
  },
  {
   "cell_type": "code",
   "execution_count": 32,
   "source": [
    "%%timeit -r 10\n",
    "# Measuring running time\n",
    "np.sqrt(np.linalg.norm(prod, ord=2))"
   ],
   "outputs": [
    {
     "output_type": "stream",
     "name": "stdout",
     "text": [
      "762 µs ± 34.3 µs per loop (mean ± std. dev. of 10 runs, 1000 loops each)\n"
     ]
    }
   ],
   "metadata": {}
  },
  {
   "cell_type": "code",
   "execution_count": 77,
   "source": [
    "# Ritz values λ for n diffrent values \n",
    "H_50 = arnoldi_iteration(prod, x0_m4, 50)\n",
    "λ_50 = list(QR_algorithm(H_50))\n",
    "# n = 20\n",
    "H_20 = arnoldi_iteration(prod, x0_m4, 20)\n",
    "λ_20 = list(QR_algorithm(H_20))\n",
    "# n = 10\n",
    "H_10 = arnoldi_iteration(prod, x0_m4, 10)\n",
    "λ_10 = list(QR_algorithm(H_10))\n",
    "# n = 5\n",
    "H_5 = arnoldi_iteration(prod, x0_m4, 5)\n",
    "λ_5 = list(QR_algorithm(H_5))"
   ],
   "outputs": [],
   "metadata": {}
  },
  {
   "cell_type": "code",
   "execution_count": 78,
   "source": [
    "# exact eigenvalues ν \n",
    "from numpy.linalg import eig\n",
    "ν,w =eig(prod) \n",
    "ν = list(ν.real)\n",
    "ν_50 = ν[:50]\n",
    "ν_20 = ν[:20]\n",
    "ν_10 = ν[:10]\n",
    "ν_5 = ν[:5]\n"
   ],
   "outputs": [],
   "metadata": {}
  },
  {
   "cell_type": "code",
   "execution_count": 79,
   "source": [
    "# run arnoldi_convergence function \n",
    "errors_m4_n50 = list(arnoldi_convergence(λ_50,ν_50,50))\n",
    "errors_m4_n20 = list(arnoldi_convergence(λ_20,ν_20,20)) \n",
    "errors_m4_n10 = list(arnoldi_convergence(λ_10,ν_10,10))\n",
    "errors_m4_n5 = list(arnoldi_convergence(λ_5,ν_5,5))"
   ],
   "outputs": [],
   "metadata": {}
  },
  {
   "cell_type": "code",
   "execution_count": 80,
   "source": [
    "errors_m4_n50.sort(reverse=True)\n",
    "errors_m4_n20.sort(reverse=True)\n",
    "errors_m4_n10.sort(reverse=True)\n",
    "errors_m4_n5.sort(reverse=True)"
   ],
   "outputs": [],
   "metadata": {}
  },
  {
   "cell_type": "code",
   "execution_count": 81,
   "source": [
    "import matplotlib.pyplot as plt\n",
    "import numpy as np\n",
    "font1 = {'family':'serif','color':'black','size':12}\n",
    "\n",
    "xpoints = list(range(0,len(errors_m4_n50)))\n",
    "ypoints = errors_m4_n50\n",
    "xpoints2 = list(range(0,len(errors_m4_n20)))\n",
    "ypoints2 = errors_m4_n20\n",
    "xpoints3 = list(range(0,len(errors_m4_n10)))\n",
    "ypoints3 = errors_m4_n10\n",
    "xpoints4 = list(range(0,len(errors_m4_n5)))\n",
    "ypoints4 = errors_m4_n5\n",
    "#plt.ticklabel_format(style='sci',scilimits=(-3,4),axis='y')\n",
    "plt.plot(xpoints, ypoints,label = \"n = 50\")\n",
    "plt.plot(xpoints2, ypoints2,label = \"n = 20\")\n",
    "plt.plot(xpoints3, ypoints3,label = \"n = 10\")\n",
    "plt.plot(xpoints4, ypoints4,label = \"n = 5\")\n",
    "#plt.yscale('symlog', linthreshy=0.01)\n",
    "#plt.yscale('log')\n",
    "plt.legend()\n",
    "plt.title(\"convergence of Arnoldi - M4\", fontdict = font1,loc = 'center')\n",
    "plt.xlabel(\"# iterations\", fontdict = font1)\n",
    "plt.ylabel(\"eigenvalue absolute error\", fontdict = font1)\n",
    "plt.grid(color = 'green', linestyle = '--', linewidth = 0.5)\n",
    "plt.show()\n",
    "plt.savefig('M4.png')\n"
   ],
   "outputs": [
    {
     "output_type": "display_data",
     "data": {
      "image/png": "[encoded data removed]",
      "text/plain": [
       "<Figure size 432x288 with 1 Axes>"
      ]
     },
     "metadata": {
      "needs_background": "light"
     }
    },
    {
     "output_type": "display_data",
     "data": {
      "text/plain": [
       "<Figure size 432x288 with 0 Axes>"
      ]
     },
     "metadata": {}
    }
   ],
   "metadata": {}
  },
  {
   "cell_type": "markdown",
   "source": [
    "## M5 - Matrix Test"
   ],
   "metadata": {}
  },
  {
   "cell_type": "code",
   "execution_count": 49,
   "source": [
    "print(\"############# Test-5 ############\")\n",
    "prod = func_2(M5)\n",
    "    \n",
    "# Initialize the Arnoldi algorithm.\n",
    "arnoldi_norm_m5 = arnoldi_norm(prod,x0_m5,30) \n",
    "    \n",
    "# Run the algorithm.\n",
    "matrix_norm_m5,Iterative_convergence_m5 , λ_m5 = arnoldi_norm_m5.arnoldi_norm() \n",
    "\n",
    "    \n",
    "true_norm = np.sqrt(np.linalg.norm(prod, ord=2))\n",
    "table(matrix_norm_m5,true_norm,Iterative_convergence_m5)"
   ],
   "outputs": [
    {
     "output_type": "stream",
     "name": "stdout",
     "text": [
      "############# Test-5 ############\n",
      "+---------------------------+-------------------+\n",
      "|          Field 1          |      Field 2      |\n",
      "+---------------------------+-------------------+\n",
      "| Computed matrix norm ‖A‖₂ | 22.61928410153118 |\n",
      "|       True norm ‖A‖₂      | 22.61927388568159 |\n",
      "|   Iterative convergence   |         29        |\n",
      "+---------------------------+-------------------+\n"
     ]
    }
   ],
   "metadata": {}
  },
  {
   "cell_type": "code",
   "execution_count": 50,
   "source": [
    "%%timeit -r 10\n",
    "# Measuring running time\n",
    "arnoldi_norm_m5.arnoldi_norm()"
   ],
   "outputs": [
    {
     "output_type": "stream",
     "name": "stdout",
     "text": [
      "3.64 s ± 71.9 ms per loop (mean ± std. dev. of 10 runs, 1 loop each)\n"
     ]
    }
   ],
   "metadata": {}
  },
  {
   "cell_type": "code",
   "execution_count": 51,
   "source": [
    "%%timeit -r 10\n",
    "# Measuring running time\n",
    "np.sqrt(np.linalg.norm(prod, ord=2))"
   ],
   "outputs": [
    {
     "output_type": "stream",
     "name": "stdout",
     "text": [
      "1.13 ms ± 91.6 µs per loop (mean ± std. dev. of 10 runs, 1000 loops each)\n"
     ]
    }
   ],
   "metadata": {}
  },
  {
   "cell_type": "markdown",
   "source": [
    "## M5 - Arnoldi convergence rates "
   ],
   "metadata": {}
  },
  {
   "cell_type": "code",
   "execution_count": 53,
   "source": [
    "# Ritz values λ for n diffrent values \n",
    "H_30 = arnoldi_iteration(prod, x0_m5, 30)\n",
    "λ_30 = list( QR_algorithm(H_50))\n",
    "# n = 30\n",
    "H_20 = arnoldi_iteration(prod, x0_m5, 20)\n",
    "λ_20 = list( QR_algorithm(H_20))\n",
    "# n = 10\n",
    "H_10 = arnoldi_iteration(prod, x0_m5, 10)\n",
    "λ_10 = list( QR_algorithm(H_10))\n",
    "# n = 5\n",
    "H_5 = arnoldi_iteration(prod, x0_m5, 5)\n",
    "λ_5 = list( QR_algorithm(H_5))"
   ],
   "outputs": [],
   "metadata": {}
  },
  {
   "cell_type": "code",
   "execution_count": 54,
   "source": [
    "# exact eigenvalues ν \n",
    "from numpy.linalg import eig\n",
    "ν,w =eig(prod) \n",
    "ν = list(ν.real)\n",
    "ν_30 = ν[:30]\n",
    "ν_20 = ν[:20]\n",
    "ν_10 = ν[:10]\n",
    "ν_5 = ν[:5]\n"
   ],
   "outputs": [],
   "metadata": {}
  },
  {
   "cell_type": "code",
   "execution_count": 55,
   "source": [
    "# run arnoldi_convergence function \n",
    "errors_m5_n30 = list(arnoldi_convergence(λ_30,ν_30,30))\n",
    "errors_m5_n20 = list(arnoldi_convergence(λ_20,ν_20,20)) \n",
    "errors_m5_n10 = list(arnoldi_convergence(λ_10,ν_10,10))\n",
    "errors_m5_n5 = list(arnoldi_convergence(λ_5,ν_5,5))"
   ],
   "outputs": [],
   "metadata": {}
  },
  {
   "cell_type": "code",
   "execution_count": 56,
   "source": [
    "errors_m5_n30.sort(reverse=True)\n",
    "errors_m5_n20.sort(reverse=True)\n",
    "errors_m5_n10.sort(reverse=True)\n",
    "errors_m5_n5.sort(reverse=True)"
   ],
   "outputs": [],
   "metadata": {}
  },
  {
   "cell_type": "code",
   "execution_count": 82,
   "source": [
    "import matplotlib.pyplot as plt\n",
    "import numpy as np\n",
    "font1 = {'family':'serif','color':'black','size':12}\n",
    "\n",
    "xpoints = list(range(0,len(errors_m5_n30)))\n",
    "ypoints = errors_m5_n30\n",
    "xpoints2 = list(range(0,len(errors_m5_n20)))\n",
    "ypoints2 = errors_m5_n20\n",
    "xpoints3 = list(range(0,len(errors_m5_n10)))\n",
    "ypoints3 = errors_m5_n10\n",
    "xpoints4 = list(range(0,len(errors_m5_n5)))\n",
    "ypoints4 = errors_m5_n5\n",
    "#plt.ticklabel_format(style='sci',scilimits=(-3,4),axis='y')\n",
    "plt.plot(xpoints, ypoints,label = \"n = 50\")\n",
    "plt.plot(xpoints2, ypoints2,label = \"n = 20\")\n",
    "plt.plot(xpoints3, ypoints3,label = \"n = 10\")\n",
    "plt.plot(xpoints4, ypoints4,label = \"n = 5\")\n",
    "#plt.yscale('symlog', linthreshy=0.01)\n",
    "#plt.yscale('log')\n",
    "plt.legend()\n",
    "plt.title(\"convergence of Arnoldi - M5\", fontdict = font1,loc = 'center')\n",
    "plt.xlabel(\"# iterations\", fontdict = font1)\n",
    "plt.ylabel(\"eigenvalue absolute error\", fontdict = font1)\n",
    "plt.grid(color = 'green', linestyle = '--', linewidth = 0.5)\n",
    "plt.show()\n",
    "plt.savefig('M5.png')"
   ],
   "outputs": [
    {
     "output_type": "display_data",
     "data": {
      "image/png": "[encoded data removed]",
      "text/plain": [
       "<Figure size 432x288 with 1 Axes>"
      ]
     },
     "metadata": {
      "needs_background": "light"
     }
    },
    {
     "output_type": "display_data",
     "data": {
      "text/plain": [
       "<Figure size 432x288 with 0 Axes>"
      ]
     },
     "metadata": {}
    }
   ],
   "metadata": {}
  }
 ],
 "metadata": {
  "kernelspec": {
   "name": "python3",
   "display_name": "Python 3.8.10 64-bit"
  },
  "language_info": {
   "codemirror_mode": {
    "name": "ipython",
    "version": 3
   },
   "file_extension": ".py",
   "mimetype": "text/x-python",
   "name": "python",
   "nbconvert_exporter": "python",
   "pygments_lexer": "ipython3",
   "version": "3.8.10"
  },
  "interpreter": {
   "hash": "31f2aee4e71d21fbe5cf8b01ff0e069b9275f58929596ceb00d14d90e3e16cd6"
  }
 },
 "nbformat": 4,
 "nbformat_minor": 4
}