{
 "cells": [
  {
   "cell_type": "code",
   "execution_count": 8,
   "metadata": {},
   "outputs": [],
   "source": [
    "import numpy as np\n",
    "from arnoldi_iteration import arnoldi_iteration,chope_lastrow,QR_algorithm ,func_\n",
    "from arnoldi_norm import arnoldi_norm "
   ]
  },
  {
   "cell_type": "code",
   "execution_count": 9,
   "metadata": {},
   "outputs": [],
   "source": [
    "# load the matrix\n",
    "M1 = np.loadtxt('../CGD/data/M4.txt')\n",
    "x0_m1 = np.loadtxt('../CGD/data/x0_m4.txt')"
   ]
  },
  {
   "cell_type": "code",
   "execution_count": 10,
   "metadata": {},
   "outputs": [],
   "source": [
    "# calling arnoldi_norm class to fined norm of a matrix \n",
    "# pass number of itration \n",
    "arnoldi_norm = arnoldi_norm(M1,x0_m1,100)  "
   ]
  },
  {
   "cell_type": "code",
   "execution_count": 11,
   "metadata": {},
   "outputs": [],
   "source": [
    "matrix_norm,Iterative_convergence , λ = arnoldi_norm.arnoldi_norm() "
   ]
  },
  {
   "cell_type": "code",
   "execution_count": 12,
   "metadata": {},
   "outputs": [
    {
     "name": "stdout",
     "output_type": "stream",
     "text": [
      "The matrix norm ‖A‖₂ is 19.356959368900437\n",
      "Iterative convergence at 22\n",
      "The approximate eigenvalues of the matrices is [76.11496043918729, 225.91919012674168, 290.34472407989955, 318.4282205005173, 345.2391244645182, 363.432765628401, 370.54031371545034, 372.6763634497293, 373.33454925503, 373.98735916958395, 374.41901814170456, 374.6105677156348, 374.6757759492653, 374.68933068925503, 374.6913982516718, 374.69179513130405, 374.6918618466824, 374.6918734911902, 374.69187570228553, 374.69187597113216, 374.69187600192856, 374.6918760092624]\n"
     ]
    }
   ],
   "source": [
    "print(\"The matrix norm ‖A‖\\u2082 is \"f\"{matrix_norm}\")\n",
    "print(\"Iterative convergence at \" f\"{Iterative_convergence}\")\n",
    "print(\"The approximate eigenvalues of the matrices is \" f\"{λ}\") "
   ]
  },
  {
   "cell_type": "code",
   "execution_count": 10,
   "metadata": {
    "collapsed": true,
    "jupyter": {
     "outputs_hidden": true,
     "source_hidden": true
    }
   },
   "outputs": [
    {
     "data": {
      "text/plain": [
       "'The approximate eigenvalues of the matrices is[76.11496043918729, 225.91919012674168, 290.34472407989955, 318.4282205005173, 345.2391244645182, 363.432765628401, 370.54031371545034, 372.6763634497293, 373.33454925503, 373.98735916958395, 374.41901814170456, 374.6105677156348, 374.6757759492653, 374.68933068925503, 374.6913982516718, 374.69179513130405, 374.6918618466824, 374.6918734911902, 374.69187570228553]'"
      ]
     },
     "execution_count": 10,
     "metadata": {},
     "output_type": "execute_result"
    }
   ],
   "source": [
    "lamda"
   ]
  },
  {
   "cell_type": "code",
   "execution_count": null,
   "metadata": {},
   "outputs": [],
   "source": [
    "Arnoldi convergence rates"
   ]
  }
 ],
 "metadata": {
  "interpreter": {
   "hash": "31f2aee4e71d21fbe5cf8b01ff0e069b9275f58929596ceb00d14d90e3e16cd6"
  },
  "kernelspec": {
   "display_name": "Python 3",
   "language": "python",
   "name": "python3"
  },
  "language_info": {
   "codemirror_mode": {
    "name": "ipython",
    "version": 3
   },
   "file_extension": ".py",
   "mimetype": "text/x-python",
   "name": "python",
   "nbconvert_exporter": "python",
   "pygments_lexer": "ipython3",
   "version": "3.7.6"
  }
 },
 "nbformat": 4,
 "nbformat_minor": 4
}
