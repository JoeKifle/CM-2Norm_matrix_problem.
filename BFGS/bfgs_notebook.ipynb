{
 "cells": [
  {
   "cell_type": "markdown",
   "id": "7d44b9c7-b7b8-46c2-97e1-8406e7a042ab",
   "metadata": {
    "tags": []
   },
   "source": [
    "# BFGS Experimental Notebook"
   ]
  },
  {
   "cell_type": "markdown",
   "id": "11e87192-0c83-45ee-b7da-5492bc037dd1",
   "metadata": {
    "tags": []
   },
   "source": [
    "## Setup"
   ]
  },
  {
   "cell_type": "markdown",
   "id": "da0c4e8e-d851-4c71-b975-68ffee590388",
   "metadata": {
    "tags": []
   },
   "source": [
    "### Imports"
   ]
  },
  {
   "cell_type": "code",
   "execution_count": 1,
   "id": "7d6440bf-fa5a-4483-8c36-220607ed2a31",
   "metadata": {},
   "outputs": [],
   "source": [
    "import numpy as np\n",
    "from numpy import linalg as la\n",
    "from scipy.optimize import line_search as off_shelf_line_search\n",
    "from scipy.optimize import minimize\n",
    "import pandas\n",
    "\n",
    "from bfgs_funcs import Funcs\n",
    "from bfgs import BFGS\n",
    "\n",
    "import matplotlib.pyplot as plt\n",
    "from plotly.subplots import make_subplots\n",
    "import plotly.graph_objects as go"
   ]
  },
  {
   "cell_type": "markdown",
   "id": "1de913ac-04d7-4601-8087-f306eee987d3",
   "metadata": {
    "tags": []
   },
   "source": [
    "### Data Generation"
   ]
  },
  {
   "cell_type": "markdown",
   "id": "d8255bce-b7fc-467a-bca2-70cdde295bd9",
   "metadata": {
    "tags": []
   },
   "source": [
    "#### Load Data"
   ]
  },
  {
   "cell_type": "code",
   "execution_count": 2,
   "id": "ac0d9440-ad0b-49bb-a511-86ce883d7529",
   "metadata": {},
   "outputs": [],
   "source": [
    "# load the matrix\n",
    "M1 = np.loadtxt('../data/M1.txt')\n",
    "x0_m1 = np.loadtxt('../data/x0_m1.txt')\n",
    "M2 = np.loadtxt('../data/M2.txt')\n",
    "x0_m2 = np.loadtxt('../data/x0_m2.txt')\n",
    "M3 = np.loadtxt('../data/M3.txt')\n",
    "x0_m3 = np.loadtxt('../data/x0_m3.txt')\n",
    "M4 = np.loadtxt('../data/M4.txt')\n",
    "x0_m4 = np.loadtxt('../data/x0_m4.txt')\n",
    "M5 = np.loadtxt('../data/M5.txt')\n",
    "x0_m5 = np.loadtxt('../data/x0_m5.txt')"
   ]
  },
  {
   "cell_type": "code",
   "execution_count": 3,
   "id": "06b2b539-9019-435b-817a-458998e802c4",
   "metadata": {},
   "outputs": [
    {
     "data": {
      "text/plain": [
       "((1000, 1000), (10000, 100), (100, 1000), (100, 100), (1000, 100))"
      ]
     },
     "execution_count": 3,
     "metadata": {},
     "output_type": "execute_result"
    }
   ],
   "source": [
    "M1.shape, M2.shape, M3.shape, M4.shape, M5.shape"
   ]
  },
  {
   "cell_type": "markdown",
   "id": "834eefdb-59e1-4d7d-ab7f-0bb722a094d5",
   "metadata": {
    "tags": []
   },
   "source": [
    "### Utils Functions"
   ]
  },
  {
   "cell_type": "code",
   "execution_count": 4,
   "id": "c3970d23-0c6b-4781-81ed-c06da09f4814",
   "metadata": {},
   "outputs": [],
   "source": [
    "def error_report(matrix, fx, residuals, errors, max_iter = 1000, plot=False):\n",
    "    computed_norm = np.sqrt(- fx)\n",
    "    correct_norm = la.norm(matrix, 2)\n",
    "    # error = abs(correct_norm - computed_norm)\n",
    "    error = (correct_norm - computed_norm)/abs(correct_norm)\n",
    "    \n",
    "    num_iterations = len(residuals)\n",
    "    if num_iterations != max_iter:\n",
    "        print(\"Convergence reached in \" + str(num_iterations) + \" iterations\")\n",
    "    else:\n",
    "        print(\"Convergence not reached\")\n",
    "\n",
    "    print(\"Computed Norm: \" + str(computed_norm))\n",
    "    print(\"True Norm: \" + str(correct_norm))\n",
    "    print(\"Error: \" + str(error))\n",
    "    \n",
    "    if plot:\n",
    "        fig = make_subplots(rows=1, cols=2, shared_xaxes=False)\n",
    "        fig.add_trace( go.Scatter(x=list(range(0,len(errors))), y=errors,name=\"Errors\"),\n",
    "            row=1, col=1)\n",
    "        fig.add_trace(\n",
    "            go.Scatter(x=list(range(0,len(residuals))), y=residuals,name=\"Residuals\"), row=1, col=2\n",
    "        )\n",
    "        fig.update_xaxes(title_text=\"Iterations\", row=1, col=1)\n",
    "        fig.update_yaxes(title_text=\"Error\", row=1, col=1)\n",
    "        fig.update_xaxes(title_text=\"Iterations\", row=1, col=2)\n",
    "        fig.update_yaxes(title_text=\"Residual\", row=1, col=2)\n",
    "        fig.update_layout(height=500, width=1000,title_text=\"Residual and Error plot\").show()"
   ]
  },
  {
   "cell_type": "code",
   "execution_count": 5,
   "id": "7d7baf86-c7f7-4fd1-817e-ab9b4ade9c6c",
   "metadata": {},
   "outputs": [],
   "source": [
    "def run_bfgs(matrix, starting_point, c1=1e-4, c2=0.9, alg_method='O', ls_method='W', max_iter=1000, verbose=False, plot=False, return_arrays=False):\n",
    "    funcs = Funcs(matrix)\n",
    "    matrix_norm = la.norm(matrix, 2)\n",
    "    B0 = np.identity(matrix.shape[1])\n",
    "    \n",
    "    if ls_method == 'W':\n",
    "        line_search_args = {'c1': c1, 'c2': c2}\n",
    "    else:\n",
    "        line_search_args = {'c1': c1}\n",
    "        \n",
    "    line_search_method = funcs.line_search_methods[ls_method]\n",
    "\n",
    "    # Initialize the BFGS algorithm.\n",
    "    bfgs = BFGS(matrix_norm, funcs.func_, funcs.func_grad_, line_search_method, starting_point, B0, tol=1e-5, max_iter=max_iter, method=alg_method, line_search_args=line_search_args, verbose=verbose)\n",
    "\n",
    "    # Run the algorithm.\n",
    "    residuals, errors, result = bfgs.bfgs()\n",
    "\n",
    "    # Evalutate Performance of the Single Run\n",
    "    error_report(matrix, result, residuals, errors, max_iter=max_iter, plot=plot)\n",
    "    \n",
    "    if return_arrays:\n",
    "        return bfgs, residuals, errors\n",
    "    return bfgs"
   ]
  },
  {
   "cell_type": "code",
   "execution_count": 6,
   "id": "b5d7afb4-5976-46a0-8d90-fa9c5fa04bba",
   "metadata": {},
   "outputs": [],
   "source": [
    "def off_shelf_opt(matrix, vector, method='BFGS'):\n",
    "    funcs = Funcs(matrix)\n",
    "    res = minimize(funcs.func_, vector, method=method, jac=funcs.func_grad_, tol=1e-5, options={'gtol': 1e-6, 'disp': False})\n",
    "    fx = res.fun\n",
    "    \n",
    "    num_iterations = res.nit\n",
    "    if res.success:\n",
    "        print(\"Convergence reached in \" + str(num_iterations) + \" iterations\")\n",
    "    else:\n",
    "        print(\"Convergence not reached\")\n",
    "    \n",
    "    computed_norm = np.sqrt(-fx)\n",
    "    correct_norm = la.norm(matrix, 2)\n",
    "    error = abs(correct_norm - computed_norm)/correct_norm\n",
    "    \n",
    "    print(\"Computed Norm: \" + str(computed_norm))\n",
    "    print(\"True Norm: \" + str(correct_norm))\n",
    "    print(\"Error: \" + str(error))"
   ]
  },
  {
   "cell_type": "code",
   "execution_count": 7,
   "id": "b6f2bc95-f382-4b38-97a4-0c2621a0c18c",
   "metadata": {},
   "outputs": [],
   "source": [
    "labels_list = [\"Wolfe_A\", \"Wolfe_B\", \"Armijo_A\", \"Armijo_B\"]\n",
    "#colors = [\"red\", \"orange\", \"blue\", \"purple\"]\n",
    "#linestyles = [\"-\", \"--\", (0, (1, 1)), \":\"]\n",
    "\n",
    "def plot_summary(errors_list, residuals_list, labels_list, matrix_name, method_name):\n",
    "    font = {'family':'serif','color':'black','size':10}\n",
    "    \n",
    "    fig, axs = plt.subplots(1, 2, figsize=(10, 4))\n",
    "    for i in range(len(errors_list)):\n",
    "        x = list(range(len(errors_list[i])))\n",
    "        #axs[0].plot(x, errors_list[i], label = labels_list[i], alpha=0.5, c=colors[i], linestyle=linestyles[i])\n",
    "        #axs[1].plot(x, residuals_list[i], label = labels_list[i], alpha=0.5, c=colors[i], linestyle=linestyles[i])\n",
    "        axs[0].plot(x, errors_list[i], label = labels_list[i])\n",
    "        axs[1].plot(x, residuals_list[i], label = labels_list[i])\n",
    "    \n",
    "    axs[0].legend()\n",
    "    axs[1].legend()\n",
    "    axs[0].set_yscale('log')\n",
    "    axs[1].set_yscale('log')\n",
    "    axs[0].set_xlabel(\"Iterations\")\n",
    "    axs[0].set_ylabel(\"Error\")\n",
    "    axs[1].set_xlabel(\"Iterations\")\n",
    "    axs[1].set_ylabel(\"Residual\")\n",
    "    fig.suptitle(matrix_name + \" \" + method_name + \" Residual and Error plot\")"
   ]
  },
  {
   "cell_type": "markdown",
   "id": "1748f3b8-2972-4b66-add9-6f46c5935dac",
   "metadata": {
    "tags": []
   },
   "source": [
    "## M1 Matrix"
   ]
  },
  {
   "cell_type": "markdown",
   "id": "be01d1df-3a6c-40e1-8492-bb63635fe2ea",
   "metadata": {
    "tags": []
   },
   "source": [
    "### Original BFGS"
   ]
  },
  {
   "cell_type": "code",
   "execution_count": 8,
   "id": "9cd07d02-9911-4530-8523-84ec85f0963d",
   "metadata": {},
   "outputs": [],
   "source": [
    "o_m1_errors_list = []\n",
    "o_m1_residuals_list = []"
   ]
  },
  {
   "cell_type": "markdown",
   "id": "e89c9412-dc02-4995-a567-ebc141a20045",
   "metadata": {
    "tags": []
   },
   "source": [
    "#### Base performance with loaded starting point (Wolfe-type line search)"
   ]
  },
  {
   "cell_type": "code",
   "execution_count": 9,
   "id": "61078256-e569-4db5-8a4e-8c87673db083",
   "metadata": {},
   "outputs": [
    {
     "name": "stdout",
     "output_type": "stream",
     "text": [
      "Convergence reached in 357 iterations\n",
      "Computed Norm: 72.40864404748751\n",
      "True Norm: 72.40864404756118\n",
      "Error: 1.0174071316018306e-12\n"
     ]
    }
   ],
   "source": [
    "w_o_m1_bfgs_a, w_o_m1_residuals_a, w_o_m1_errors_a = run_bfgs(M1, x0_m1, alg_method='O', ls_method='W', c1=1e-4, c2=0.9, return_arrays=True)\n",
    "o_m1_errors_list.append(w_o_m1_errors_a)\n",
    "o_m1_residuals_list.append(w_o_m1_residuals_a)"
   ]
  },
  {
   "cell_type": "code",
   "execution_count": 10,
   "id": "661c97d8-8935-4eea-b641-269a6d1f23d3",
   "metadata": {},
   "outputs": [
    {
     "name": "stdout",
     "output_type": "stream",
     "text": [
      "Convergence reached in 232 iterations\n",
      "Computed Norm: 72.40864404748648\n",
      "True Norm: 72.40864404756118\n",
      "Error: 1.0317340452991558e-12\n"
     ]
    }
   ],
   "source": [
    "w_o_m1_bfgs_b, w_o_m1_residuals_b, w_o_m1_errors_b = run_bfgs(M1, x0_m1, alg_method='O', ls_method='W', c1=0.1, c2=0.49, return_arrays=True)\n",
    "o_m1_errors_list.append(w_o_m1_errors_b)\n",
    "o_m1_residuals_list.append(w_o_m1_residuals_b)"
   ]
  },
  {
   "cell_type": "markdown",
   "id": "8644332b-0449-4ba1-8b03-efda63ed6a72",
   "metadata": {
    "tags": []
   },
   "source": [
    "#### Base performance with loaded starting point (Armijo-type line search)"
   ]
  },
  {
   "cell_type": "code",
   "execution_count": 11,
   "id": "d2bffa1d-5c8a-485a-b4a5-75848c53da21",
   "metadata": {},
   "outputs": [
    {
     "name": "stdout",
     "output_type": "stream",
     "text": [
      "Convergence reached in 357 iterations\n",
      "Computed Norm: 72.4086440474897\n",
      "True Norm: 72.40864404756118\n",
      "Error: 9.871832314732268e-13\n"
     ]
    }
   ],
   "source": [
    "a_o_m1_bfgs_a, a_o_m1_residuals_a, a_o_m1_errors_a = run_bfgs(M1, x0_m1, alg_method='O', ls_method='A', c1=1e-4, return_arrays=True)\n",
    "o_m1_errors_list.append(a_o_m1_errors_a)\n",
    "o_m1_residuals_list.append(a_o_m1_residuals_a)"
   ]
  },
  {
   "cell_type": "code",
   "execution_count": 12,
   "id": "0773d351-f8bf-4f59-a83d-15b72bae9a81",
   "metadata": {},
   "outputs": [
    {
     "name": "stdout",
     "output_type": "stream",
     "text": [
      "Convergence reached in 357 iterations\n",
      "Computed Norm: 72.4086440474897\n",
      "True Norm: 72.40864404756118\n",
      "Error: 9.871832314732268e-13\n"
     ]
    }
   ],
   "source": [
    "a_o_m1_bfgs_b, a_o_m1_residuals_b, a_o_m1_errors_b = run_bfgs(M1, x0_m1, alg_method='O', ls_method='A', c1=0.1, return_arrays=True)\n",
    "o_m1_errors_list.append(a_o_m1_errors_b)\n",
    "o_m1_residuals_list.append(a_o_m1_residuals_b)"
   ]
  },
  {
   "cell_type": "markdown",
   "id": "7b1ce0d4-565f-44d1-9e06-0983e96fbb8c",
   "metadata": {
    "tags": []
   },
   "source": [
    "#### Summary for Original BFGS"
   ]
  },
  {
   "cell_type": "code",
   "execution_count": 13,
   "id": "afea2e16-d2bc-4554-b5bb-ec15dcfa269e",
   "metadata": {},
   "outputs": [
    {
     "data": {
      "image/png": "[encoded data removed]",
      "text/plain": [
       "<Figure size 720x288 with 2 Axes>"
      ]
     },
     "metadata": {
      "needs_background": "light"
     },
     "output_type": "display_data"
    }
   ],
   "source": [
    "plot_summary(o_m1_errors_list, o_m1_residuals_list, labels_list, \"M1\", \"BFGS\")"
   ]
  },
  {
   "cell_type": "markdown",
   "id": "437173b4-a7e0-49a1-b148-09bf81f375f3",
   "metadata": {
    "tags": []
   },
   "source": [
    "#### Average runtime over 10 runs (Wolfe-type line search)"
   ]
  },
  {
   "cell_type": "code",
   "execution_count": 14,
   "id": "e82781e4-4ab6-41a7-990e-d77614a5485d",
   "metadata": {},
   "outputs": [
    {
     "name": "stdout",
     "output_type": "stream",
     "text": [
      "23.1 s ± 1.23 s per loop (mean ± std. dev. of 10 runs, 1 loop each)\n"
     ]
    }
   ],
   "source": [
    "%%timeit -r 10\n",
    "# Measuring running time\n",
    "w_o_m1_bfgs_a.bfgs()"
   ]
  },
  {
   "cell_type": "code",
   "execution_count": 15,
   "id": "8da1e288-5b79-43c4-90fe-69254d078d53",
   "metadata": {},
   "outputs": [
    {
     "name": "stdout",
     "output_type": "stream",
     "text": [
      "15.5 s ± 661 ms per loop (mean ± std. dev. of 10 runs, 1 loop each)\n"
     ]
    }
   ],
   "source": [
    "%%timeit -r 10\n",
    "# Measuring running time\n",
    "w_o_m1_bfgs_b.bfgs()"
   ]
  },
  {
   "cell_type": "markdown",
   "id": "5cf1727c-a202-40d1-a534-a88ee90105f4",
   "metadata": {
    "tags": []
   },
   "source": [
    "#### Average runtime over 10 runs (Armijo-type line search)"
   ]
  },
  {
   "cell_type": "code",
   "execution_count": 16,
   "id": "677fe62b-f715-4fb4-b71b-4c0ac56db35f",
   "metadata": {},
   "outputs": [
    {
     "name": "stdout",
     "output_type": "stream",
     "text": [
      "21.2 s ± 968 ms per loop (mean ± std. dev. of 10 runs, 1 loop each)\n"
     ]
    }
   ],
   "source": [
    "%%timeit -r 10\n",
    "# Measuring running time\n",
    "a_o_m1_bfgs_a.bfgs()"
   ]
  },
  {
   "cell_type": "code",
   "execution_count": 17,
   "id": "6571e322-6fae-4d84-a3b8-ab69f56ee1e4",
   "metadata": {},
   "outputs": [
    {
     "name": "stdout",
     "output_type": "stream",
     "text": [
      "20.9 s ± 606 ms per loop (mean ± std. dev. of 10 runs, 1 loop each)\n"
     ]
    }
   ],
   "source": [
    "%%timeit -r 10\n",
    "# Measuring running time\n",
    "a_o_m1_bfgs_b.bfgs()"
   ]
  },
  {
   "cell_type": "markdown",
   "id": "5d628da2-e2fc-48fd-822f-facb65bcae96",
   "metadata": {
    "tags": []
   },
   "source": [
    "#### Comparison with off-shelf BFGS minimizer"
   ]
  },
  {
   "cell_type": "code",
   "execution_count": 18,
   "id": "a430ab1c-d53a-4234-a732-df86437dc480",
   "metadata": {},
   "outputs": [
    {
     "name": "stdout",
     "output_type": "stream",
     "text": [
      "Convergence reached in 422 iterations\n",
      "Computed Norm: 72.40864404749024\n",
      "True Norm: 72.40864404756118\n",
      "Error: 9.79725385986948e-13\n"
     ]
    }
   ],
   "source": [
    "off_shelf_opt(M1, x0_m1)\n",
    "funcs = Funcs(M1)"
   ]
  },
  {
   "cell_type": "code",
   "execution_count": 19,
   "id": "7835b249-40ce-4cc5-b669-b7ac1b2c13ce",
   "metadata": {},
   "outputs": [
    {
     "name": "stdout",
     "output_type": "stream",
     "text": [
      "28.7 s ± 1.22 s per loop (mean ± std. dev. of 10 runs, 1 loop each)\n"
     ]
    }
   ],
   "source": [
    "%%timeit -r 10\n",
    "# Measuring running time\n",
    "minimize(funcs.func_, x0_m1, method='BFGS', jac=funcs.func_grad_, options={'gtol': 1e-6, 'disp': False})"
   ]
  },
  {
   "cell_type": "markdown",
   "id": "478ffa1f-3975-40f6-abbf-394ec11279fa",
   "metadata": {
    "tags": []
   },
   "source": [
    "#### Comparison with off-shelf norm function"
   ]
  },
  {
   "cell_type": "code",
   "execution_count": 20,
   "id": "d421fe78-1545-4f97-9a04-43526ec1d79e",
   "metadata": {},
   "outputs": [
    {
     "name": "stdout",
     "output_type": "stream",
     "text": [
      "128 ms ± 14.5 ms per loop (mean ± std. dev. of 10 runs, 10 loops each)\n"
     ]
    }
   ],
   "source": [
    "%%timeit -r 10\n",
    "# Measuring running time\n",
    "la.norm(M1, 2)"
   ]
  },
  {
   "cell_type": "markdown",
   "id": "70784920-bc21-4be8-8d6c-f9b52bdac44f",
   "metadata": {
    "tags": []
   },
   "source": [
    "### Cautious BFGS"
   ]
  },
  {
   "cell_type": "code",
   "execution_count": 21,
   "id": "ea82bb96-2fef-4420-bd0f-33ab0513b76c",
   "metadata": {},
   "outputs": [],
   "source": [
    "c_m1_errors_list = []\n",
    "c_m1_residuals_list = []"
   ]
  },
  {
   "cell_type": "markdown",
   "id": "f6406f77-090f-46b7-88b8-5802fa1631bb",
   "metadata": {
    "tags": []
   },
   "source": [
    "#### Base performance with loaded starting point (Wolfe-type line search)"
   ]
  },
  {
   "cell_type": "code",
   "execution_count": 22,
   "id": "da4bcef5-eeb3-4c9e-a115-a8d2ac2c1769",
   "metadata": {},
   "outputs": [
    {
     "name": "stdout",
     "output_type": "stream",
     "text": [
      "Convergence reached in 124 iterations\n",
      "Computed Norm: 72.40864404755862\n",
      "True Norm: 72.40864404756118\n",
      "Error: 3.532663651395245e-14\n"
     ]
    }
   ],
   "source": [
    "w_c_m1_bfgs_a, w_c_m1_residuals_a, w_c_m1_errors_a = run_bfgs(M1, x0_m1, alg_method='C', ls_method='W', c1=1e-4, c2=0.9, return_arrays=True)\n",
    "c_m1_errors_list.append(w_c_m1_errors_a)\n",
    "c_m1_residuals_list.append(w_c_m1_residuals_a)"
   ]
  },
  {
   "cell_type": "code",
   "execution_count": 23,
   "id": "4d10a0c1-34ae-455b-bd5a-e8f862096cf1",
   "metadata": {},
   "outputs": [
    {
     "name": "stdout",
     "output_type": "stream",
     "text": [
      "Convergence reached in 131 iterations\n",
      "Computed Norm: 72.40864404755564\n",
      "True Norm: 72.40864404756118\n",
      "Error: 7.654104578023031e-14\n"
     ]
    }
   ],
   "source": [
    "w_c_m1_bfgs_b, w_c_m1_residuals_b, w_c_m1_errors_b = run_bfgs(M1, x0_m1, alg_method='C', ls_method='W', c1=0.1, c2=0.49, return_arrays=True)\n",
    "c_m1_errors_list.append(w_c_m1_errors_b)\n",
    "c_m1_residuals_list.append(w_c_m1_residuals_b)"
   ]
  },
  {
   "cell_type": "markdown",
   "id": "2c8131b9-bd24-4692-9eb6-45bf5f64770a",
   "metadata": {
    "tags": []
   },
   "source": [
    "#### Base performance with loaded starting point (Armijo-type line search)"
   ]
  },
  {
   "cell_type": "code",
   "execution_count": 24,
   "id": "181ea605-4ca7-415f-87d3-d4f7872b633d",
   "metadata": {},
   "outputs": [
    {
     "name": "stdout",
     "output_type": "stream",
     "text": [
      "Convergence reached in 158 iterations\n",
      "Computed Norm: 72.40864404755885\n",
      "True Norm: 72.40864404756118\n",
      "Error: 3.2186491046045565e-14\n"
     ]
    }
   ],
   "source": [
    "a_c_m1_bfgs_a, a_c_m1_residuals_a, a_c_m1_errors_a = run_bfgs(M1, x0_m1, alg_method='C', ls_method='A', c1=1e-4, return_arrays=True)\n",
    "c_m1_errors_list.append(a_c_m1_errors_a)\n",
    "c_m1_residuals_list.append(a_c_m1_residuals_a)"
   ]
  },
  {
   "cell_type": "code",
   "execution_count": 25,
   "id": "b7e89100-288a-48b6-8d5c-28be7409f854",
   "metadata": {},
   "outputs": [
    {
     "name": "stdout",
     "output_type": "stream",
     "text": [
      "Convergence reached in 158 iterations\n",
      "Computed Norm: 72.40864404755885\n",
      "True Norm: 72.40864404756118\n",
      "Error: 3.2186491046045565e-14\n"
     ]
    }
   ],
   "source": [
    "a_c_m1_bfgs_b, a_c_m1_residuals_b, a_c_m1_errors_b = run_bfgs(M1, x0_m1, alg_method='C', ls_method='A', c1=0.1, return_arrays=True)\n",
    "c_m1_errors_list.append(a_c_m1_errors_b)\n",
    "c_m1_residuals_list.append(a_c_m1_residuals_b)"
   ]
  },
  {
   "cell_type": "markdown",
   "id": "92a93181-08bd-4c1d-b36d-23b3a8bb299e",
   "metadata": {},
   "source": [
    "#### Summary for Cautious BFGS"
   ]
  },
  {
   "cell_type": "code",
   "execution_count": 26,
   "id": "d2b82fe5-f029-4b5f-a8ff-07f8de729015",
   "metadata": {},
   "outputs": [
    {
     "data": {
      "image/png": "[encoded data removed]",
      "text/plain": [
       "<Figure size 720x288 with 2 Axes>"
      ]
     },
     "metadata": {
      "needs_background": "light"
     },
     "output_type": "display_data"
    }
   ],
   "source": [
    "plot_summary(c_m1_errors_list, c_m1_residuals_list, labels_list, \"M1\", \"C-BFGS\")"
   ]
  },
  {
   "cell_type": "markdown",
   "id": "98a4809f-d855-4360-85d8-f8ef5b07e019",
   "metadata": {
    "tags": []
   },
   "source": [
    "#### Average runtime over 10 runs (Wolfe-type line search)"
   ]
  },
  {
   "cell_type": "code",
   "execution_count": 27,
   "id": "b9d8e48f-e3ca-45b4-b612-71f6bffc6c6a",
   "metadata": {},
   "outputs": [
    {
     "name": "stdout",
     "output_type": "stream",
     "text": [
      "6.59 s ± 238 ms per loop (mean ± std. dev. of 10 runs, 1 loop each)\n"
     ]
    }
   ],
   "source": [
    "%%timeit -r 10\n",
    "# Measuring running time\n",
    "w_c_m1_bfgs_a.bfgs()"
   ]
  },
  {
   "cell_type": "code",
   "execution_count": 28,
   "id": "94457357-f1da-4caf-94c0-3721b3aacbce",
   "metadata": {},
   "outputs": [
    {
     "name": "stdout",
     "output_type": "stream",
     "text": [
      "7.44 s ± 357 ms per loop (mean ± std. dev. of 10 runs, 1 loop each)\n"
     ]
    }
   ],
   "source": [
    "%%timeit -r 10\n",
    "# Measuring running time\n",
    "w_c_m1_bfgs_b.bfgs()"
   ]
  },
  {
   "cell_type": "markdown",
   "id": "b6b6ddd2-ebd5-46f6-b3a7-7e588f11b7b7",
   "metadata": {
    "tags": []
   },
   "source": [
    "#### Average runtime over 10 runs (Armijo-type line search)"
   ]
  },
  {
   "cell_type": "code",
   "execution_count": 29,
   "id": "2db1bd97-035a-4ec6-ad74-7efc957e5f15",
   "metadata": {},
   "outputs": [
    {
     "name": "stdout",
     "output_type": "stream",
     "text": [
      "6.02 s ± 246 ms per loop (mean ± std. dev. of 10 runs, 1 loop each)\n"
     ]
    }
   ],
   "source": [
    "%%timeit -r 10\n",
    "# Measuring running time\n",
    "a_c_m1_bfgs_a.bfgs()"
   ]
  },
  {
   "cell_type": "code",
   "execution_count": 30,
   "id": "d4c69017-488a-45ec-aaf2-a4cefb419a6f",
   "metadata": {},
   "outputs": [
    {
     "name": "stdout",
     "output_type": "stream",
     "text": [
      "6.41 s ± 310 ms per loop (mean ± std. dev. of 10 runs, 1 loop each)\n"
     ]
    }
   ],
   "source": [
    "%%timeit -r 10\n",
    "# Measuring running time\n",
    "a_c_m1_bfgs_b.bfgs()"
   ]
  },
  {
   "cell_type": "markdown",
   "id": "3ba3d185-e7d1-4908-b7d5-1bd2dba10f47",
   "metadata": {
    "tags": []
   },
   "source": [
    "## M2 Matrix"
   ]
  },
  {
   "cell_type": "markdown",
   "id": "3c7dc166-35e8-4663-9334-f36d4f175b3d",
   "metadata": {
    "tags": []
   },
   "source": [
    "### Original BFGS"
   ]
  },
  {
   "cell_type": "code",
   "execution_count": 31,
   "id": "e8e1a06d-e80a-49bb-b205-7e0f4132f458",
   "metadata": {},
   "outputs": [],
   "source": [
    "o_m2_errors_list = []\n",
    "o_m2_residuals_list = []"
   ]
  },
  {
   "cell_type": "markdown",
   "id": "e9a32d52-ddc5-4f82-af7c-955fed840490",
   "metadata": {
    "tags": []
   },
   "source": [
    "#### Base performance with loaded starting point (Wolfe-type line search)"
   ]
  },
  {
   "cell_type": "code",
   "execution_count": 32,
   "id": "dd4343a1-786a-47da-ab05-72dc5bee3cd3",
   "metadata": {},
   "outputs": [
    {
     "name": "stdout",
     "output_type": "stream",
     "text": [
      "Convergence reached in 445 iterations\n",
      "Computed Norm: 109.46751097802967\n",
      "True Norm: 109.46751097963197\n",
      "Error: 1.463724055209941e-11\n"
     ]
    }
   ],
   "source": [
    "w_o_m2_bfgs_a, w_o_m2_residuals_a, w_o_m2_errors_a = run_bfgs(M2, x0_m2, alg_method='O', ls_method='W', c1=1e-4, c2=0.9, return_arrays=True)\n",
    "o_m2_errors_list.append(w_o_m2_errors_a)\n",
    "o_m2_residuals_list.append(w_o_m2_residuals_a)"
   ]
  },
  {
   "cell_type": "code",
   "execution_count": 33,
   "id": "01f99c11-7cc5-4322-9be9-5b1bbe11af90",
   "metadata": {},
   "outputs": [
    {
     "name": "stdout",
     "output_type": "stream",
     "text": [
      "Convergence reached in 164 iterations\n",
      "Computed Norm: 109.467510979565\n",
      "True Norm: 109.46751097963197\n",
      "Error: 6.117024751799739e-13\n"
     ]
    }
   ],
   "source": [
    "w_o_m2_bfgs_b, w_o_m2_residuals_b, w_o_m2_errors_b = run_bfgs(M2, x0_m2, alg_method='O', ls_method='W', c1=0.1, c2=0.49, return_arrays=True)\n",
    "o_m2_errors_list.append(w_o_m2_errors_b)\n",
    "o_m2_residuals_list.append(w_o_m2_residuals_b)"
   ]
  },
  {
   "cell_type": "markdown",
   "id": "236e35bc-12b3-4bd0-bde9-f82cd6a90cc9",
   "metadata": {
    "tags": []
   },
   "source": [
    "#### Base performance with loaded starting point (Armijo-type line search)"
   ]
  },
  {
   "cell_type": "code",
   "execution_count": 34,
   "id": "869a2e02-bcc4-4190-a7cd-a9313e78e598",
   "metadata": {},
   "outputs": [
    {
     "name": "stdout",
     "output_type": "stream",
     "text": [
      "Convergence reached in 440 iterations\n",
      "Computed Norm: 109.46751097793371\n",
      "True Norm: 109.46751097963197\n",
      "Error: 1.5513771772900593e-11\n"
     ]
    }
   ],
   "source": [
    "a_o_m2_bfgs_a, a_o_m2_residuals_a, a_o_m2_errors_a = run_bfgs(M2, x0_m2, alg_method='O', ls_method='A', c1=1e-4, return_arrays=True)\n",
    "o_m2_errors_list.append(a_o_m2_errors_a)\n",
    "o_m2_residuals_list.append(a_o_m2_residuals_a)"
   ]
  },
  {
   "cell_type": "code",
   "execution_count": 35,
   "id": "106f52fe-ae64-4062-9b78-d87c849eb968",
   "metadata": {},
   "outputs": [
    {
     "name": "stdout",
     "output_type": "stream",
     "text": [
      "Convergence reached in 241 iterations\n",
      "Computed Norm: 109.46751097958968\n",
      "True Norm: 109.46751097963197\n",
      "Error: 3.8633840537682563e-13\n"
     ]
    }
   ],
   "source": [
    "a_o_m2_bfgs_b, a_o_m2_residuals_b, a_o_m2_errors_b = run_bfgs(M2, x0_m2, alg_method='O', ls_method='A', c1=0.1, return_arrays=True)\n",
    "o_m2_errors_list.append(a_o_m2_errors_b)\n",
    "o_m2_residuals_list.append(a_o_m2_residuals_b)"
   ]
  },
  {
   "cell_type": "markdown",
   "id": "e2993fb7-d666-49ae-84a8-52ab0652b8de",
   "metadata": {
    "tags": []
   },
   "source": [
    "#### Summary for Original BFGS"
   ]
  },
  {
   "cell_type": "code",
   "execution_count": 36,
   "id": "56bf663c-4722-4688-9a8f-0a04bbd2f9e5",
   "metadata": {},
   "outputs": [
    {
     "data": {
      "image/png": "[encoded data removed]",
      "text/plain": [
       "<Figure size 720x288 with 2 Axes>"
      ]
     },
     "metadata": {
      "needs_background": "light"
     },
     "output_type": "display_data"
    }
   ],
   "source": [
    "plot_summary(o_m2_errors_list, o_m2_residuals_list, labels_list, \"M2\", \"BFGS\")"
   ]
  },
  {
   "cell_type": "markdown",
   "id": "d780d21c-32fc-4803-8c19-18f275e85364",
   "metadata": {
    "tags": []
   },
   "source": [
    "#### Average runtime over 10 runs (Wolfe-type line search)"
   ]
  },
  {
   "cell_type": "code",
   "execution_count": 37,
   "id": "87c42244-bdbb-42d7-9bd5-dd6a9135d2fe",
   "metadata": {},
   "outputs": [
    {
     "name": "stdout",
     "output_type": "stream",
     "text": [
      "161 ms ± 13.6 ms per loop (mean ± std. dev. of 10 runs, 10 loops each)\n"
     ]
    }
   ],
   "source": [
    "%%timeit -r 10\n",
    "# Measuring running time\n",
    "w_o_m2_bfgs_a.bfgs()"
   ]
  },
  {
   "cell_type": "code",
   "execution_count": 38,
   "id": "18f0be0d-ffb5-4435-a08c-212def326ce1",
   "metadata": {},
   "outputs": [
    {
     "name": "stdout",
     "output_type": "stream",
     "text": [
      "70 ms ± 4.57 ms per loop (mean ± std. dev. of 10 runs, 10 loops each)\n"
     ]
    }
   ],
   "source": [
    "%%timeit -r 10\n",
    "# Measuring running time\n",
    "w_o_m2_bfgs_b.bfgs()"
   ]
  },
  {
   "cell_type": "markdown",
   "id": "c5430876-2480-4759-8599-e95180729038",
   "metadata": {
    "tags": []
   },
   "source": [
    "#### Average runtime over 10 runs (Armijo-type line search)"
   ]
  },
  {
   "cell_type": "code",
   "execution_count": 39,
   "id": "e58608cc-b0d1-4c37-a689-f75b818c886f",
   "metadata": {},
   "outputs": [
    {
     "name": "stdout",
     "output_type": "stream",
     "text": [
      "130 ms ± 8.36 ms per loop (mean ± std. dev. of 10 runs, 10 loops each)\n"
     ]
    }
   ],
   "source": [
    "%%timeit -r 10\n",
    "# Measuring running time\n",
    "a_o_m2_bfgs_a.bfgs()"
   ]
  },
  {
   "cell_type": "code",
   "execution_count": 40,
   "id": "98193ed4-c3f6-4ecc-adf3-4ca5857f2262",
   "metadata": {},
   "outputs": [
    {
     "name": "stdout",
     "output_type": "stream",
     "text": [
      "70.7 ms ± 4.84 ms per loop (mean ± std. dev. of 10 runs, 10 loops each)\n"
     ]
    }
   ],
   "source": [
    "%%timeit -r 10\n",
    "# Measuring running time\n",
    "a_o_m2_bfgs_b.bfgs()"
   ]
  },
  {
   "cell_type": "markdown",
   "id": "554a24d7-8714-430b-bfab-7ceb06b1aaaf",
   "metadata": {
    "tags": []
   },
   "source": [
    "#### Comparison with off-shelf BFGS minimizer"
   ]
  },
  {
   "cell_type": "code",
   "execution_count": 41,
   "id": "a569e5c9-31cd-479f-8e48-3fb3716dafad",
   "metadata": {},
   "outputs": [
    {
     "name": "stdout",
     "output_type": "stream",
     "text": [
      "Convergence reached in 78 iterations\n",
      "Computed Norm: 109.43610797258896\n",
      "True Norm: 109.46751097963197\n",
      "Error: 0.00028687056791538523\n"
     ]
    }
   ],
   "source": [
    "off_shelf_opt(M2, x0_m2)\n",
    "funcs = Funcs(M2)"
   ]
  },
  {
   "cell_type": "code",
   "execution_count": 42,
   "id": "6d601546-552a-434b-a5b0-36e1ea27c342",
   "metadata": {},
   "outputs": [
    {
     "name": "stdout",
     "output_type": "stream",
     "text": [
      "21.9 ms ± 1.17 ms per loop (mean ± std. dev. of 10 runs, 10 loops each)\n"
     ]
    }
   ],
   "source": [
    "%%timeit -r 10\n",
    "# Measuring running time\n",
    "minimize(funcs.func_, x0_m2, method='BFGS', jac=funcs.func_grad_, options={'gtol': 1e-6, 'disp': False})"
   ]
  },
  {
   "cell_type": "markdown",
   "id": "70512602-26e2-4266-bed0-b5bacb276a9a",
   "metadata": {
    "tags": []
   },
   "source": [
    "##### Tests with other starting points"
   ]
  },
  {
   "cell_type": "code",
   "execution_count": 131,
   "id": "c0eefbca-6477-468c-aeef-1fde094fdae8",
   "metadata": {},
   "outputs": [],
   "source": [
    "x0_m2_alt = np.round(np.random.randn(M2.shape[1]),decimals = 3)"
   ]
  },
  {
   "cell_type": "code",
   "execution_count": 132,
   "id": "07f923a9-0a2a-491a-a719-f3205b996c56",
   "metadata": {},
   "outputs": [
    {
     "name": "stdout",
     "output_type": "stream",
     "text": [
      "Convergence reached in 230 iterations\n",
      "Computed Norm: 109.46751097963032\n",
      "True Norm: 109.46751097963197\n",
      "Error: 1.5058889456892395e-14\n"
     ]
    }
   ],
   "source": [
    "off_shelf_opt(M2, x0_m2_alt)"
   ]
  },
  {
   "cell_type": "markdown",
   "id": "48833283-c1cd-4709-bee1-37ab99b355d5",
   "metadata": {
    "tags": []
   },
   "source": [
    "#### Comparisonwith off-shelf norm function"
   ]
  },
  {
   "cell_type": "code",
   "execution_count": 43,
   "id": "efa86706-6b08-40e9-a7d1-d7889fc72b04",
   "metadata": {},
   "outputs": [
    {
     "name": "stdout",
     "output_type": "stream",
     "text": [
      "10.2 ms ± 1.42 ms per loop (mean ± std. dev. of 10 runs, 100 loops each)\n"
     ]
    }
   ],
   "source": [
    "%%timeit -r 10\n",
    "# Measuring running time\n",
    "la.norm(M2, 2)"
   ]
  },
  {
   "cell_type": "markdown",
   "id": "11ed4615-0b01-4871-808f-6041f9dda70a",
   "metadata": {
    "tags": []
   },
   "source": [
    "### Cautious BFGS"
   ]
  },
  {
   "cell_type": "code",
   "execution_count": 44,
   "id": "345c84c3-de67-47e4-9451-0fec76dc6bbf",
   "metadata": {},
   "outputs": [],
   "source": [
    "c_m2_errors_list = []\n",
    "c_m2_residuals_list = []"
   ]
  },
  {
   "cell_type": "markdown",
   "id": "7a5a8610-8fd6-403d-8bbe-8d944de850ef",
   "metadata": {
    "tags": []
   },
   "source": [
    "#### Base performance with loaded starting point (Wolfe-type line search)"
   ]
  },
  {
   "cell_type": "code",
   "execution_count": 45,
   "id": "08033bf5-9bcc-4299-9e93-34d668179a02",
   "metadata": {},
   "outputs": [
    {
     "name": "stdout",
     "output_type": "stream",
     "text": [
      "Convergence reached in 284 iterations\n",
      "Computed Norm: 109.46751097952578\n",
      "True Norm: 109.46751097963197\n",
      "Error: 9.700001898439653e-13\n"
     ]
    }
   ],
   "source": [
    "w_c_m2_bfgs_a, w_c_m2_residuals_a, w_c_m2_errors_a = run_bfgs(M2, x0_m2, alg_method='C', ls_method='W', c1=1e-4, c2=0.9, return_arrays=True)\n",
    "c_m2_errors_list.append(w_c_m2_errors_a)\n",
    "c_m2_residuals_list.append(w_c_m2_residuals_a)"
   ]
  },
  {
   "cell_type": "code",
   "execution_count": 46,
   "id": "5fc25300-9710-4591-abb7-346ff1765f69",
   "metadata": {},
   "outputs": [
    {
     "name": "stdout",
     "output_type": "stream",
     "text": [
      "Convergence reached in 113 iterations\n",
      "Computed Norm: 109.4675109796283\n",
      "True Norm: 109.46751097963197\n",
      "Error: 3.349304724032964e-14\n"
     ]
    }
   ],
   "source": [
    "w_c_m2_bfgs_b, w_c_m2_residuals_b, w_c_m2_errors_b = run_bfgs(M2, x0_m2, alg_method='C', ls_method='W', c1=0.1, c2=0.49, return_arrays=True)\n",
    "c_m2_errors_list.append(w_c_m2_errors_b)\n",
    "c_m2_residuals_list.append(w_c_m2_residuals_b)"
   ]
  },
  {
   "cell_type": "markdown",
   "id": "d3c2ddc1-4455-4530-bb37-76d25c55e878",
   "metadata": {
    "tags": []
   },
   "source": [
    "#### Base performance with loaded starting point (Armijo-type line search)"
   ]
  },
  {
   "cell_type": "code",
   "execution_count": 47,
   "id": "4fafc821-dd0c-4e9f-a64c-f51a0ecd1169",
   "metadata": {},
   "outputs": [
    {
     "name": "stdout",
     "output_type": "stream",
     "text": [
      "Convergence reached in 787 iterations\n",
      "Computed Norm: 109.46751097961493\n",
      "True Norm: 109.46751097963197\n",
      "Error: 1.5565179705874123e-13\n"
     ]
    }
   ],
   "source": [
    "a_c_m2_bfgs_a, a_c_m2_residuals_a, a_c_m2_errors_a = run_bfgs(M2, x0_m2, alg_method='C', ls_method='A', c1=1e-4, return_arrays=True)\n",
    "c_m2_errors_list.append(a_c_m2_errors_a)\n",
    "c_m2_residuals_list.append(a_c_m2_residuals_a)"
   ]
  },
  {
   "cell_type": "code",
   "execution_count": 48,
   "id": "2e21951e-c0ac-45c7-8810-1e6e1ff85c02",
   "metadata": {},
   "outputs": [
    {
     "name": "stdout",
     "output_type": "stream",
     "text": [
      "Convergence reached in 342 iterations\n",
      "Computed Norm: 109.4675109796307\n",
      "True Norm: 109.46751097963197\n",
      "Error: 1.1553803117788132e-14\n"
     ]
    }
   ],
   "source": [
    "a_c_m2_bfgs_b, a_c_m2_residuals_b, a_c_m2_errors_b = run_bfgs(M2, x0_m2, alg_method='C', ls_method='A', c1=0.1, return_arrays=True)\n",
    "c_m2_errors_list.append(a_c_m2_errors_b)\n",
    "c_m2_residuals_list.append(a_c_m2_residuals_b)"
   ]
  },
  {
   "cell_type": "markdown",
   "id": "fdf9eb62-7f01-43a9-978d-718bd0622fb8",
   "metadata": {},
   "source": [
    "#### Summary for Cautious BFGS"
   ]
  },
  {
   "cell_type": "code",
   "execution_count": 49,
   "id": "dde2b679-1834-4722-acab-8a2d2d1c2c88",
   "metadata": {},
   "outputs": [
    {
     "data": {
      "image/png": "[encoded data removed]",
      "text/plain": [
       "<Figure size 720x288 with 2 Axes>"
      ]
     },
     "metadata": {
      "needs_background": "light"
     },
     "output_type": "display_data"
    }
   ],
   "source": [
    "plot_summary(c_m2_errors_list, c_m2_residuals_list, labels_list, \"M2\", \"C-BFGS\")"
   ]
  },
  {
   "cell_type": "markdown",
   "id": "c102f960-7895-40d0-b166-8c400afae189",
   "metadata": {
    "tags": []
   },
   "source": [
    "#### Average runtime over 10 runs (Wolfe-type line search)"
   ]
  },
  {
   "cell_type": "code",
   "execution_count": 50,
   "id": "e765d8a2-9f72-4b1f-a2aa-65bf8e5c67b2",
   "metadata": {},
   "outputs": [
    {
     "name": "stdout",
     "output_type": "stream",
     "text": [
      "84.4 ms ± 2.57 ms per loop (mean ± std. dev. of 10 runs, 10 loops each)\n"
     ]
    }
   ],
   "source": [
    "%%timeit -r 10\n",
    "# Measuring running time\n",
    "w_c_m2_bfgs_a.bfgs()"
   ]
  },
  {
   "cell_type": "code",
   "execution_count": 51,
   "id": "8d96d83e-6d36-492d-836f-7791e38f0394",
   "metadata": {},
   "outputs": [
    {
     "name": "stdout",
     "output_type": "stream",
     "text": [
      "36.5 ms ± 1.65 ms per loop (mean ± std. dev. of 10 runs, 10 loops each)\n"
     ]
    }
   ],
   "source": [
    "%%timeit -r 10\n",
    "# Measuring running time\n",
    "w_c_m2_bfgs_b.bfgs()"
   ]
  },
  {
   "cell_type": "markdown",
   "id": "cc87c0d7-a0c8-4b2b-a4b1-50b7d280b491",
   "metadata": {
    "tags": []
   },
   "source": [
    "#### Average runtime over 10 runs (Armijo-type line search)"
   ]
  },
  {
   "cell_type": "code",
   "execution_count": 52,
   "id": "809077d6-8add-4cd6-9bbb-fb04eebd834b",
   "metadata": {},
   "outputs": [
    {
     "name": "stdout",
     "output_type": "stream",
     "text": [
      "119 ms ± 3.31 ms per loop (mean ± std. dev. of 10 runs, 10 loops each)\n"
     ]
    }
   ],
   "source": [
    "%%timeit -r 10\n",
    "# Measuring running time\n",
    "a_c_m2_bfgs_a.bfgs()"
   ]
  },
  {
   "cell_type": "code",
   "execution_count": 53,
   "id": "03db04c2-7b85-4da5-99fa-2396049f4ef9",
   "metadata": {},
   "outputs": [
    {
     "name": "stdout",
     "output_type": "stream",
     "text": [
      "49.8 ms ± 2.77 ms per loop (mean ± std. dev. of 10 runs, 10 loops each)\n"
     ]
    }
   ],
   "source": [
    "%%timeit -r 10\n",
    "# Measuring running time\n",
    "a_c_m2_bfgs_b.bfgs()"
   ]
  },
  {
   "cell_type": "markdown",
   "id": "84c01f2a-31bb-4f94-8311-17c3ef2c211d",
   "metadata": {
    "tags": []
   },
   "source": [
    "## M3 Matrix"
   ]
  },
  {
   "cell_type": "markdown",
   "id": "8d7935ff-7057-418a-9a3e-f249470851b8",
   "metadata": {
    "tags": []
   },
   "source": [
    "### Original BFGS"
   ]
  },
  {
   "cell_type": "code",
   "execution_count": 54,
   "id": "899c9e68-074c-45f9-be38-1b77dd813c18",
   "metadata": {},
   "outputs": [],
   "source": [
    "o_m3_errors_list = []\n",
    "o_m3_residuals_list = []"
   ]
  },
  {
   "cell_type": "markdown",
   "id": "94f30d8b-6348-4811-983d-ec167211c495",
   "metadata": {
    "tags": []
   },
   "source": [
    "#### Base performance with loaded starting point (Wolfe-type line search)"
   ]
  },
  {
   "cell_type": "code",
   "execution_count": 55,
   "id": "d9fb836d-1ea8-4348-9d90-8b19ee117871",
   "metadata": {},
   "outputs": [
    {
     "name": "stdout",
     "output_type": "stream",
     "text": [
      "Convergence reached in 265 iterations\n",
      "Computed Norm: 41.06555327237746\n",
      "True Norm: 41.065553273646366\n",
      "Error: 3.0899584509355097e-11\n"
     ]
    }
   ],
   "source": [
    "w_o_m3_bfgs_a, w_o_m3_residuals_a, w_o_m3_errors_a = run_bfgs(M3, x0_m3, alg_method='O', ls_method='W', c1=1e-4, c2=0.9, return_arrays=True)\n",
    "o_m3_errors_list.append(w_o_m3_errors_a)\n",
    "o_m3_residuals_list.append(w_o_m3_residuals_a)"
   ]
  },
  {
   "cell_type": "code",
   "execution_count": 56,
   "id": "5a5812c2-043c-44c4-8bd5-cd4f2e629a8a",
   "metadata": {},
   "outputs": [
    {
     "name": "stdout",
     "output_type": "stream",
     "text": [
      "Convergence reached in 178 iterations\n",
      "Computed Norm: 41.06555327278608\n",
      "True Norm: 41.065553273646366\n",
      "Error: 2.0949005755786715e-11\n"
     ]
    }
   ],
   "source": [
    "w_o_m3_bfgs_b, w_o_m3_residuals_b, w_o_m3_errors_b = run_bfgs(M3, x0_m3, alg_method='O', ls_method='W', c1=0.1, c2=0.49, return_arrays=True)\n",
    "o_m3_errors_list.append(w_o_m3_errors_b)\n",
    "o_m3_residuals_list.append(w_o_m3_residuals_b)"
   ]
  },
  {
   "cell_type": "markdown",
   "id": "baf39ff1-cf54-470b-8524-1760453c914f",
   "metadata": {
    "tags": []
   },
   "source": [
    "#### Base performance with loaded starting point (Armijo-type line search)"
   ]
  },
  {
   "cell_type": "code",
   "execution_count": 57,
   "id": "3a69864b-6c6b-47d1-8aa6-8a0b12218a25",
   "metadata": {},
   "outputs": [
    {
     "name": "stdout",
     "output_type": "stream",
     "text": [
      "Convergence reached in 66 iterations\n",
      "Computed Norm: 39.31249608591414\n",
      "True Norm: 41.065553273646366\n",
      "Error: 0.04268923825402935\n"
     ]
    }
   ],
   "source": [
    "a_o_m3_bfgs_a, a_o_m3_residuals_a, a_o_m3_errors_a = run_bfgs(M3, x0_m3, alg_method='O', ls_method='A', c1=1e-4, return_arrays=True)\n",
    "o_m3_errors_list.append(a_o_m3_errors_a)\n",
    "o_m3_residuals_list.append(a_o_m3_residuals_a)"
   ]
  },
  {
   "cell_type": "code",
   "execution_count": 60,
   "id": "3c5904e3-85bf-4f45-ba95-5c4c69842a4a",
   "metadata": {},
   "outputs": [
    {
     "name": "stdout",
     "output_type": "stream",
     "text": [
      "Convergence reached in 223 iterations\n",
      "Computed Norm: 41.06555327338662\n",
      "True Norm: 41.065553273646366\n",
      "Error: 6.325155313350011e-12\n"
     ]
    }
   ],
   "source": [
    "a_o_m3_bfgs_b, a_o_m3_residuals_b, a_o_m3_errors_b = run_bfgs(M3, x0_m3, alg_method='O', ls_method='A', c1=0.1, return_arrays=True)\n",
    "o_m3_errors_list.append(a_o_m3_errors_b)\n",
    "o_m3_residuals_list.append(a_o_m3_residuals_b)"
   ]
  },
  {
   "cell_type": "markdown",
   "id": "72a2f64f-6728-4d83-8c87-c7fcb5ed2f1a",
   "metadata": {
    "tags": []
   },
   "source": [
    "##### Tests with other starting points"
   ]
  },
  {
   "cell_type": "code",
   "execution_count": 129,
   "id": "fd9b8671-2e65-44c0-b70f-690aad0cb9d8",
   "metadata": {
    "tags": []
   },
   "outputs": [],
   "source": [
    "x0_m3_alt = np.round(np.random.randn(M3.shape[1]),decimals = 3)"
   ]
  },
  {
   "cell_type": "code",
   "execution_count": 130,
   "id": "2a6b4288-5530-4093-85fc-9ea7b62a96f5",
   "metadata": {},
   "outputs": [
    {
     "name": "stdout",
     "output_type": "stream",
     "text": [
      "Convergence reached in 163 iterations\n",
      "Computed Norm: 41.06555327355821\n",
      "True Norm: 41.065553273646366\n",
      "Error: 2.1467393033355285e-12\n"
     ]
    }
   ],
   "source": [
    "a_o_m3_bfgs_a, a_o_m3_residuals_a, a_o_m3_errors_a = run_bfgs(M3, x0_m3_alt, alg_method='O', ls_method='A', c1=1e-4, return_arrays=True)"
   ]
  },
  {
   "cell_type": "markdown",
   "id": "f6a498a2-1900-422e-a681-c6cedb035afd",
   "metadata": {
    "tags": []
   },
   "source": [
    "#### Summary for Original BFGS"
   ]
  },
  {
   "cell_type": "code",
   "execution_count": 61,
   "id": "be933b3f-7a3e-4d84-b4b5-14bbb6db1fa6",
   "metadata": {},
   "outputs": [
    {
     "data": {
      "image/png": "[encoded data removed]",
      "text/plain": [
       "<Figure size 720x288 with 2 Axes>"
      ]
     },
     "metadata": {
      "needs_background": "light"
     },
     "output_type": "display_data"
    }
   ],
   "source": [
    "plot_summary(o_m3_errors_list, o_m3_residuals_list, labels_list, \"M3\", \"BFGS\")"
   ]
  },
  {
   "cell_type": "markdown",
   "id": "df52b124-365b-49aa-9755-24e7a9a0073b",
   "metadata": {
    "tags": []
   },
   "source": [
    "#### Average runtime over 10 runs (Wolfe-type line search)"
   ]
  },
  {
   "cell_type": "code",
   "execution_count": 62,
   "id": "e478f8c3-b335-44a1-8bb3-76db12777af4",
   "metadata": {},
   "outputs": [
    {
     "name": "stdout",
     "output_type": "stream",
     "text": [
      "14.6 s ± 2.91 s per loop (mean ± std. dev. of 10 runs, 1 loop each)\n"
     ]
    }
   ],
   "source": [
    "%%timeit -r 10\n",
    "# Measuring running time\n",
    "w_o_m3_bfgs_a.bfgs()"
   ]
  },
  {
   "cell_type": "code",
   "execution_count": 63,
   "id": "f19e8977-5f75-4092-96bd-01a2db19d93d",
   "metadata": {},
   "outputs": [
    {
     "name": "stdout",
     "output_type": "stream",
     "text": [
      "9.44 s ± 507 ms per loop (mean ± std. dev. of 10 runs, 1 loop each)\n"
     ]
    }
   ],
   "source": [
    "%%timeit -r 10\n",
    "# Measuring running time\n",
    "w_o_m3_bfgs_b.bfgs()"
   ]
  },
  {
   "cell_type": "markdown",
   "id": "44c24277-fb62-4f2b-b152-60119d4351a4",
   "metadata": {
    "tags": []
   },
   "source": [
    "#### Average runtime over 10 runs (Armijo-type line search)"
   ]
  },
  {
   "cell_type": "code",
   "execution_count": 64,
   "id": "dfa239dc-89cb-4e36-85c1-f9d255738558",
   "metadata": {},
   "outputs": [
    {
     "name": "stdout",
     "output_type": "stream",
     "text": [
      "6.37 s ± 143 ms per loop (mean ± std. dev. of 10 runs, 1 loop each)\n"
     ]
    }
   ],
   "source": [
    "%%timeit -r 10\n",
    "# Measuring running time\n",
    "a_o_m3_bfgs_a.bfgs()"
   ]
  },
  {
   "cell_type": "code",
   "execution_count": 65,
   "id": "664fe50b-33a3-4499-ba7d-b9c1069eaece",
   "metadata": {},
   "outputs": [
    {
     "name": "stdout",
     "output_type": "stream",
     "text": [
      "11.9 s ± 696 ms per loop (mean ± std. dev. of 10 runs, 1 loop each)\n"
     ]
    }
   ],
   "source": [
    "%%timeit -r 10\n",
    "# Measuring running time\n",
    "a_o_m3_bfgs_b.bfgs()"
   ]
  },
  {
   "cell_type": "markdown",
   "id": "d4dfb6f1-7fc8-4cfe-8ad0-a20eb30eff87",
   "metadata": {
    "tags": []
   },
   "source": [
    "#### Comparison with off-shelf BFGS minimizer"
   ]
  },
  {
   "cell_type": "code",
   "execution_count": 66,
   "id": "f7b672e1-afc5-447e-8e15-999273941496",
   "metadata": {},
   "outputs": [
    {
     "name": "stdout",
     "output_type": "stream",
     "text": [
      "Convergence reached in 294 iterations\n",
      "Computed Norm: 41.06555327181924\n",
      "True Norm: 41.065553273646366\n",
      "Error: 4.449288934925562e-11\n"
     ]
    }
   ],
   "source": [
    "off_shelf_opt(M3, x0_m3)\n",
    "funcs = Funcs(M3)"
   ]
  },
  {
   "cell_type": "code",
   "execution_count": 67,
   "id": "2a899be2-899c-4111-be46-c2a3414b129b",
   "metadata": {},
   "outputs": [
    {
     "name": "stdout",
     "output_type": "stream",
     "text": [
      "16.1 s ± 1.26 s per loop (mean ± std. dev. of 10 runs, 1 loop each)\n"
     ]
    }
   ],
   "source": [
    "%%timeit -r 10\n",
    "# Measuring running time\n",
    "minimize(funcs.func_, x0_m3, method='BFGS', jac=funcs.func_grad_, options={'gtol': 1e-6, 'disp': False})"
   ]
  },
  {
   "cell_type": "markdown",
   "id": "e2dbdab7-d44c-4caf-acc6-4ee2bd9fab3d",
   "metadata": {
    "tags": []
   },
   "source": [
    "#### Comparison with off-shelf norm function"
   ]
  },
  {
   "cell_type": "code",
   "execution_count": 68,
   "id": "e46d5624-5dd8-47bb-964e-b5ca559e8b26",
   "metadata": {},
   "outputs": [
    {
     "name": "stdout",
     "output_type": "stream",
     "text": [
      "4.66 ms ± 88 µs per loop (mean ± std. dev. of 10 runs, 100 loops each)\n"
     ]
    }
   ],
   "source": [
    "%%timeit -r 10\n",
    "# Measuring running time\n",
    "la.norm(M3, 2)"
   ]
  },
  {
   "cell_type": "markdown",
   "id": "f3b735d3-cfba-461a-b4bc-39a7b6fc27a7",
   "metadata": {
    "tags": []
   },
   "source": [
    "### Cautious BFGS"
   ]
  },
  {
   "cell_type": "code",
   "execution_count": 69,
   "id": "3e9c308a-c4b6-4fd8-9561-3908de857b59",
   "metadata": {},
   "outputs": [],
   "source": [
    "c_m3_errors_list = []\n",
    "c_m3_residuals_list = []"
   ]
  },
  {
   "cell_type": "markdown",
   "id": "55a9c7f1-62bc-4e3f-a62c-9e6dbc416b6b",
   "metadata": {
    "tags": []
   },
   "source": [
    "#### Base performance with loaded starting point (Wolfe-type line search)"
   ]
  },
  {
   "cell_type": "code",
   "execution_count": 70,
   "id": "ade6ef85-cf6d-4ed8-90c6-c2e5c6c8b5aa",
   "metadata": {},
   "outputs": [
    {
     "name": "stdout",
     "output_type": "stream",
     "text": [
      "Convergence reached in 100 iterations\n",
      "Computed Norm: 41.065553273638365\n",
      "True Norm: 41.065553273646366\n",
      "Error: 1.9482779524105788e-13\n"
     ]
    }
   ],
   "source": [
    "w_c_m3_bfgs_a, w_c_m3_residuals_a, w_c_m3_errors_a = run_bfgs(M3, x0_m3, alg_method='C', ls_method='W', c1=1e-4, c2=0.9, return_arrays=True)\n",
    "c_m3_errors_list.append(w_c_m3_errors_a)\n",
    "c_m3_residuals_list.append(w_c_m3_residuals_a)"
   ]
  },
  {
   "cell_type": "code",
   "execution_count": 71,
   "id": "b7255034-daea-4184-a3ce-76ed866689c9",
   "metadata": {},
   "outputs": [
    {
     "name": "stdout",
     "output_type": "stream",
     "text": [
      "Convergence reached in 75 iterations\n",
      "Computed Norm: 41.06555327363237\n",
      "True Norm: 41.065553273646366\n",
      "Error: 3.408621284412824e-13\n"
     ]
    }
   ],
   "source": [
    "w_c_m3_bfgs_b, w_c_m3_residuals_b, w_c_m3_errors_b = run_bfgs(M3, x0_m3, alg_method='C', ls_method='W', c1=0.1, c2=0.49, return_arrays=True)\n",
    "c_m3_errors_list.append(w_c_m3_errors_b)\n",
    "c_m3_residuals_list.append(w_c_m3_residuals_b)"
   ]
  },
  {
   "cell_type": "markdown",
   "id": "ead9cde9-035a-47e7-866e-a15fa905b0bf",
   "metadata": {
    "tags": []
   },
   "source": [
    "#### Base performance with loaded starting point (Armijo-type line search)"
   ]
  },
  {
   "cell_type": "code",
   "execution_count": 72,
   "id": "6250ed75-e804-43a0-9deb-f24f9dc15b2a",
   "metadata": {},
   "outputs": [
    {
     "name": "stdout",
     "output_type": "stream",
     "text": [
      "Convergence reached in 117 iterations\n",
      "Computed Norm: 41.06555327364366\n",
      "True Norm: 41.065553273646366\n",
      "Error: 6.59230816934663e-14\n"
     ]
    }
   ],
   "source": [
    "a_c_m3_bfgs_a, a_c_m3_residuals_a, a_c_m3_errors_a = run_bfgs(M3, x0_m3, alg_method='C', ls_method='A', c1=1e-4, return_arrays=True)\n",
    "c_m3_errors_list.append(a_c_m3_errors_a)\n",
    "c_m3_residuals_list.append(a_c_m3_residuals_a)"
   ]
  },
  {
   "cell_type": "code",
   "execution_count": 73,
   "id": "c487f791-fe25-4c6e-a36c-e347f643b037",
   "metadata": {},
   "outputs": [
    {
     "name": "stdout",
     "output_type": "stream",
     "text": [
      "Convergence reached in 117 iterations\n",
      "Computed Norm: 41.06555327364366\n",
      "True Norm: 41.065553273646366\n",
      "Error: 6.59230816934663e-14\n"
     ]
    }
   ],
   "source": [
    "a_c_m3_bfgs_b, a_c_m3_residuals_b, a_c_m3_errors_b = run_bfgs(M3, x0_m3, alg_method='C', ls_method='A', c1=0.1, return_arrays=True)\n",
    "c_m3_errors_list.append(a_c_m3_errors_b)\n",
    "c_m3_residuals_list.append(a_c_m3_residuals_b)"
   ]
  },
  {
   "cell_type": "markdown",
   "id": "e4524267-ca99-4367-b4a0-58ee3c2e47e6",
   "metadata": {},
   "source": [
    "#### Summary for Cautious BFGS"
   ]
  },
  {
   "cell_type": "code",
   "execution_count": 74,
   "id": "d10bb554-2f9a-45f5-a810-0eb0a202dfa8",
   "metadata": {},
   "outputs": [
    {
     "data": {
      "image/png": "[encoded data removed]",
      "text/plain": [
       "<Figure size 720x288 with 2 Axes>"
      ]
     },
     "metadata": {
      "needs_background": "light"
     },
     "output_type": "display_data"
    }
   ],
   "source": [
    "plot_summary(c_m3_errors_list, c_m3_residuals_list, labels_list, \"M3\", \"C-BFGS\")"
   ]
  },
  {
   "cell_type": "markdown",
   "id": "9190cd55-8c8f-4fbb-a521-b66f2a610fe2",
   "metadata": {
    "tags": []
   },
   "source": [
    "#### Average runtime over 10 runs (Wolfe-type line search)"
   ]
  },
  {
   "cell_type": "code",
   "execution_count": 75,
   "id": "85092ef4-43e1-45b0-95b9-15e9931fdeee",
   "metadata": {},
   "outputs": [
    {
     "name": "stdout",
     "output_type": "stream",
     "text": [
      "3.16 s ± 48.8 ms per loop (mean ± std. dev. of 10 runs, 1 loop each)\n"
     ]
    }
   ],
   "source": [
    "%%timeit -r 10\n",
    "# Measuring running time\n",
    "w_c_m3_bfgs_a.bfgs()"
   ]
  },
  {
   "cell_type": "code",
   "execution_count": 76,
   "id": "dfb02417-032d-46ec-977a-c44e01e67267",
   "metadata": {},
   "outputs": [
    {
     "name": "stdout",
     "output_type": "stream",
     "text": [
      "2.88 s ± 133 ms per loop (mean ± std. dev. of 10 runs, 1 loop each)\n"
     ]
    }
   ],
   "source": [
    "%%timeit -r 10\n",
    "# Measuring running time\n",
    "w_c_m3_bfgs_b.bfgs()"
   ]
  },
  {
   "cell_type": "markdown",
   "id": "d288692d-9250-4bc9-8572-4f86f4d9dfb7",
   "metadata": {
    "tags": []
   },
   "source": [
    "#### Average runtime over 10 runs (Armijo-type line search)"
   ]
  },
  {
   "cell_type": "code",
   "execution_count": 77,
   "id": "5d7c5154-4991-4482-8941-3c1a352fd63c",
   "metadata": {},
   "outputs": [
    {
     "name": "stdout",
     "output_type": "stream",
     "text": [
      "2.21 s ± 245 ms per loop (mean ± std. dev. of 10 runs, 1 loop each)\n"
     ]
    }
   ],
   "source": [
    "%%timeit -r 10\n",
    "# Measuring running time\n",
    "a_c_m3_bfgs_a.bfgs()"
   ]
  },
  {
   "cell_type": "code",
   "execution_count": 78,
   "id": "9a6ee973-fda1-41ac-9359-43cfc71d2b91",
   "metadata": {},
   "outputs": [
    {
     "name": "stdout",
     "output_type": "stream",
     "text": [
      "2.41 s ± 216 ms per loop (mean ± std. dev. of 10 runs, 1 loop each)\n"
     ]
    }
   ],
   "source": [
    "%%timeit -r 10\n",
    "# Measuring running time\n",
    "a_c_m3_bfgs_b.bfgs()"
   ]
  },
  {
   "cell_type": "markdown",
   "id": "56249f02-8051-42dd-8edf-0d2fe66b9735",
   "metadata": {
    "tags": []
   },
   "source": [
    "## M4 Matrix"
   ]
  },
  {
   "cell_type": "markdown",
   "id": "f56d899a-ea87-439b-a522-84fa1f69df17",
   "metadata": {
    "tags": []
   },
   "source": [
    "### Original BFGS"
   ]
  },
  {
   "cell_type": "code",
   "execution_count": 79,
   "id": "95183478-08fe-4fec-a392-43ca9d65be3b",
   "metadata": {},
   "outputs": [],
   "source": [
    "o_m4_errors_list = []\n",
    "o_m4_residuals_list = []"
   ]
  },
  {
   "cell_type": "markdown",
   "id": "c018c70e-2dd6-46b2-a6a3-6a34932345f3",
   "metadata": {
    "tags": []
   },
   "source": [
    "#### Base performance with loaded starting point (Wolfe-type line search)"
   ]
  },
  {
   "cell_type": "code",
   "execution_count": 80,
   "id": "2a58fc39-5ccc-4079-8e13-26e9bf6e9fa3",
   "metadata": {},
   "outputs": [
    {
     "name": "stdout",
     "output_type": "stream",
     "text": [
      "Convergence reached in 192 iterations\n",
      "Computed Norm: 19.356959367506\n",
      "True Norm: 19.356959368936618\n",
      "Error: 7.390713464100296e-11\n"
     ]
    }
   ],
   "source": [
    "w_o_m4_bfgs_a, w_o_m4_residuals_a, w_o_m4_errors_a = run_bfgs(M4, x0_m4, alg_method='O', ls_method='W', c1=1e-4, c2=0.9, return_arrays=True)\n",
    "o_m4_errors_list.append(w_o_m4_errors_a)\n",
    "o_m4_residuals_list.append(w_o_m4_residuals_a)"
   ]
  },
  {
   "cell_type": "code",
   "execution_count": 81,
   "id": "6f47a9c4-fd5f-4f40-84e0-fde90632954e",
   "metadata": {},
   "outputs": [
    {
     "name": "stdout",
     "output_type": "stream",
     "text": [
      "Convergence reached in 143 iterations\n",
      "Computed Norm: 19.35695936779558\n",
      "True Norm: 19.356959368936618\n",
      "Error: 5.894723656372254e-11\n"
     ]
    }
   ],
   "source": [
    "w_o_m4_bfgs_b, w_o_m4_residuals_b, w_o_m4_errors_b = run_bfgs(M4, x0_m4, alg_method='O', ls_method='W', c1=0.1, c2=0.49, return_arrays=True)\n",
    "o_m4_errors_list.append(w_o_m4_errors_b)\n",
    "o_m4_residuals_list.append(w_o_m4_residuals_b)"
   ]
  },
  {
   "cell_type": "markdown",
   "id": "47713e3b-45e3-481f-928c-2855fe24a296",
   "metadata": {
    "tags": []
   },
   "source": [
    "#### Base performance with loaded starting point (Armijo-type line search)"
   ]
  },
  {
   "cell_type": "code",
   "execution_count": 82,
   "id": "9d3dfdb7-293d-4f91-8dcb-2c47e09edc4d",
   "metadata": {},
   "outputs": [
    {
     "name": "stdout",
     "output_type": "stream",
     "text": [
      "Convergence reached in 211 iterations\n",
      "Computed Norm: 19.356959366896863\n",
      "True Norm: 19.356959368936618\n",
      "Error: 1.0537579754493096e-10\n"
     ]
    }
   ],
   "source": [
    "a_o_m4_bfgs_a, a_o_m4_residuals_a, a_o_m4_errors_a = run_bfgs(M4, x0_m4, alg_method='O', ls_method='A', c1=1e-4, return_arrays=True)\n",
    "o_m4_errors_list.append(a_o_m4_errors_a)\n",
    "o_m4_residuals_list.append(a_o_m4_residuals_a)"
   ]
  },
  {
   "cell_type": "code",
   "execution_count": 83,
   "id": "27310c79-c949-4100-b034-49bd0b171ce5",
   "metadata": {},
   "outputs": [
    {
     "name": "stdout",
     "output_type": "stream",
     "text": [
      "Convergence reached in 211 iterations\n",
      "Computed Norm: 19.356959366896863\n",
      "True Norm: 19.356959368936618\n",
      "Error: 1.0537579754493096e-10\n"
     ]
    }
   ],
   "source": [
    "a_o_m4_bfgs_b, a_o_m4_residuals_b, a_o_m4_errors_b = run_bfgs(M4, x0_m4, alg_method='O', ls_method='A', c1=0.1, return_arrays=True)\n",
    "o_m4_errors_list.append(a_o_m4_errors_b)\n",
    "o_m4_residuals_list.append(a_o_m4_residuals_b)"
   ]
  },
  {
   "cell_type": "markdown",
   "id": "ed2975d6-75a1-44fc-a704-a6c6d618e048",
   "metadata": {
    "tags": []
   },
   "source": [
    "#### Summary for Original BFGS"
   ]
  },
  {
   "cell_type": "code",
   "execution_count": 84,
   "id": "57b6cc6e-01b7-4e70-a1c3-56d3eebea976",
   "metadata": {},
   "outputs": [
    {
     "data": {
      "image/png": "[encoded data removed]",
      "text/plain": [
       "<Figure size 720x288 with 2 Axes>"
      ]
     },
     "metadata": {
      "needs_background": "light"
     },
     "output_type": "display_data"
    }
   ],
   "source": [
    "plot_summary(o_m4_errors_list, o_m4_residuals_list, labels_list, \"M4\", \"BFGS\")"
   ]
  },
  {
   "cell_type": "markdown",
   "id": "c60eb85f-0a9e-4f45-a5ce-029a37701d06",
   "metadata": {
    "tags": []
   },
   "source": [
    "#### Average runtime over 10 runs (Wolfe-type line search)"
   ]
  },
  {
   "cell_type": "code",
   "execution_count": 85,
   "id": "7a465c8e-c90c-4810-96b9-5ad6b4b142a6",
   "metadata": {},
   "outputs": [
    {
     "name": "stdout",
     "output_type": "stream",
     "text": [
      "53.2 ms ± 2.98 ms per loop (mean ± std. dev. of 10 runs, 10 loops each)\n"
     ]
    }
   ],
   "source": [
    "%%timeit -r 10\n",
    "# Measuring running time\n",
    "w_o_m4_bfgs_a.bfgs()"
   ]
  },
  {
   "cell_type": "code",
   "execution_count": 86,
   "id": "687581e5-465a-494b-b3cc-9d5b9997f26a",
   "metadata": {},
   "outputs": [
    {
     "name": "stdout",
     "output_type": "stream",
     "text": [
      "45.6 ms ± 2.38 ms per loop (mean ± std. dev. of 10 runs, 10 loops each)\n"
     ]
    }
   ],
   "source": [
    "%%timeit -r 10\n",
    "# Measuring running time\n",
    "w_o_m4_bfgs_b.bfgs()"
   ]
  },
  {
   "cell_type": "markdown",
   "id": "e1cf0b31-af4b-4aae-886b-0a27c4c0bcb1",
   "metadata": {
    "tags": []
   },
   "source": [
    "#### Average runtime over 10 runs (Armijo-type line search)"
   ]
  },
  {
   "cell_type": "code",
   "execution_count": 87,
   "id": "a70fb7fa-60ae-4b42-9bbf-c18e179c2cce",
   "metadata": {},
   "outputs": [
    {
     "name": "stdout",
     "output_type": "stream",
     "text": [
      "66.4 ms ± 10.1 ms per loop (mean ± std. dev. of 10 runs, 10 loops each)\n"
     ]
    }
   ],
   "source": [
    "%%timeit -r 10\n",
    "# Measuring running time\n",
    "a_o_m4_bfgs_a.bfgs()"
   ]
  },
  {
   "cell_type": "code",
   "execution_count": 88,
   "id": "d8993716-f10d-448c-9b8e-4b8acf828f66",
   "metadata": {},
   "outputs": [
    {
     "name": "stdout",
     "output_type": "stream",
     "text": [
      "70.8 ms ± 6.09 ms per loop (mean ± std. dev. of 10 runs, 10 loops each)\n"
     ]
    }
   ],
   "source": [
    "%%timeit -r 10\n",
    "# Measuring running time\n",
    "a_o_m4_bfgs_b.bfgs()"
   ]
  },
  {
   "cell_type": "markdown",
   "id": "fc476538-2dbf-4a23-a5fd-843126fcea12",
   "metadata": {
    "tags": []
   },
   "source": [
    "#### Comparison with off-shelf BFGS minimizer"
   ]
  },
  {
   "cell_type": "code",
   "execution_count": 89,
   "id": "d805f848-9296-4af7-a4fb-485cac96ad7e",
   "metadata": {},
   "outputs": [
    {
     "name": "stdout",
     "output_type": "stream",
     "text": [
      "Convergence reached in 55 iterations\n",
      "Computed Norm: 18.42502728056496\n",
      "True Norm: 19.356959368936618\n",
      "Error: 0.048144549492994695\n"
     ]
    }
   ],
   "source": [
    "off_shelf_opt(M4, x0_m4)\n",
    "funcs = Funcs(M4)"
   ]
  },
  {
   "cell_type": "code",
   "execution_count": 90,
   "id": "d68e29e4-06f3-46fb-8b65-2a020460acd1",
   "metadata": {},
   "outputs": [
    {
     "name": "stdout",
     "output_type": "stream",
     "text": [
      "17.4 ms ± 1.51 ms per loop (mean ± std. dev. of 10 runs, 100 loops each)\n"
     ]
    }
   ],
   "source": [
    "%%timeit -r 10\n",
    "# Measuring running time\n",
    "minimize(funcs.func_, x0_m4, method='BFGS', jac=funcs.func_grad_, options={'gtol': 1e-6, 'disp': False})"
   ]
  },
  {
   "cell_type": "markdown",
   "id": "a7d9be91-abb7-471d-a642-4ec70d96754c",
   "metadata": {
    "tags": []
   },
   "source": [
    "##### Tests with other starting points"
   ]
  },
  {
   "cell_type": "code",
   "execution_count": 125,
   "id": "9dc1011b-f58c-4ef7-a8b3-cf650d7aea6e",
   "metadata": {},
   "outputs": [],
   "source": [
    "x0_m4_alt = np.round(np.random.randn(M4.shape[1]),decimals = 3)"
   ]
  },
  {
   "cell_type": "code",
   "execution_count": 126,
   "id": "986bde95-a7c5-47d8-a76c-d32ec8543f25",
   "metadata": {},
   "outputs": [
    {
     "name": "stdout",
     "output_type": "stream",
     "text": [
      "Convergence reached in 123 iterations\n",
      "Computed Norm: 19.3569593689253\n",
      "True Norm: 19.356959368936618\n",
      "Error: 5.847481293380535e-13\n"
     ]
    }
   ],
   "source": [
    "off_shelf_opt(M4, x0_m4_alt)"
   ]
  },
  {
   "cell_type": "markdown",
   "id": "cf1dc7d9-6b98-4830-ad28-5e5ab1f903c2",
   "metadata": {
    "tags": []
   },
   "source": [
    "#### Comparison with off-shelf norm function"
   ]
  },
  {
   "cell_type": "code",
   "execution_count": 91,
   "id": "f9f643bc-cb39-4478-86e8-15b22ad37c0b",
   "metadata": {},
   "outputs": [
    {
     "name": "stdout",
     "output_type": "stream",
     "text": [
      "679 µs ± 22.2 µs per loop (mean ± std. dev. of 10 runs, 1000 loops each)\n"
     ]
    }
   ],
   "source": [
    "%%timeit -r 10\n",
    "# Measuring running time\n",
    "la.norm(M4, 2)"
   ]
  },
  {
   "cell_type": "markdown",
   "id": "d5380918-a864-429c-bd67-395eede4d42e",
   "metadata": {
    "tags": []
   },
   "source": [
    "### Cautious BFGS"
   ]
  },
  {
   "cell_type": "code",
   "execution_count": 92,
   "id": "f45092a5-6224-4f3e-aa7c-50bf2ad41caf",
   "metadata": {},
   "outputs": [],
   "source": [
    "c_m4_errors_list = []\n",
    "c_m4_residuals_list = []"
   ]
  },
  {
   "cell_type": "markdown",
   "id": "d9c3c93a-5949-4c7f-a6f4-a5474a0ee3dd",
   "metadata": {
    "tags": []
   },
   "source": [
    "#### Base performance with loaded starting point (Wolfe-type line search)"
   ]
  },
  {
   "cell_type": "code",
   "execution_count": 93,
   "id": "7645b6cc-75cb-4203-8df6-62b747f8bcd2",
   "metadata": {},
   "outputs": [
    {
     "name": "stdout",
     "output_type": "stream",
     "text": [
      "Convergence reached in 58 iterations\n",
      "Computed Norm: 19.356959368929605\n",
      "True Norm: 19.356959368936618\n",
      "Error: 3.623015716614305e-13\n"
     ]
    }
   ],
   "source": [
    "w_c_m4_bfgs_a, w_c_m4_residuals_a, w_c_m4_errors_a = run_bfgs(M4, x0_m4, alg_method='C', ls_method='W', c1=1e-4, c2=0.9, return_arrays=True)\n",
    "c_m4_errors_list.append(w_c_m4_errors_a)\n",
    "c_m4_residuals_list.append(w_c_m4_residuals_a)"
   ]
  },
  {
   "cell_type": "code",
   "execution_count": 94,
   "id": "806e38cf-ced6-4aed-8297-46b49ea686c6",
   "metadata": {},
   "outputs": [
    {
     "name": "stdout",
     "output_type": "stream",
     "text": [
      "Convergence reached in 50 iterations\n",
      "Computed Norm: 19.356959368930855\n",
      "True Norm: 19.356959368936618\n",
      "Error: 2.9769663081805486e-13\n"
     ]
    }
   ],
   "source": [
    "w_c_m4_bfgs_b, w_c_m4_residuals_b, w_c_m4_errors_b = run_bfgs(M4, x0_m4, alg_method='C', ls_method='W', c1=0.1, c2=0.49, return_arrays=True)\n",
    "c_m4_errors_list.append(w_c_m4_errors_b)\n",
    "c_m4_residuals_list.append(w_c_m4_residuals_b)"
   ]
  },
  {
   "cell_type": "markdown",
   "id": "e418bb19-db29-431a-919f-e4e515419c97",
   "metadata": {
    "tags": []
   },
   "source": [
    "#### Base performance with loaded starting point (Armijo-type line search)"
   ]
  },
  {
   "cell_type": "code",
   "execution_count": 95,
   "id": "1b9af927-1d98-41b6-8c15-903b6cc4d781",
   "metadata": {},
   "outputs": [
    {
     "name": "stdout",
     "output_type": "stream",
     "text": [
      "Convergence reached in 53 iterations\n",
      "Computed Norm: 19.35695936893387\n",
      "True Norm: 19.356959368936618\n",
      "Error: 1.41873918386163e-13\n"
     ]
    }
   ],
   "source": [
    "a_c_m4_bfgs_a, a_c_m4_residuals_a, a_c_m4_errors_a = run_bfgs(M4, x0_m4, alg_method='C', ls_method='A', c1=1e-4, return_arrays=True)\n",
    "c_m4_errors_list.append(a_c_m4_errors_a)\n",
    "c_m4_residuals_list.append(a_c_m4_residuals_a)"
   ]
  },
  {
   "cell_type": "code",
   "execution_count": 96,
   "id": "33cc4cea-5233-4ca8-ad04-3ed0a39042ff",
   "metadata": {},
   "outputs": [
    {
     "name": "stdout",
     "output_type": "stream",
     "text": [
      "Convergence reached in 53 iterations\n",
      "Computed Norm: 19.35695936893387\n",
      "True Norm: 19.356959368936618\n",
      "Error: 1.41873918386163e-13\n"
     ]
    }
   ],
   "source": [
    "a_c_m4_bfgs_b, a_c_m4_residuals_b, a_c_m4_errors_b = run_bfgs(M4, x0_m4, alg_method='C', ls_method='A', c1=0.1, return_arrays=True)\n",
    "c_m4_errors_list.append(a_c_m4_errors_b)\n",
    "c_m4_residuals_list.append(a_c_m4_residuals_b)"
   ]
  },
  {
   "cell_type": "markdown",
   "id": "b8e66333-9524-47d1-bdde-c0105a3a3ee4",
   "metadata": {},
   "source": [
    "#### Summary for Cautious BFGS"
   ]
  },
  {
   "cell_type": "code",
   "execution_count": 97,
   "id": "76c1bee2-1b9a-4fe7-84e6-dfa845eedfde",
   "metadata": {},
   "outputs": [
    {
     "data": {
      "image/png": "[encoded data removed]",
      "text/plain": [
       "<Figure size 720x288 with 2 Axes>"
      ]
     },
     "metadata": {
      "needs_background": "light"
     },
     "output_type": "display_data"
    }
   ],
   "source": [
    "plot_summary(c_m4_errors_list, c_m4_residuals_list, labels_list, \"M4\", \"C-BFGS\")"
   ]
  },
  {
   "cell_type": "markdown",
   "id": "0889f1ce-f464-4a54-b0f9-e476c27d9f17",
   "metadata": {
    "tags": []
   },
   "source": [
    "#### Average runtime over 10 runs (Wolfe-type line search)"
   ]
  },
  {
   "cell_type": "code",
   "execution_count": 98,
   "id": "6971617b-8c3e-4d18-91c1-9dbece24e1a7",
   "metadata": {},
   "outputs": [
    {
     "name": "stdout",
     "output_type": "stream",
     "text": [
      "18.9 ms ± 995 µs per loop (mean ± std. dev. of 10 runs, 100 loops each)\n"
     ]
    }
   ],
   "source": [
    "%%timeit -r 10\n",
    "# Measuring running time\n",
    "w_c_m4_bfgs_a.bfgs()"
   ]
  },
  {
   "cell_type": "code",
   "execution_count": 99,
   "id": "152e7d16-cb14-4c10-af44-ef78ccae8220",
   "metadata": {},
   "outputs": [
    {
     "name": "stdout",
     "output_type": "stream",
     "text": [
      "20.7 ms ± 2.24 ms per loop (mean ± std. dev. of 10 runs, 100 loops each)\n"
     ]
    }
   ],
   "source": [
    "%%timeit -r 10\n",
    "# Measuring running time\n",
    "w_c_m4_bfgs_b.bfgs()"
   ]
  },
  {
   "cell_type": "markdown",
   "id": "3abb9a41-ebeb-4c3f-a20b-3cead6688a5a",
   "metadata": {
    "tags": []
   },
   "source": [
    "#### Average runtime over 10 runs (Armijo-type line search)"
   ]
  },
  {
   "cell_type": "code",
   "execution_count": 100,
   "id": "61cf77c5-0071-41f9-8e1d-eefd6f7cc0f6",
   "metadata": {},
   "outputs": [
    {
     "name": "stdout",
     "output_type": "stream",
     "text": [
      "13.9 ms ± 1.38 ms per loop (mean ± std. dev. of 10 runs, 100 loops each)\n"
     ]
    }
   ],
   "source": [
    "%%timeit -r 10\n",
    "# Measuring running time\n",
    "a_c_m4_bfgs_a.bfgs()"
   ]
  },
  {
   "cell_type": "code",
   "execution_count": 101,
   "id": "9e993d82-fe64-4a78-ad9c-caa75b5092e2",
   "metadata": {},
   "outputs": [
    {
     "name": "stdout",
     "output_type": "stream",
     "text": [
      "13.6 ms ± 1.35 ms per loop (mean ± std. dev. of 10 runs, 100 loops each)\n"
     ]
    }
   ],
   "source": [
    "%%timeit -r 10\n",
    "# Measuring running time\n",
    "a_c_m4_bfgs_b.bfgs()"
   ]
  },
  {
   "cell_type": "markdown",
   "id": "3fb6e3cc-1b86-40ae-907e-9397036d6548",
   "metadata": {
    "tags": []
   },
   "source": [
    "## M5 Matrix"
   ]
  },
  {
   "cell_type": "markdown",
   "id": "0e68adf7-60ec-4485-a079-11af071f2a0d",
   "metadata": {
    "tags": []
   },
   "source": [
    "### Original BFGS"
   ]
  },
  {
   "cell_type": "code",
   "execution_count": 102,
   "id": "56f90162-535e-4f6f-b0a6-f1d1a7fb5aef",
   "metadata": {},
   "outputs": [],
   "source": [
    "o_m5_errors_list = []\n",
    "o_m5_residuals_list = []"
   ]
  },
  {
   "cell_type": "markdown",
   "id": "96813155-1e48-40aa-bde6-8f514d61bb84",
   "metadata": {
    "tags": []
   },
   "source": [
    "#### Base performance with loaded starting point (Wolfe-type line search)"
   ]
  },
  {
   "cell_type": "code",
   "execution_count": 103,
   "id": "a8ada415-b040-42ef-97fd-e10ccde3ac22",
   "metadata": {},
   "outputs": [
    {
     "name": "stdout",
     "output_type": "stream",
     "text": [
      "Convergence reached in 66 iterations\n",
      "Computed Norm: 23.624892381956926\n",
      "True Norm: 23.62489238197047\n",
      "Error: 5.732489411855657e-13\n"
     ]
    }
   ],
   "source": [
    "w_o_m5_bfgs_a, w_o_m5_residuals_a, w_o_m5_errors_a = run_bfgs(M5, x0_m5, alg_method='O', ls_method='W', c1=1e-4, c2=0.9, return_arrays=True)\n",
    "o_m5_errors_list.append(w_o_m5_errors_a)\n",
    "o_m5_residuals_list.append(w_o_m5_residuals_a)"
   ]
  },
  {
   "cell_type": "code",
   "execution_count": 104,
   "id": "dd7f5279-0448-48b0-81a0-e01234124ea1",
   "metadata": {},
   "outputs": [
    {
     "name": "stdout",
     "output_type": "stream",
     "text": [
      "Convergence reached in 52 iterations\n",
      "Computed Norm: 23.624892381944633\n",
      "True Norm: 23.62489238197047\n",
      "Error: 1.0935640871724643e-12\n"
     ]
    }
   ],
   "source": [
    "w_o_m5_bfgs_b, w_o_m5_residuals_b, w_o_m5_errors_b = run_bfgs(M5, x0_m5, alg_method='O', ls_method='W', c1=0.1, c2=0.49, return_arrays=True)\n",
    "o_m5_errors_list.append(w_o_m5_errors_b)\n",
    "o_m5_residuals_list.append(w_o_m5_residuals_b)"
   ]
  },
  {
   "cell_type": "markdown",
   "id": "3bfc0a1b-8928-4ae8-96cb-592db0271153",
   "metadata": {
    "tags": []
   },
   "source": [
    "#### Base performance with loaded starting point (Armijo-type line search)"
   ]
  },
  {
   "cell_type": "code",
   "execution_count": 105,
   "id": "2d0bc268-ac4c-4b64-bf46-82a4f9839c0a",
   "metadata": {},
   "outputs": [
    {
     "name": "stdout",
     "output_type": "stream",
     "text": [
      "Convergence reached in 66 iterations\n",
      "Computed Norm: 23.624892381956926\n",
      "True Norm: 23.62489238197047\n",
      "Error: 5.732489411855657e-13\n"
     ]
    }
   ],
   "source": [
    "a_o_m5_bfgs_a, a_o_m5_residuals_a, a_o_m5_errors_a = run_bfgs(M5, x0_m5, alg_method='O', ls_method='A', c1=1e-4, return_arrays=True)\n",
    "o_m5_errors_list.append(a_o_m5_errors_a)\n",
    "o_m5_residuals_list.append(a_o_m5_residuals_a)"
   ]
  },
  {
   "cell_type": "code",
   "execution_count": 106,
   "id": "06875075-e9a6-4d36-855e-a29ef42b8cc4",
   "metadata": {},
   "outputs": [
    {
     "name": "stdout",
     "output_type": "stream",
     "text": [
      "Convergence reached in 66 iterations\n",
      "Computed Norm: 23.624892381956926\n",
      "True Norm: 23.62489238197047\n",
      "Error: 5.732489411855657e-13\n"
     ]
    }
   ],
   "source": [
    "a_o_m5_bfgs_b, a_o_m5_residuals_b, a_o_m5_errors_b = run_bfgs(M5, x0_m5, alg_method='O', ls_method='A', c1=0.1, return_arrays=True)\n",
    "o_m5_errors_list.append(a_o_m5_errors_b)\n",
    "o_m5_residuals_list.append(a_o_m5_residuals_b)"
   ]
  },
  {
   "cell_type": "markdown",
   "id": "fbe115e7-8722-4ffc-aa6f-bad41c644ee6",
   "metadata": {
    "tags": []
   },
   "source": [
    "#### Summary for Original BFGS"
   ]
  },
  {
   "cell_type": "code",
   "execution_count": 107,
   "id": "47924e07-8c75-4748-b55e-1c2e20bbb447",
   "metadata": {},
   "outputs": [
    {
     "data": {
      "image/png": "[encoded data removed]",
      "text/plain": [
       "<Figure size 720x288 with 2 Axes>"
      ]
     },
     "metadata": {
      "needs_background": "light"
     },
     "output_type": "display_data"
    }
   ],
   "source": [
    "plot_summary(o_m5_errors_list, o_m5_residuals_list, labels_list, \"M5\", \"BFGS\")"
   ]
  },
  {
   "cell_type": "markdown",
   "id": "d4fe3aa6-cdd2-4d23-a766-69f97248f5ff",
   "metadata": {
    "tags": []
   },
   "source": [
    "#### Average runtime over 10 runs (Wolfe-type line search)"
   ]
  },
  {
   "cell_type": "code",
   "execution_count": 108,
   "id": "3957693e-93a9-43f3-9410-ea2e7c3b307e",
   "metadata": {},
   "outputs": [
    {
     "name": "stdout",
     "output_type": "stream",
     "text": [
      "21.5 ms ± 1.05 ms per loop (mean ± std. dev. of 10 runs, 100 loops each)\n"
     ]
    }
   ],
   "source": [
    "%%timeit -r 10\n",
    "# Measuring running time\n",
    "w_o_m5_bfgs_a.bfgs()"
   ]
  },
  {
   "cell_type": "code",
   "execution_count": 109,
   "id": "d1b751da-7009-4419-bb76-723e76ff5862",
   "metadata": {},
   "outputs": [
    {
     "name": "stdout",
     "output_type": "stream",
     "text": [
      "18.9 ms ± 1.23 ms per loop (mean ± std. dev. of 10 runs, 10 loops each)\n"
     ]
    }
   ],
   "source": [
    "%%timeit -r 10\n",
    "# Measuring running time\n",
    "w_o_m5_bfgs_b.bfgs()"
   ]
  },
  {
   "cell_type": "markdown",
   "id": "a89012ac-245d-4abe-a5bd-61759f717de3",
   "metadata": {
    "tags": []
   },
   "source": [
    "#### Average runtime over 10 runs (Armijo-type line search)"
   ]
  },
  {
   "cell_type": "code",
   "execution_count": 110,
   "id": "8c7d6bb6-871f-4e1a-b9c8-5da4301280b9",
   "metadata": {},
   "outputs": [
    {
     "name": "stdout",
     "output_type": "stream",
     "text": [
      "20.6 ms ± 1.87 ms per loop (mean ± std. dev. of 10 runs, 100 loops each)\n"
     ]
    }
   ],
   "source": [
    "%%timeit -r 10\n",
    "# Measuring running time\n",
    "a_o_m5_bfgs_a.bfgs()"
   ]
  },
  {
   "cell_type": "code",
   "execution_count": 111,
   "id": "d2fb2946-403d-4655-9510-9e870d88722c",
   "metadata": {},
   "outputs": [
    {
     "name": "stdout",
     "output_type": "stream",
     "text": [
      "23.2 ms ± 2.06 ms per loop (mean ± std. dev. of 10 runs, 10 loops each)\n"
     ]
    }
   ],
   "source": [
    "%%timeit -r 10\n",
    "# Measuring running time\n",
    "a_o_m5_bfgs_b.bfgs()"
   ]
  },
  {
   "cell_type": "markdown",
   "id": "5bed8f94-abd4-491f-9da8-14d96932c659",
   "metadata": {
    "tags": []
   },
   "source": [
    "#### Comparison with off-shelf BFGS minimizer"
   ]
  },
  {
   "cell_type": "code",
   "execution_count": 112,
   "id": "80c93f7a-f0f1-4265-97d6-8b19e16be9ca",
   "metadata": {},
   "outputs": [
    {
     "name": "stdout",
     "output_type": "stream",
     "text": [
      "Convergence reached in 57 iterations\n",
      "Computed Norm: 23.624892381968753\n",
      "True Norm: 23.62489238197047\n",
      "Error: 7.263358829817111e-14\n"
     ]
    }
   ],
   "source": [
    "off_shelf_opt(M5, x0_m5)\n",
    "funcs = Funcs(M5)"
   ]
  },
  {
   "cell_type": "code",
   "execution_count": 113,
   "id": "2278c819-492f-453c-ad13-4972a7203693",
   "metadata": {},
   "outputs": [
    {
     "name": "stdout",
     "output_type": "stream",
     "text": [
      "21.2 ms ± 2.19 ms per loop (mean ± std. dev. of 10 runs, 10 loops each)\n"
     ]
    }
   ],
   "source": [
    "%%timeit -r 10\n",
    "# Measuring running time\n",
    "minimize(funcs.func_, x0_m5, method='BFGS', jac=funcs.func_grad_, options={'gtol': 1e-6, 'disp': False})"
   ]
  },
  {
   "cell_type": "markdown",
   "id": "0ee22e81-4a9a-4a9c-83d4-e245d39a2725",
   "metadata": {
    "tags": []
   },
   "source": [
    "#### Comparisonwith off-shelf norm function"
   ]
  },
  {
   "cell_type": "code",
   "execution_count": 114,
   "id": "9c86c8dc-9f05-4c85-9d06-129db38f6179",
   "metadata": {},
   "outputs": [
    {
     "name": "stdout",
     "output_type": "stream",
     "text": [
      "4.93 ms ± 395 µs per loop (mean ± std. dev. of 10 runs, 100 loops each)\n"
     ]
    }
   ],
   "source": [
    "%%timeit -r 10\n",
    "# Measuring running time\n",
    "la.norm(M5, 2)"
   ]
  },
  {
   "cell_type": "markdown",
   "id": "0dae4fd2-f971-4390-a79f-44d405f52add",
   "metadata": {
    "tags": []
   },
   "source": [
    "### Cautious BFGS"
   ]
  },
  {
   "cell_type": "code",
   "execution_count": 115,
   "id": "560036fd-4f61-4154-b0f4-824da3c51660",
   "metadata": {},
   "outputs": [],
   "source": [
    "c_m5_errors_list = []\n",
    "c_m5_residuals_list = []"
   ]
  },
  {
   "cell_type": "markdown",
   "id": "a2873356-29fd-4ce4-91b5-b9f5ac2616ea",
   "metadata": {
    "tags": []
   },
   "source": [
    "#### Base performance with loaded starting point (Wolfe-type line search)"
   ]
  },
  {
   "cell_type": "code",
   "execution_count": 116,
   "id": "ac85019a-cfc2-40d5-b016-c4f5c4b7f7dc",
   "metadata": {},
   "outputs": [
    {
     "name": "stdout",
     "output_type": "stream",
     "text": [
      "Convergence reached in 49 iterations\n",
      "Computed Norm: 23.624892381961875\n",
      "True Norm: 23.62489238197047\n",
      "Error: 3.6376946189084036e-13\n"
     ]
    }
   ],
   "source": [
    "w_c_m5_bfgs_a, w_c_m5_residuals_a, w_c_m5_errors_a = run_bfgs(M5, x0_m5, alg_method='C', ls_method='W', c1=1e-4, c2=0.9, return_arrays=True)\n",
    "c_m5_errors_list.append(w_c_m5_errors_a)\n",
    "c_m5_residuals_list.append(w_c_m5_residuals_a)"
   ]
  },
  {
   "cell_type": "code",
   "execution_count": 117,
   "id": "2b24ca45-34f0-4f05-b985-9019ccb26ed8",
   "metadata": {},
   "outputs": [
    {
     "name": "stdout",
     "output_type": "stream",
     "text": [
      "Convergence reached in 40 iterations\n",
      "Computed Norm: 23.62489238195983\n",
      "True Norm: 23.62489238197047\n",
      "Error: 4.5023801938866313e-13\n"
     ]
    }
   ],
   "source": [
    "w_c_m5_bfgs_b, w_c_m5_residuals_b, w_c_m5_errors_b = run_bfgs(M5, x0_m5, alg_method='C', ls_method='W', c1=0.1, c2=0.49, return_arrays=True)\n",
    "c_m5_errors_list.append(w_c_m5_errors_b)\n",
    "c_m5_residuals_list.append(w_c_m5_residuals_b)"
   ]
  },
  {
   "cell_type": "markdown",
   "id": "8a61801a-e839-49bc-b612-71d2f05ef774",
   "metadata": {
    "tags": []
   },
   "source": [
    "#### Base performance with loaded starting point (Armijo-type line search)"
   ]
  },
  {
   "cell_type": "code",
   "execution_count": 118,
   "id": "3061c124-bbdd-47a9-8300-b3672f989ff3",
   "metadata": {},
   "outputs": [
    {
     "name": "stdout",
     "output_type": "stream",
     "text": [
      "Convergence reached in 55 iterations\n",
      "Computed Norm: 23.624892381965143\n",
      "True Norm: 23.62489238197047\n",
      "Error: 2.2541976989432398e-13\n"
     ]
    }
   ],
   "source": [
    "a_c_m5_bfgs_a, a_c_m5_residuals_a, a_c_m5_errors_a = run_bfgs(M5, x0_m5, alg_method='C', ls_method='A', c1=1e-4, return_arrays=True)\n",
    "c_m5_errors_list.append(a_c_m5_errors_a)\n",
    "c_m5_residuals_list.append(a_c_m5_residuals_a)"
   ]
  },
  {
   "cell_type": "code",
   "execution_count": 119,
   "id": "d072ddc9-157c-49fe-b410-b6b22d9b361f",
   "metadata": {},
   "outputs": [
    {
     "name": "stdout",
     "output_type": "stream",
     "text": [
      "Convergence reached in 55 iterations\n",
      "Computed Norm: 23.624892381965143\n",
      "True Norm: 23.62489238197047\n",
      "Error: 2.2541976989432398e-13\n"
     ]
    }
   ],
   "source": [
    "a_c_m5_bfgs_b, a_c_m5_residuals_b, a_c_m5_errors_b = run_bfgs(M5, x0_m5, alg_method='C', ls_method='A', c1=0.1, return_arrays=True)\n",
    "c_m5_errors_list.append(a_c_m5_errors_b)\n",
    "c_m5_residuals_list.append(a_c_m5_residuals_b)"
   ]
  },
  {
   "cell_type": "markdown",
   "id": "89681206-292e-432b-bfc1-7c61c79d9a4f",
   "metadata": {},
   "source": [
    "#### Summary for Cautious BFGS"
   ]
  },
  {
   "cell_type": "code",
   "execution_count": 120,
   "id": "39d99121-a398-4c2b-a9a0-62a583f00058",
   "metadata": {},
   "outputs": [
    {
     "data": {
      "image/png": "[encoded data removed]",
      "text/plain": [
       "<Figure size 720x288 with 2 Axes>"
      ]
     },
     "metadata": {
      "needs_background": "light"
     },
     "output_type": "display_data"
    }
   ],
   "source": [
    "plot_summary(c_m5_errors_list, c_m5_residuals_list, labels_list, \"M5\", \"C-BFGS\")"
   ]
  },
  {
   "cell_type": "markdown",
   "id": "1d3e2d75-0ebf-4593-a7bb-9599a5ece7c0",
   "metadata": {
    "tags": []
   },
   "source": [
    "#### Average runtime over 10 runs (Wolfe-type line search)"
   ]
  },
  {
   "cell_type": "code",
   "execution_count": 121,
   "id": "23092ef4-55eb-4604-878f-2eee82ff18e4",
   "metadata": {},
   "outputs": [
    {
     "name": "stdout",
     "output_type": "stream",
     "text": [
      "16.8 ms ± 2.85 ms per loop (mean ± std. dev. of 10 runs, 100 loops each)\n"
     ]
    }
   ],
   "source": [
    "%%timeit -r 10\n",
    "# Measuring running time\n",
    "w_c_m5_bfgs_a.bfgs()"
   ]
  },
  {
   "cell_type": "code",
   "execution_count": 122,
   "id": "9c9d2a44-10f1-4632-995f-5063e2761f37",
   "metadata": {},
   "outputs": [
    {
     "name": "stdout",
     "output_type": "stream",
     "text": [
      "17.5 ms ± 1.75 ms per loop (mean ± std. dev. of 10 runs, 10 loops each)\n"
     ]
    }
   ],
   "source": [
    "%%timeit -r 10\n",
    "# Measuring running time\n",
    "w_c_m5_bfgs_b.bfgs()"
   ]
  },
  {
   "cell_type": "markdown",
   "id": "23af1908-34e8-441f-81b2-b3a9e249fe56",
   "metadata": {
    "tags": []
   },
   "source": [
    "#### Average runtime over 10 runs (Armijo-type line search)"
   ]
  },
  {
   "cell_type": "code",
   "execution_count": 123,
   "id": "12c9f15c-a296-432d-ae2b-a405b7d8002b",
   "metadata": {},
   "outputs": [
    {
     "name": "stdout",
     "output_type": "stream",
     "text": [
      "16.7 ms ± 1.47 ms per loop (mean ± std. dev. of 10 runs, 100 loops each)\n"
     ]
    }
   ],
   "source": [
    "%%timeit -r 10\n",
    "# Measuring running time\n",
    "a_c_m5_bfgs_a.bfgs()"
   ]
  },
  {
   "cell_type": "code",
   "execution_count": 124,
   "id": "62dd7b54-4038-4300-9ef7-bce02ac692c2",
   "metadata": {},
   "outputs": [
    {
     "name": "stdout",
     "output_type": "stream",
     "text": [
      "15.6 ms ± 2.41 ms per loop (mean ± std. dev. of 10 runs, 100 loops each)\n"
     ]
    }
   ],
   "source": [
    "%%timeit -r 10\n",
    "# Measuring running time\n",
    "a_c_m5_bfgs_b.bfgs()"
   ]
  },
  {
   "cell_type": "code",
   "execution_count": null,
   "id": "f45f2b9c-5477-4170-ae6e-c23d0503e9e9",
   "metadata": {},
   "outputs": [],
   "source": []
  }
 ],
 "metadata": {
  "kernelspec": {
   "display_name": "Python 3 (ipykernel)",
   "language": "python",
   "name": "python3"
  },
  "language_info": {
   "codemirror_mode": {
    "name": "ipython",
    "version": 3
   },
   "file_extension": ".py",
   "mimetype": "text/x-python",
   "name": "python",
   "nbconvert_exporter": "python",
   "pygments_lexer": "ipython3",
   "version": "3.9.7"
  }
 },
 "nbformat": 4,
 "nbformat_minor": 5
}
