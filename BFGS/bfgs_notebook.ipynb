{
 "cells": [
  {
   "cell_type": "markdown",
   "id": "7d44b9c7-b7b8-46c2-97e1-8406e7a042ab",
   "metadata": {
    "tags": []
   },
   "source": [
    "# BFGS Experimental Notebook"
   ]
  },
  {
   "cell_type": "markdown",
   "id": "11e87192-0c83-45ee-b7da-5492bc037dd1",
   "metadata": {
    "tags": []
   },
   "source": [
    "## Setup"
   ]
  },
  {
   "cell_type": "markdown",
   "id": "da0c4e8e-d851-4c71-b975-68ffee590388",
   "metadata": {
    "jp-MarkdownHeadingCollapsed": true,
    "tags": []
   },
   "source": [
    "### Imports"
   ]
  },
  {
   "cell_type": "code",
   "execution_count": 3,
   "id": "7d6440bf-fa5a-4483-8c36-220607ed2a31",
   "metadata": {},
   "outputs": [],
   "source": [
    "import numpy as np\n",
    "from numpy import linalg as la\n",
    "from scipy.optimize import line_search as off_shelf_line_search\n",
    "from scipy.optimize import minimize\n",
    "import pandas\n",
    "\n",
    "from bfgs_funcs import Funcs\n",
    "from bfgs import BFGS\n",
    "\n",
    "from plotly.subplots import make_subplots\n",
    "import plotly.graph_objects as go"
   ]
  },
  {
   "cell_type": "markdown",
   "id": "1de913ac-04d7-4601-8087-f306eee987d3",
   "metadata": {
    "tags": []
   },
   "source": [
    "### Data Generation"
   ]
  },
  {
   "cell_type": "markdown",
   "id": "d8255bce-b7fc-467a-bca2-70cdde295bd9",
   "metadata": {
    "jp-MarkdownHeadingCollapsed": true,
    "tags": []
   },
   "source": [
    "#### Load Data"
   ]
  },
  {
   "cell_type": "code",
   "execution_count": 4,
   "id": "ac0d9440-ad0b-49bb-a511-86ce883d7529",
   "metadata": {},
   "outputs": [],
   "source": [
    "# load the matrix\n",
    "M1 = np.loadtxt('../data/M1.txt')\n",
    "x0_m1 = np.loadtxt('../data/x0_m1.txt')\n",
    "M2 = np.loadtxt('../data/M2.txt')\n",
    "x0_m2 = np.loadtxt('../data/x0_m2.txt')\n",
    "M3 = np.loadtxt('../data/M3.txt')\n",
    "x0_m3 = np.loadtxt('../data/x0_m3.txt')\n",
    "M4 = np.loadtxt('../data/M4.txt')\n",
    "x0_m4 = np.loadtxt('../data/x0_m4.txt')\n",
    "M5 = np.loadtxt('../data/M5.txt')\n",
    "x0_m5 = np.loadtxt('../data/x0_m5.txt')"
   ]
  },
  {
   "cell_type": "code",
   "execution_count": 5,
   "id": "06b2b539-9019-435b-817a-458998e802c4",
   "metadata": {},
   "outputs": [
    {
     "data": {
      "text/plain": [
       "((1000, 1000), (10000, 100), (100, 1000), (100, 100), (1000, 100))"
      ]
     },
     "execution_count": 5,
     "metadata": {},
     "output_type": "execute_result"
    }
   ],
   "source": [
    "M1.shape, M2.shape, M3.shape, M4.shape, M5.shape"
   ]
  },
  {
   "cell_type": "markdown",
   "id": "834eefdb-59e1-4d7d-ab7f-0bb722a094d5",
   "metadata": {
    "jp-MarkdownHeadingCollapsed": true,
    "tags": []
   },
   "source": [
    "### Utils Functions"
   ]
  },
  {
   "cell_type": "code",
   "execution_count": 6,
   "id": "c3970d23-0c6b-4781-81ed-c06da09f4814",
   "metadata": {},
   "outputs": [],
   "source": [
    "def error_report(matrix, fx, residuals, errors, max_iter = 1000, plot=False):\n",
    "    computed_norm = np.sqrt(- fx)\n",
    "    correct_norm = la.norm(matrix, 2)\n",
    "    error = abs(correct_norm - computed_norm)\n",
    "    \n",
    "    num_iterations = len(residuals)\n",
    "    if num_iterations != max_iter:\n",
    "        print(\"Convergence reached in \" + str(num_iterations) + \" iterations\")\n",
    "    else:\n",
    "        print(\"Convergence not reached\")\n",
    "\n",
    "    print(\"Computed Norm: \" + str(computed_norm))\n",
    "    print(\"True Norm: \" + str(correct_norm))\n",
    "    print(\"Error: \" + str(error))\n",
    "    \n",
    "    if plot:\n",
    "        fig = make_subplots(rows=1, cols=2, shared_xaxes=False)\n",
    "        fig.add_trace( go.Scatter(x=list(range(0,len(errors))), y=errors,name=\"Errors\"),\n",
    "            row=1, col=1)\n",
    "        fig.add_trace(\n",
    "            go.Scatter(x=list(range(0,len(residuals))), y=residuals,name=\"Residuals\"), row=1, col=2\n",
    "        )\n",
    "        fig.update_xaxes(title_text=\"Iterations\", row=1, col=1)\n",
    "        fig.update_yaxes(title_text=\"Error\", row=1, col=1)\n",
    "        fig.update_xaxes(title_text=\"Iterations\", row=1, col=2)\n",
    "        fig.update_yaxes(title_text=\"Residual\", row=1, col=2)\n",
    "        fig.update_layout(height=500, width=1000,title_text=\"Residual and Error plot\").show()"
   ]
  },
  {
   "cell_type": "code",
   "execution_count": 7,
   "id": "7d7baf86-c7f7-4fd1-817e-ab9b4ade9c6c",
   "metadata": {},
   "outputs": [],
   "source": [
    "def run_bfgs(matrix, c1=1e-4, c2=0.9, alg_method='O', ls_method='W', starting_point = [], max_iter=1000):\n",
    "    funcs = Funcs(matrix)\n",
    "    B0 = np.identity(matrix.shape[1])\n",
    "    \n",
    "    if len(starting_point) == 0:\n",
    "        vector = np.round(np.random.randn(matrix.shape[1]),decimals = 3)\n",
    "    else:\n",
    "        vector = starting_point\n",
    "    \n",
    "    if ls_method == 'W':\n",
    "        line_search_args = {'c1': c1, 'c2': c2}\n",
    "    else:\n",
    "        line_search_args = {'c1': c1}\n",
    "        \n",
    "    line_search_method = funcs.line_search_methods[ls_method]\n",
    "\n",
    "    # Initialize the BFGS algorithm.\n",
    "    bfgs = BFGS(funcs.func_, funcs.func_grad_, line_search_method, vector, B0, tol=1e-5, max_iter=max_iter, method=alg_method, line_search_args=line_search_args, verboose=False)\n",
    "\n",
    "    # Run the algorithm.\n",
    "    residuals, errors, result = bfgs.bfgs()\n",
    "\n",
    "    # Evalutate Performance of the Single Run\n",
    "    error_report(matrix, result, residuals, errors, max_iter=max_iter, plot=False)\n",
    "    \n",
    "    if len(starting_point) == 0:\n",
    "        return vector, bfgs\n",
    "    \n",
    "    return bfgs"
   ]
  },
  {
   "cell_type": "code",
   "execution_count": 8,
   "id": "b5d7afb4-5976-46a0-8d90-fa9c5fa04bba",
   "metadata": {},
   "outputs": [],
   "source": [
    "def off_shelf_opt(matrix, vector):\n",
    "    funcs = Funcs(matrix)\n",
    "    res = minimize(funcs.func_, vector, method='BFGS', jac=funcs.func_grad_, tol=1e-5, options={'gtol': 1e-6, 'disp': False})\n",
    "    fx = res.fun\n",
    "    \n",
    "    num_iterations = res.nit\n",
    "    if res.success:\n",
    "        print(\"Convergence reached in \" + str(num_iterations) + \" iterations\")\n",
    "    else:\n",
    "        print(\"Convergence not reached\")\n",
    "    \n",
    "    computed_norm = np.sqrt(-fx)\n",
    "    correct_norm = la.norm(matrix, 2)\n",
    "    error = abs(computed_norm - correct_norm)\n",
    "    \n",
    "    print(\"Computed Norm: \" + str(computed_norm))\n",
    "    print(\"True Norm: \" + str(correct_norm))\n",
    "    print(\"Error: \" + str(error))"
   ]
  },
  {
   "cell_type": "markdown",
   "id": "1748f3b8-2972-4b66-add9-6f46c5935dac",
   "metadata": {
    "jp-MarkdownHeadingCollapsed": true,
    "tags": []
   },
   "source": [
    "## M1 Matrix"
   ]
  },
  {
   "cell_type": "markdown",
   "id": "be01d1df-3a6c-40e1-8492-bb63635fe2ea",
   "metadata": {
    "tags": []
   },
   "source": [
    "### Original BFGS"
   ]
  },
  {
   "cell_type": "markdown",
   "id": "e89c9412-dc02-4995-a567-ebc141a20045",
   "metadata": {
    "tags": []
   },
   "source": [
    "#### Base performance with loaded starting point (Wolfe-type line search)"
   ]
  },
  {
   "cell_type": "code",
   "execution_count": 9,
   "id": "61078256-e569-4db5-8a4e-8c87673db083",
   "metadata": {},
   "outputs": [
    {
     "name": "stdout",
     "output_type": "stream",
     "text": [
      "Convergence reached in 149 iterations\n",
      "Computed Norm: 99.99999999989785\n",
      "True Norm: 99.99999999999979\n",
      "Error: 1.0193446087214397e-10\n"
     ]
    }
   ],
   "source": [
    "w_o_m1_bfgs_a = run_bfgs(M1, alg_method='O', ls_method='W', c1=1e-4, c2=0.9, starting_point=x0_m1)"
   ]
  },
  {
   "cell_type": "code",
   "execution_count": 10,
   "id": "661c97d8-8935-4eea-b641-269a6d1f23d3",
   "metadata": {},
   "outputs": [
    {
     "name": "stdout",
     "output_type": "stream",
     "text": [
      "Convergence reached in 86 iterations\n",
      "Computed Norm: 99.99999999996305\n",
      "True Norm: 99.99999999999979\n",
      "Error: 3.673505943879718e-11\n"
     ]
    }
   ],
   "source": [
    "w_o_m1_bfgs_b = run_bfgs(M1, alg_method='O', ls_method='W', c1=0.1, c2=0.49, starting_point=x0_m1)"
   ]
  },
  {
   "cell_type": "markdown",
   "id": "8644332b-0449-4ba1-8b03-efda63ed6a72",
   "metadata": {
    "tags": []
   },
   "source": [
    "#### Base performance with loaded starting point (Armijo-type line search)"
   ]
  },
  {
   "cell_type": "code",
   "execution_count": 11,
   "id": "d2bffa1d-5c8a-485a-b4a5-75848c53da21",
   "metadata": {},
   "outputs": [
    {
     "name": "stdout",
     "output_type": "stream",
     "text": [
      "Convergence reached in 37 iterations\n",
      "Computed Norm: 99.99999999999976\n",
      "True Norm: 99.99999999999979\n",
      "Error: 2.842170943040401e-14\n"
     ]
    }
   ],
   "source": [
    "a_o_m1_bfgs_a = run_bfgs(M1, alg_method='O', ls_method='A', c1=1e-4, starting_point=x0_m1)"
   ]
  },
  {
   "cell_type": "code",
   "execution_count": 12,
   "id": "0773d351-f8bf-4f59-a83d-15b72bae9a81",
   "metadata": {},
   "outputs": [
    {
     "name": "stderr",
     "output_type": "stream",
     "text": [
      "/Users/JoeKifle/Desktop/CM_lastRun/CM-2Norm_matrix_problem/BFGS/bfgs.py:121: RuntimeWarning: divide by zero encountered in double_scalars\n",
      "  ro = 1.0 / (np.dot(y, s))\n",
      "/Users/JoeKifle/Desktop/CM_lastRun/CM-2Norm_matrix_problem/BFGS/bfgs.py:122: RuntimeWarning: invalid value encountered in multiply\n",
      "  A1 = I - ro * s[:, np.newaxis] * y[np.newaxis, :]\n",
      "/Users/JoeKifle/Desktop/CM_lastRun/CM-2Norm_matrix_problem/BFGS/bfgs.py:123: RuntimeWarning: invalid value encountered in multiply\n",
      "  A2 = I - ro * y[:, np.newaxis] * s[np.newaxis, :]\n",
      "/Users/JoeKifle/Desktop/CM_lastRun/CM-2Norm_matrix_problem/BFGS/bfgs.py:124: RuntimeWarning: invalid value encountered in multiply\n",
      "  H_new = np.dot(A1, np.dot(H, A2)) + (ro * s[:, np.newaxis] * s[np.newaxis, :])\n"
     ]
    },
    {
     "name": "stdout",
     "output_type": "stream",
     "text": [
      "Convergence reached in 99 iterations\n",
      "Computed Norm: nan\n",
      "True Norm: 99.99999999999979\n",
      "Error: nan\n"
     ]
    }
   ],
   "source": [
    "a_o_m1_bfgs_b = run_bfgs(M1, alg_method='O', ls_method='A', c1=0.1, starting_point=x0_m1)"
   ]
  },
  {
   "cell_type": "markdown",
   "id": "437173b4-a7e0-49a1-b148-09bf81f375f3",
   "metadata": {
    "tags": []
   },
   "source": [
    "#### Average runtime over 10 runs (Wolfe-type line search)"
   ]
  },
  {
   "cell_type": "code",
   "execution_count": 13,
   "id": "e82781e4-4ab6-41a7-990e-d77614a5485d",
   "metadata": {},
   "outputs": [
    {
     "name": "stdout",
     "output_type": "stream",
     "text": [
      "34.4 s ± 5.76 s per loop (mean ± std. dev. of 10 runs, 1 loop each)\n"
     ]
    }
   ],
   "source": [
    "%%timeit -r 10\n",
    "# Measuring running time\n",
    "w_o_m1_bfgs_a.bfgs()"
   ]
  },
  {
   "cell_type": "code",
   "execution_count": 14,
   "id": "8da1e288-5b79-43c4-90fe-69254d078d53",
   "metadata": {},
   "outputs": [
    {
     "name": "stdout",
     "output_type": "stream",
     "text": [
      "22.3 s ± 2.41 s per loop (mean ± std. dev. of 10 runs, 1 loop each)\n"
     ]
    }
   ],
   "source": [
    "%%timeit -r 10\n",
    "# Measuring running time\n",
    "w_o_m1_bfgs_b.bfgs()"
   ]
  },
  {
   "cell_type": "markdown",
   "id": "5cf1727c-a202-40d1-a534-a88ee90105f4",
   "metadata": {
    "tags": []
   },
   "source": [
    "#### Average runtime over 10 runs (Armijo-type line search)"
   ]
  },
  {
   "cell_type": "code",
   "execution_count": 15,
   "id": "677fe62b-f715-4fb4-b71b-4c0ac56db35f",
   "metadata": {},
   "outputs": [
    {
     "name": "stdout",
     "output_type": "stream",
     "text": [
      "8.18 s ± 925 ms per loop (mean ± std. dev. of 10 runs, 1 loop each)\n"
     ]
    }
   ],
   "source": [
    "%%timeit -r 10\n",
    "# Measuring running time\n",
    "a_o_m1_bfgs_a.bfgs()"
   ]
  },
  {
   "cell_type": "code",
   "execution_count": 16,
   "id": "6571e322-6fae-4d84-a3b8-ab69f56ee1e4",
   "metadata": {},
   "outputs": [
    {
     "name": "stdout",
     "output_type": "stream",
     "text": [
      "20.9 s ± 2.47 s per loop (mean ± std. dev. of 10 runs, 1 loop each)\n"
     ]
    }
   ],
   "source": [
    "%%timeit -r 10\n",
    "# Measuring running time\n",
    "a_o_m1_bfgs_b.bfgs()"
   ]
  },
  {
   "cell_type": "markdown",
   "id": "5d628da2-e2fc-48fd-822f-facb65bcae96",
   "metadata": {
    "tags": []
   },
   "source": [
    "#### Comparison with off-shelf BFGS minimizer"
   ]
  },
  {
   "cell_type": "code",
   "execution_count": 17,
   "id": "a430ab1c-d53a-4234-a732-df86437dc480",
   "metadata": {},
   "outputs": [
    {
     "name": "stdout",
     "output_type": "stream",
     "text": [
      "Convergence reached in 120 iterations\n",
      "Computed Norm: 99.99999999998693\n",
      "True Norm: 99.99999999999979\n",
      "Error: 1.2860823517257813e-11\n"
     ]
    }
   ],
   "source": [
    "off_shelf_opt(M1, x0_m1)\n",
    "funcs = Funcs(M1)"
   ]
  },
  {
   "cell_type": "code",
   "execution_count": 18,
   "id": "7835b249-40ce-4cc5-b669-b7ac1b2c13ce",
   "metadata": {},
   "outputs": [
    {
     "name": "stdout",
     "output_type": "stream",
     "text": [
      "24.3 s ± 4.14 s per loop (mean ± std. dev. of 10 runs, 1 loop each)\n"
     ]
    }
   ],
   "source": [
    "%%timeit -r 10\n",
    "# Measuring running time\n",
    "minimize(funcs.func_, x0_m1, method='BFGS', jac=funcs.func_grad_, options={'gtol': 1e-6, 'disp': False})"
   ]
  },
  {
   "cell_type": "markdown",
   "id": "7b1ce0d4-565f-44d1-9e06-0983e96fbb8c",
   "metadata": {
    "jp-MarkdownHeadingCollapsed": true,
    "tags": []
   },
   "source": [
    "#### Summary for Original BFGS"
   ]
  },
  {
   "cell_type": "code",
   "execution_count": null,
   "id": "afea2e16-d2bc-4554-b5bb-ec15dcfa269e",
   "metadata": {},
   "outputs": [],
   "source": []
  },
  {
   "cell_type": "markdown",
   "id": "70784920-bc21-4be8-8d6c-f9b52bdac44f",
   "metadata": {
    "tags": []
   },
   "source": [
    "### Cautious BFGS"
   ]
  },
  {
   "cell_type": "markdown",
   "id": "f6406f77-090f-46b7-88b8-5802fa1631bb",
   "metadata": {
    "tags": []
   },
   "source": [
    "#### Base performance with loaded starting point (Wolfe-type line search)"
   ]
  },
  {
   "cell_type": "code",
   "execution_count": 19,
   "id": "da4bcef5-eeb3-4c9e-a115-a8d2ac2c1769",
   "metadata": {},
   "outputs": [
    {
     "name": "stdout",
     "output_type": "stream",
     "text": [
      "Convergence reached in 48 iterations\n",
      "Computed Norm: 99.9999999999994\n",
      "True Norm: 99.99999999999979\n",
      "Error: 3.836930773104541e-13\n"
     ]
    }
   ],
   "source": [
    "w_c_m1_bfgs_a = run_bfgs(M1, alg_method='C', ls_method='W', c1=1e-4, c2=0.9, starting_point=x0_m1)"
   ]
  },
  {
   "cell_type": "code",
   "execution_count": 20,
   "id": "4d10a0c1-34ae-455b-bd5a-e8f862096cf1",
   "metadata": {},
   "outputs": [
    {
     "name": "stdout",
     "output_type": "stream",
     "text": [
      "Convergence reached in 47 iterations\n",
      "Computed Norm: 99.99999999999937\n",
      "True Norm: 99.99999999999979\n",
      "Error: 4.121147867408581e-13\n"
     ]
    }
   ],
   "source": [
    "w_c_m1_bfgs_b = run_bfgs(M1, alg_method='C', ls_method='W', c1=0.1, c2=0.49, starting_point=x0_m1)"
   ]
  },
  {
   "cell_type": "markdown",
   "id": "2c8131b9-bd24-4692-9eb6-45bf5f64770a",
   "metadata": {
    "tags": []
   },
   "source": [
    "#### Base performance with loaded starting point (Armijo-type line search)"
   ]
  },
  {
   "cell_type": "code",
   "execution_count": 21,
   "id": "181ea605-4ca7-415f-87d3-d4f7872b633d",
   "metadata": {},
   "outputs": [
    {
     "name": "stdout",
     "output_type": "stream",
     "text": [
      "Convergence reached in 54 iterations\n",
      "Computed Norm: 99.99999999999949\n",
      "True Norm: 99.99999999999979\n",
      "Error: 2.984279490192421e-13\n"
     ]
    }
   ],
   "source": [
    "a_c_m1_bfgs_a = run_bfgs(M1, alg_method='C', ls_method='A', c1=1e-4, starting_point=x0_m1)"
   ]
  },
  {
   "cell_type": "code",
   "execution_count": 22,
   "id": "b7e89100-288a-48b6-8d5c-28be7409f854",
   "metadata": {},
   "outputs": [
    {
     "name": "stdout",
     "output_type": "stream",
     "text": [
      "Convergence reached in 54 iterations\n",
      "Computed Norm: 99.99999999999949\n",
      "True Norm: 99.99999999999979\n",
      "Error: 2.984279490192421e-13\n"
     ]
    }
   ],
   "source": [
    "a_c_m1_bfgs_b = run_bfgs(M1, alg_method='C', ls_method='A', c1=0.1, starting_point=x0_m1)"
   ]
  },
  {
   "cell_type": "markdown",
   "id": "98a4809f-d855-4360-85d8-f8ef5b07e019",
   "metadata": {
    "tags": []
   },
   "source": [
    "#### Average runtime over 10 runs (Wolfe-type line search)"
   ]
  },
  {
   "cell_type": "code",
   "execution_count": 23,
   "id": "b9d8e48f-e3ca-45b4-b612-71f6bffc6c6a",
   "metadata": {},
   "outputs": [
    {
     "name": "stdout",
     "output_type": "stream",
     "text": [
      "The slowest run took 4.03 times longer than the fastest. This could mean that an intermediate result is being cached.\n",
      "13.5 s ± 6.5 s per loop (mean ± std. dev. of 10 runs, 1 loop each)\n"
     ]
    }
   ],
   "source": [
    "%%timeit -r 10\n",
    "# Measuring running time\n",
    "w_c_m1_bfgs_a.bfgs()"
   ]
  },
  {
   "cell_type": "code",
   "execution_count": 24,
   "id": "94457357-f1da-4caf-94c0-3721b3aacbce",
   "metadata": {},
   "outputs": [
    {
     "name": "stdout",
     "output_type": "stream",
     "text": [
      "16.1 s ± 4.59 s per loop (mean ± std. dev. of 10 runs, 1 loop each)\n"
     ]
    }
   ],
   "source": [
    "%%timeit -r 10\n",
    "# Measuring running time\n",
    "w_c_m1_bfgs_b.bfgs()"
   ]
  },
  {
   "cell_type": "markdown",
   "id": "b6b6ddd2-ebd5-46f6-b3a7-7e588f11b7b7",
   "metadata": {
    "tags": []
   },
   "source": [
    "#### Average runtime over 10 runs (Armijo-type line search)"
   ]
  },
  {
   "cell_type": "code",
   "execution_count": 25,
   "id": "2db1bd97-035a-4ec6-ad74-7efc957e5f15",
   "metadata": {},
   "outputs": [
    {
     "name": "stdout",
     "output_type": "stream",
     "text": [
      "8.42 s ± 2.28 s per loop (mean ± std. dev. of 10 runs, 1 loop each)\n"
     ]
    }
   ],
   "source": [
    "%%timeit -r 10\n",
    "# Measuring running time\n",
    "a_c_m1_bfgs_a.bfgs()"
   ]
  },
  {
   "cell_type": "code",
   "execution_count": 26,
   "id": "d4c69017-488a-45ec-aaf2-a4cefb419a6f",
   "metadata": {},
   "outputs": [
    {
     "name": "stdout",
     "output_type": "stream",
     "text": [
      "10.3 s ± 2.95 s per loop (mean ± std. dev. of 10 runs, 1 loop each)\n"
     ]
    }
   ],
   "source": [
    "%%timeit -r 10\n",
    "# Measuring running time\n",
    "a_c_m1_bfgs_b.bfgs()"
   ]
  },
  {
   "cell_type": "markdown",
   "id": "92a93181-08bd-4c1d-b36d-23b3a8bb299e",
   "metadata": {
    "jp-MarkdownHeadingCollapsed": true,
    "tags": []
   },
   "source": [
    "#### Summary for Cautious BFGS"
   ]
  },
  {
   "cell_type": "code",
   "execution_count": null,
   "id": "d2b82fe5-f029-4b5f-a8ff-07f8de729015",
   "metadata": {},
   "outputs": [],
   "source": []
  },
  {
   "cell_type": "markdown",
   "id": "3ba3d185-e7d1-4908-b7d5-1bd2dba10f47",
   "metadata": {
    "jp-MarkdownHeadingCollapsed": true,
    "tags": []
   },
   "source": [
    "## M2 Matrix"
   ]
  },
  {
   "cell_type": "markdown",
   "id": "1096bb5e-98f7-4ebf-ba58-56a6eba14523",
   "metadata": {
    "tags": []
   },
   "source": [
    "### Original BFGS"
   ]
  },
  {
   "cell_type": "markdown",
   "id": "28142775-1227-424e-88df-bfadc6483c9b",
   "metadata": {
    "tags": []
   },
   "source": [
    "#### Base performance with loaded starting point (Wolfe-type line search)"
   ]
  },
  {
   "cell_type": "code",
   "execution_count": 27,
   "id": "7267d737-359f-480c-a126-e0154cecf625",
   "metadata": {},
   "outputs": [
    {
     "name": "stdout",
     "output_type": "stream",
     "text": [
      "Convergence reached in 445 iterations\n",
      "Computed Norm: 109.46751097802968\n",
      "True Norm: 109.46751097963192\n",
      "Error: 1.6022454474295955e-09\n"
     ]
    }
   ],
   "source": [
    "w_o_m2_bfgs_a = run_bfgs(M2, alg_method='O', ls_method='W', c1=1e-4, c2=0.9, starting_point=x0_m2)"
   ]
  },
  {
   "cell_type": "code",
   "execution_count": 28,
   "id": "3300e264-44e5-4cb1-a3d3-47c18eafea28",
   "metadata": {},
   "outputs": [
    {
     "name": "stdout",
     "output_type": "stream",
     "text": [
      "Convergence reached in 169 iterations\n",
      "Computed Norm: 109.46751097956667\n",
      "True Norm: 109.46751097963192\n",
      "Error: 6.52562448522076e-11\n"
     ]
    }
   ],
   "source": [
    "w_o_m2_bfgs_b = run_bfgs(M2, alg_method='O', ls_method='W', c1=0.1, c2=0.49, starting_point=x0_m2)"
   ]
  },
  {
   "cell_type": "markdown",
   "id": "6a4f2bfe-ed2e-444b-bda2-433dea203dbf",
   "metadata": {
    "tags": []
   },
   "source": [
    "#### Base performance with loaded starting point (Armijo-type line search)"
   ]
  },
  {
   "cell_type": "code",
   "execution_count": 29,
   "id": "92414e0f-0073-4804-9f34-d53305da4aad",
   "metadata": {},
   "outputs": [
    {
     "name": "stdout",
     "output_type": "stream",
     "text": [
      "Convergence reached in 440 iterations\n",
      "Computed Norm: 109.46751097793373\n",
      "True Norm: 109.46751097963192\n",
      "Error: 1.6981971384666394e-09\n"
     ]
    }
   ],
   "source": [
    "a_o_m2_bfgs_a = run_bfgs(M2, alg_method='O', ls_method='A', c1=1e-4, starting_point=x0_m2)"
   ]
  },
  {
   "cell_type": "code",
   "execution_count": 30,
   "id": "d07d6f66-3c37-4e2a-a0d4-e9853afdad3d",
   "metadata": {},
   "outputs": [
    {
     "name": "stdout",
     "output_type": "stream",
     "text": [
      "Convergence reached in 241 iterations\n",
      "Computed Norm: 109.46751097958969\n",
      "True Norm: 109.46751097963192\n",
      "Error: 4.2234660213580355e-11\n"
     ]
    }
   ],
   "source": [
    "a_o_m2_bfgs_b = run_bfgs(M2, alg_method='O', ls_method='A', c1=0.1, starting_point=x0_m2)"
   ]
  },
  {
   "cell_type": "markdown",
   "id": "dfbca7ad-8d29-4d50-b4f9-88ae1b89e63d",
   "metadata": {
    "tags": []
   },
   "source": [
    "#### Average runtime over 10 runs (Wolfe-type line search)"
   ]
  },
  {
   "cell_type": "code",
   "execution_count": 31,
   "id": "05a1ee05-e7d8-47a5-89ac-2d1f7a320c11",
   "metadata": {},
   "outputs": [
    {
     "name": "stdout",
     "output_type": "stream",
     "text": [
      "The slowest run took 14.90 times longer than the fastest. This could mean that an intermediate result is being cached.\n",
      "1.78 s ± 1.73 s per loop (mean ± std. dev. of 10 runs, 1 loop each)\n"
     ]
    }
   ],
   "source": [
    "%%timeit -r 10\n",
    "# Measuring running time\n",
    "w_o_m2_bfgs_a.bfgs()"
   ]
  },
  {
   "cell_type": "code",
   "execution_count": 32,
   "id": "41b53583-55a2-4590-9385-2f720754a872",
   "metadata": {},
   "outputs": [
    {
     "name": "stdout",
     "output_type": "stream",
     "text": [
      "623 ms ± 141 ms per loop (mean ± std. dev. of 10 runs, 1 loop each)\n"
     ]
    }
   ],
   "source": [
    "%%timeit -r 10\n",
    "# Measuring running time\n",
    "w_o_m2_bfgs_b.bfgs()"
   ]
  },
  {
   "cell_type": "markdown",
   "id": "893f33df-cd36-40e6-9c7f-45f494dd1d3d",
   "metadata": {
    "tags": []
   },
   "source": [
    "#### Average runtime over 10 runs (Armijo-type line search)"
   ]
  },
  {
   "cell_type": "code",
   "execution_count": 33,
   "id": "f2e672ff-04c2-49c0-95f2-d95dd63bc461",
   "metadata": {},
   "outputs": [
    {
     "name": "stdout",
     "output_type": "stream",
     "text": [
      "577 ms ± 279 ms per loop (mean ± std. dev. of 10 runs, 1 loop each)\n"
     ]
    }
   ],
   "source": [
    "%%timeit -r 10\n",
    "# Measuring running time\n",
    "a_o_m2_bfgs_a.bfgs()"
   ]
  },
  {
   "cell_type": "code",
   "execution_count": 34,
   "id": "39f76697-8e99-43b6-bdc9-c74e2469e2a8",
   "metadata": {},
   "outputs": [
    {
     "name": "stdout",
     "output_type": "stream",
     "text": [
      "The slowest run took 6.40 times longer than the fastest. This could mean that an intermediate result is being cached.\n",
      "488 ms ± 307 ms per loop (mean ± std. dev. of 10 runs, 1 loop each)\n"
     ]
    }
   ],
   "source": [
    "%%timeit -r 10\n",
    "# Measuring running time\n",
    "a_o_m2_bfgs_b.bfgs()"
   ]
  },
  {
   "cell_type": "markdown",
   "id": "fe27f745-e815-4898-95e3-335263377b3c",
   "metadata": {
    "tags": []
   },
   "source": [
    "#### Comparison with off-shelf BFGS minimizer"
   ]
  },
  {
   "cell_type": "code",
   "execution_count": 35,
   "id": "f44f946f-3085-4f82-adbf-4822c6d3f6dc",
   "metadata": {},
   "outputs": [
    {
     "name": "stdout",
     "output_type": "stream",
     "text": [
      "Convergence not reached\n",
      "Computed Norm: 109.43610778289376\n",
      "True Norm: 109.46751097963192\n",
      "Error: 0.03140319673816805\n"
     ]
    }
   ],
   "source": [
    "off_shelf_opt(M2, x0_m2)\n",
    "funcs = Funcs(M2)"
   ]
  },
  {
   "cell_type": "code",
   "execution_count": 36,
   "id": "36b505ae-c9f5-406e-a11a-dafaec1223ce",
   "metadata": {},
   "outputs": [
    {
     "name": "stdout",
     "output_type": "stream",
     "text": [
      "The slowest run took 35.41 times longer than the fastest. This could mean that an intermediate result is being cached.\n",
      "652 ms ± 806 ms per loop (mean ± std. dev. of 10 runs, 1 loop each)\n"
     ]
    }
   ],
   "source": [
    "%%timeit -r 10\n",
    "# Measuring running time\n",
    "minimize(funcs.func_, x0_m2, method='BFGS', jac=funcs.func_grad_, options={'gtol': 1e-6, 'disp': False})"
   ]
  },
  {
   "cell_type": "markdown",
   "id": "fa857a12-0084-423d-92ea-288c612101d4",
   "metadata": {
    "tags": []
   },
   "source": [
    "#### Summary for Original BFGS"
   ]
  },
  {
   "cell_type": "code",
   "execution_count": null,
   "id": "2ebde860-9498-4fc7-b16b-430f24cac187",
   "metadata": {},
   "outputs": [],
   "source": []
  },
  {
   "cell_type": "markdown",
   "id": "e53d8e3c-67fd-410f-bbde-924354d875f1",
   "metadata": {
    "tags": []
   },
   "source": [
    "### Cautious BFGS"
   ]
  },
  {
   "cell_type": "markdown",
   "id": "1c82845a-6662-47f8-a27a-16f47593b25f",
   "metadata": {
    "tags": []
   },
   "source": [
    "#### Base performance with loaded starting point (Wolfe-type line search)"
   ]
  },
  {
   "cell_type": "code",
   "execution_count": 37,
   "id": "953565c8-896c-4dca-a254-df4a15f9b0ff",
   "metadata": {},
   "outputs": [
    {
     "name": "stdout",
     "output_type": "stream",
     "text": [
      "Convergence reached in 284 iterations\n",
      "Computed Norm: 109.46751097952577\n",
      "True Norm: 109.46751097963192\n",
      "Error: 1.0615508472255897e-10\n"
     ]
    }
   ],
   "source": [
    "w_c_m2_bfgs_a = run_bfgs(M2, alg_method='C', ls_method='W', c1=1e-4, c2=0.9, starting_point=x0_m2)"
   ]
  },
  {
   "cell_type": "code",
   "execution_count": 38,
   "id": "cf5854b1-d010-4354-b284-b0ce6f163989",
   "metadata": {},
   "outputs": [
    {
     "name": "stdout",
     "output_type": "stream",
     "text": [
      "Convergence reached in 113 iterations\n",
      "Computed Norm: 109.46751097962832\n",
      "True Norm: 109.46751097963192\n",
      "Error: 3.609557097661309e-12\n"
     ]
    }
   ],
   "source": [
    "w_c_m2_bfgs_b = run_bfgs(M2, alg_method='C', ls_method='W', c1=0.1, c2=0.49, starting_point=x0_m2)"
   ]
  },
  {
   "cell_type": "markdown",
   "id": "b7236608-7752-4406-bf06-3cdcd5a1e7af",
   "metadata": {
    "tags": []
   },
   "source": [
    "#### Base performance with loaded starting point (Armijo-type line search)"
   ]
  },
  {
   "cell_type": "code",
   "execution_count": 39,
   "id": "1ced99a8-5a49-4545-be99-3e686c5844a4",
   "metadata": {},
   "outputs": [
    {
     "name": "stdout",
     "output_type": "stream",
     "text": [
      "Convergence reached in 787 iterations\n",
      "Computed Norm: 109.46751097961493\n",
      "True Norm: 109.46751097963192\n",
      "Error: 1.6996182239381596e-11\n"
     ]
    }
   ],
   "source": [
    "a_c_m2_bfgs_a = run_bfgs(M2, alg_method='C', ls_method='A', c1=1e-4, starting_point=x0_m2)"
   ]
  },
  {
   "cell_type": "code",
   "execution_count": 40,
   "id": "51f829ef-3108-4d57-a24f-a4b1ad70e4c8",
   "metadata": {},
   "outputs": [
    {
     "name": "stdout",
     "output_type": "stream",
     "text": [
      "Convergence reached in 342 iterations\n",
      "Computed Norm: 109.46751097963069\n",
      "True Norm: 109.46751097963192\n",
      "Error: 1.2363443602225743e-12\n"
     ]
    }
   ],
   "source": [
    "a_c_m2_bfgs_b = run_bfgs(M2, alg_method='C', ls_method='A', c1=0.1, starting_point=x0_m2)"
   ]
  },
  {
   "cell_type": "markdown",
   "id": "543fef5a-b089-4cb5-90df-748defa0a153",
   "metadata": {
    "tags": []
   },
   "source": [
    "#### Average runtime over 10 runs (Wolfe-type line search)"
   ]
  },
  {
   "cell_type": "code",
   "execution_count": 41,
   "id": "df6eeab5-91e1-44ed-b0f3-6153a643b76e",
   "metadata": {},
   "outputs": [
    {
     "name": "stdout",
     "output_type": "stream",
     "text": [
      "258 ms ± 60.6 ms per loop (mean ± std. dev. of 10 runs, 1 loop each)\n"
     ]
    }
   ],
   "source": [
    "%%timeit -r 10\n",
    "# Measuring running time\n",
    "w_c_m2_bfgs_a.bfgs()"
   ]
  },
  {
   "cell_type": "code",
   "execution_count": 42,
   "id": "002ff993-ebb0-47f3-bd52-7d19813761dd",
   "metadata": {},
   "outputs": [
    {
     "name": "stdout",
     "output_type": "stream",
     "text": [
      "137 ms ± 43.2 ms per loop (mean ± std. dev. of 10 runs, 10 loops each)\n"
     ]
    }
   ],
   "source": [
    "%%timeit -r 10\n",
    "# Measuring running time\n",
    "w_c_m2_bfgs_b.bfgs()"
   ]
  },
  {
   "cell_type": "markdown",
   "id": "4da93577-0daf-4ece-9fd4-a7c0b6e9f62a",
   "metadata": {
    "tags": []
   },
   "source": [
    "#### Average runtime over 10 runs (Armijo-type line search)"
   ]
  },
  {
   "cell_type": "code",
   "execution_count": 43,
   "id": "7fd4780f-f12d-47d6-a358-8880b432dd82",
   "metadata": {},
   "outputs": [
    {
     "name": "stdout",
     "output_type": "stream",
     "text": [
      "The slowest run took 4.14 times longer than the fastest. This could mean that an intermediate result is being cached.\n",
      "509 ms ± 271 ms per loop (mean ± std. dev. of 10 runs, 1 loop each)\n"
     ]
    }
   ],
   "source": [
    "%%timeit -r 10\n",
    "# Measuring running time\n",
    "a_c_m2_bfgs_a.bfgs()"
   ]
  },
  {
   "cell_type": "code",
   "execution_count": 44,
   "id": "1112f412-382d-4438-96bc-a13f3090cbd8",
   "metadata": {},
   "outputs": [
    {
     "name": "stdout",
     "output_type": "stream",
     "text": [
      "The slowest run took 11.56 times longer than the fastest. This could mean that an intermediate result is being cached.\n",
      "407 ms ± 398 ms per loop (mean ± std. dev. of 10 runs, 1 loop each)\n"
     ]
    }
   ],
   "source": [
    "%%timeit -r 10\n",
    "# Measuring running time\n",
    "a_c_m2_bfgs_b.bfgs()"
   ]
  },
  {
   "cell_type": "markdown",
   "id": "626c3600-4911-43e7-b607-383be5a1ca01",
   "metadata": {
    "tags": []
   },
   "source": [
    "#### Summary for Cautious BFGS"
   ]
  },
  {
   "cell_type": "code",
   "execution_count": null,
   "id": "cdaf6d08-5719-4950-850a-2b179f042046",
   "metadata": {},
   "outputs": [],
   "source": []
  },
  {
   "cell_type": "markdown",
   "id": "cb61cb2a-d1cd-480d-93af-097d2558bad8",
   "metadata": {
    "jp-MarkdownHeadingCollapsed": true,
    "tags": []
   },
   "source": [
    "## M3 Matrix"
   ]
  },
  {
   "cell_type": "markdown",
   "id": "4fd3c1f4-548a-47ad-8530-fd147c5d4eb6",
   "metadata": {
    "tags": []
   },
   "source": [
    "### Original BFGS"
   ]
  },
  {
   "cell_type": "markdown",
   "id": "5bf266db-8c7a-4a2a-b9be-919c8d09b3f8",
   "metadata": {
    "tags": []
   },
   "source": [
    "#### Base performance with loaded starting point (Wolfe-type line search)"
   ]
  },
  {
   "cell_type": "code",
   "execution_count": 45,
   "id": "d38d0e17-78de-4051-82da-0d693a7ef6e0",
   "metadata": {},
   "outputs": [
    {
     "name": "stdout",
     "output_type": "stream",
     "text": [
      "Convergence reached in 265 iterations\n",
      "Computed Norm: 41.065553272377436\n",
      "True Norm: 41.06555327364635\n",
      "Error: 1.2689156392298173e-09\n"
     ]
    }
   ],
   "source": [
    "w_o_m3_bfgs_a = run_bfgs(M3, alg_method='O', ls_method='W', c1=1e-4, c2=0.9, starting_point=x0_m3)"
   ]
  },
  {
   "cell_type": "code",
   "execution_count": 46,
   "id": "e5b73098-5056-4131-8fbb-8ef9f9958f7c",
   "metadata": {},
   "outputs": [
    {
     "name": "stdout",
     "output_type": "stream",
     "text": [
      "Convergence reached in 172 iterations\n",
      "Computed Norm: 41.06555327109088\n",
      "True Norm: 41.06555327364635\n",
      "Error: 2.555474054588558e-09\n"
     ]
    }
   ],
   "source": [
    "w_o_m3_bfgs_b = run_bfgs(M3, alg_method='O', ls_method='W', c1=0.1, c2=0.49, starting_point=x0_m3)"
   ]
  },
  {
   "cell_type": "markdown",
   "id": "30a7e117-9343-461d-8845-37f5b8ac3ad7",
   "metadata": {
    "tags": []
   },
   "source": [
    "#### Base performance with loaded starting point (Armijo-type line search)"
   ]
  },
  {
   "cell_type": "code",
   "execution_count": 47,
   "id": "5fc38194-254e-4da8-96bd-d17cb835f7b6",
   "metadata": {},
   "outputs": [
    {
     "name": "stdout",
     "output_type": "stream",
     "text": [
      "Convergence reached in 66 iterations\n",
      "Computed Norm: 39.31254846263882\n",
      "True Norm: 41.06555327364635\n",
      "Error: 1.7530048110075285\n"
     ]
    }
   ],
   "source": [
    "a_o_m3_bfgs_a = run_bfgs(M3, alg_method='O', ls_method='A', c1=1e-4, starting_point=x0_m3)"
   ]
  },
  {
   "cell_type": "code",
   "execution_count": 48,
   "id": "27e568f4-5407-4d64-8050-f42c2b857353",
   "metadata": {},
   "outputs": [
    {
     "name": "stdout",
     "output_type": "stream",
     "text": [
      "Convergence reached in 223 iterations\n",
      "Computed Norm: 41.06555327338661\n",
      "True Norm: 41.06555327364635\n",
      "Error: 2.597388970571046e-10\n"
     ]
    }
   ],
   "source": [
    "a_o_m3_bfgs_b = run_bfgs(M3, alg_method='O', ls_method='A', c1=0.1, starting_point=x0_m3)"
   ]
  },
  {
   "cell_type": "markdown",
   "id": "318fa4c2-92ef-47ce-b70c-dfd60c6133bf",
   "metadata": {
    "tags": []
   },
   "source": [
    "#### Average runtime over 10 runs (Wolfe-type line search)"
   ]
  },
  {
   "cell_type": "code",
   "execution_count": 49,
   "id": "cce16292-e58b-4f8d-a5f9-4e1fea10b3fc",
   "metadata": {},
   "outputs": [
    {
     "name": "stdout",
     "output_type": "stream",
     "text": [
      "1min 14s ± 24.6 s per loop (mean ± std. dev. of 10 runs, 1 loop each)\n"
     ]
    }
   ],
   "source": [
    "%%timeit -r 10\n",
    "# Measuring running time\n",
    "w_o_m3_bfgs_a.bfgs()"
   ]
  },
  {
   "cell_type": "code",
   "execution_count": 50,
   "id": "f00167f5-add9-46f8-b6b8-cf1103ddb62e",
   "metadata": {},
   "outputs": [
    {
     "name": "stdout",
     "output_type": "stream",
     "text": [
      "59.4 s ± 11.8 s per loop (mean ± std. dev. of 10 runs, 1 loop each)\n"
     ]
    }
   ],
   "source": [
    "%%timeit -r 10\n",
    "# Measuring running time\n",
    "w_o_m3_bfgs_b.bfgs()"
   ]
  },
  {
   "cell_type": "markdown",
   "id": "9cb89348-f592-46c8-a74f-ee941dac36c2",
   "metadata": {
    "tags": []
   },
   "source": [
    "#### Average runtime over 10 runs (Armijo-type line search)"
   ]
  },
  {
   "cell_type": "code",
   "execution_count": 51,
   "id": "10c3d9f5-0053-44b4-98c1-7ee956c426aa",
   "metadata": {},
   "outputs": [
    {
     "ename": "KeyboardInterrupt",
     "evalue": "",
     "output_type": "error",
     "traceback": [
      "\u001b[0;31m---------------------------------------------------------------------------\u001b[0m",
      "\u001b[0;31mKeyboardInterrupt\u001b[0m                         Traceback (most recent call last)",
      "\u001b[0;32m<ipython-input-51-fdbc1a18a640>\u001b[0m in \u001b[0;36m<module>\u001b[0;34m\u001b[0m\n\u001b[0;32m----> 1\u001b[0;31m \u001b[0mget_ipython\u001b[0m\u001b[0;34m(\u001b[0m\u001b[0;34m)\u001b[0m\u001b[0;34m.\u001b[0m\u001b[0mrun_cell_magic\u001b[0m\u001b[0;34m(\u001b[0m\u001b[0;34m'timeit'\u001b[0m\u001b[0;34m,\u001b[0m \u001b[0;34m'-r 10'\u001b[0m\u001b[0;34m,\u001b[0m \u001b[0;34m'# Measuring running time\\na_o_m3_bfgs_a.bfgs()\\n'\u001b[0m\u001b[0;34m)\u001b[0m\u001b[0;34m\u001b[0m\u001b[0;34m\u001b[0m\u001b[0m\n\u001b[0m",
      "\u001b[0;32m/opt/anaconda3/lib/python3.8/site-packages/IPython/core/interactiveshell.py\u001b[0m in \u001b[0;36mrun_cell_magic\u001b[0;34m(self, magic_name, line, cell)\u001b[0m\n\u001b[1;32m   2369\u001b[0m             \u001b[0;32mwith\u001b[0m \u001b[0mself\u001b[0m\u001b[0;34m.\u001b[0m\u001b[0mbuiltin_trap\u001b[0m\u001b[0;34m:\u001b[0m\u001b[0;34m\u001b[0m\u001b[0;34m\u001b[0m\u001b[0m\n\u001b[1;32m   2370\u001b[0m                 \u001b[0margs\u001b[0m \u001b[0;34m=\u001b[0m \u001b[0;34m(\u001b[0m\u001b[0mmagic_arg_s\u001b[0m\u001b[0;34m,\u001b[0m \u001b[0mcell\u001b[0m\u001b[0;34m)\u001b[0m\u001b[0;34m\u001b[0m\u001b[0;34m\u001b[0m\u001b[0m\n\u001b[0;32m-> 2371\u001b[0;31m                 \u001b[0mresult\u001b[0m \u001b[0;34m=\u001b[0m \u001b[0mfn\u001b[0m\u001b[0;34m(\u001b[0m\u001b[0;34m*\u001b[0m\u001b[0margs\u001b[0m\u001b[0;34m,\u001b[0m \u001b[0;34m**\u001b[0m\u001b[0mkwargs\u001b[0m\u001b[0;34m)\u001b[0m\u001b[0;34m\u001b[0m\u001b[0;34m\u001b[0m\u001b[0m\n\u001b[0m\u001b[1;32m   2372\u001b[0m             \u001b[0;32mreturn\u001b[0m \u001b[0mresult\u001b[0m\u001b[0;34m\u001b[0m\u001b[0;34m\u001b[0m\u001b[0m\n\u001b[1;32m   2373\u001b[0m \u001b[0;34m\u001b[0m\u001b[0m\n",
      "\u001b[0;32m<decorator-gen-53>\u001b[0m in \u001b[0;36mtimeit\u001b[0;34m(self, line, cell, local_ns)\u001b[0m\n",
      "\u001b[0;32m/opt/anaconda3/lib/python3.8/site-packages/IPython/core/magic.py\u001b[0m in \u001b[0;36m<lambda>\u001b[0;34m(f, *a, **k)\u001b[0m\n\u001b[1;32m    185\u001b[0m     \u001b[0;31m# but it's overkill for just that one bit of state.\u001b[0m\u001b[0;34m\u001b[0m\u001b[0;34m\u001b[0m\u001b[0;34m\u001b[0m\u001b[0m\n\u001b[1;32m    186\u001b[0m     \u001b[0;32mdef\u001b[0m \u001b[0mmagic_deco\u001b[0m\u001b[0;34m(\u001b[0m\u001b[0marg\u001b[0m\u001b[0;34m)\u001b[0m\u001b[0;34m:\u001b[0m\u001b[0;34m\u001b[0m\u001b[0;34m\u001b[0m\u001b[0m\n\u001b[0;32m--> 187\u001b[0;31m         \u001b[0mcall\u001b[0m \u001b[0;34m=\u001b[0m \u001b[0;32mlambda\u001b[0m \u001b[0mf\u001b[0m\u001b[0;34m,\u001b[0m \u001b[0;34m*\u001b[0m\u001b[0ma\u001b[0m\u001b[0;34m,\u001b[0m \u001b[0;34m**\u001b[0m\u001b[0mk\u001b[0m\u001b[0;34m:\u001b[0m \u001b[0mf\u001b[0m\u001b[0;34m(\u001b[0m\u001b[0;34m*\u001b[0m\u001b[0ma\u001b[0m\u001b[0;34m,\u001b[0m \u001b[0;34m**\u001b[0m\u001b[0mk\u001b[0m\u001b[0;34m)\u001b[0m\u001b[0;34m\u001b[0m\u001b[0;34m\u001b[0m\u001b[0m\n\u001b[0m\u001b[1;32m    188\u001b[0m \u001b[0;34m\u001b[0m\u001b[0m\n\u001b[1;32m    189\u001b[0m         \u001b[0;32mif\u001b[0m \u001b[0mcallable\u001b[0m\u001b[0;34m(\u001b[0m\u001b[0marg\u001b[0m\u001b[0;34m)\u001b[0m\u001b[0;34m:\u001b[0m\u001b[0;34m\u001b[0m\u001b[0;34m\u001b[0m\u001b[0m\n",
      "\u001b[0;32m/opt/anaconda3/lib/python3.8/site-packages/IPython/core/magics/execution.py\u001b[0m in \u001b[0;36mtimeit\u001b[0;34m(self, line, cell, local_ns)\u001b[0m\n\u001b[1;32m   1165\u001b[0m                     \u001b[0;32mbreak\u001b[0m\u001b[0;34m\u001b[0m\u001b[0;34m\u001b[0m\u001b[0m\n\u001b[1;32m   1166\u001b[0m \u001b[0;34m\u001b[0m\u001b[0m\n\u001b[0;32m-> 1167\u001b[0;31m         \u001b[0mall_runs\u001b[0m \u001b[0;34m=\u001b[0m \u001b[0mtimer\u001b[0m\u001b[0;34m.\u001b[0m\u001b[0mrepeat\u001b[0m\u001b[0;34m(\u001b[0m\u001b[0mrepeat\u001b[0m\u001b[0;34m,\u001b[0m \u001b[0mnumber\u001b[0m\u001b[0;34m)\u001b[0m\u001b[0;34m\u001b[0m\u001b[0;34m\u001b[0m\u001b[0m\n\u001b[0m\u001b[1;32m   1168\u001b[0m         \u001b[0mbest\u001b[0m \u001b[0;34m=\u001b[0m \u001b[0mmin\u001b[0m\u001b[0;34m(\u001b[0m\u001b[0mall_runs\u001b[0m\u001b[0;34m)\u001b[0m \u001b[0;34m/\u001b[0m \u001b[0mnumber\u001b[0m\u001b[0;34m\u001b[0m\u001b[0;34m\u001b[0m\u001b[0m\n\u001b[1;32m   1169\u001b[0m         \u001b[0mworst\u001b[0m \u001b[0;34m=\u001b[0m \u001b[0mmax\u001b[0m\u001b[0;34m(\u001b[0m\u001b[0mall_runs\u001b[0m\u001b[0;34m)\u001b[0m \u001b[0;34m/\u001b[0m \u001b[0mnumber\u001b[0m\u001b[0;34m\u001b[0m\u001b[0;34m\u001b[0m\u001b[0m\n",
      "\u001b[0;32m/opt/anaconda3/lib/python3.8/timeit.py\u001b[0m in \u001b[0;36mrepeat\u001b[0;34m(self, repeat, number)\u001b[0m\n\u001b[1;32m    203\u001b[0m         \u001b[0mr\u001b[0m \u001b[0;34m=\u001b[0m \u001b[0;34m[\u001b[0m\u001b[0;34m]\u001b[0m\u001b[0;34m\u001b[0m\u001b[0;34m\u001b[0m\u001b[0m\n\u001b[1;32m    204\u001b[0m         \u001b[0;32mfor\u001b[0m \u001b[0mi\u001b[0m \u001b[0;32min\u001b[0m \u001b[0mrange\u001b[0m\u001b[0;34m(\u001b[0m\u001b[0mrepeat\u001b[0m\u001b[0;34m)\u001b[0m\u001b[0;34m:\u001b[0m\u001b[0;34m\u001b[0m\u001b[0;34m\u001b[0m\u001b[0m\n\u001b[0;32m--> 205\u001b[0;31m             \u001b[0mt\u001b[0m \u001b[0;34m=\u001b[0m \u001b[0mself\u001b[0m\u001b[0;34m.\u001b[0m\u001b[0mtimeit\u001b[0m\u001b[0;34m(\u001b[0m\u001b[0mnumber\u001b[0m\u001b[0;34m)\u001b[0m\u001b[0;34m\u001b[0m\u001b[0;34m\u001b[0m\u001b[0m\n\u001b[0m\u001b[1;32m    206\u001b[0m             \u001b[0mr\u001b[0m\u001b[0;34m.\u001b[0m\u001b[0mappend\u001b[0m\u001b[0;34m(\u001b[0m\u001b[0mt\u001b[0m\u001b[0;34m)\u001b[0m\u001b[0;34m\u001b[0m\u001b[0;34m\u001b[0m\u001b[0m\n\u001b[1;32m    207\u001b[0m         \u001b[0;32mreturn\u001b[0m \u001b[0mr\u001b[0m\u001b[0;34m\u001b[0m\u001b[0;34m\u001b[0m\u001b[0m\n",
      "\u001b[0;32m/opt/anaconda3/lib/python3.8/site-packages/IPython/core/magics/execution.py\u001b[0m in \u001b[0;36mtimeit\u001b[0;34m(self, number)\u001b[0m\n\u001b[1;32m    167\u001b[0m         \u001b[0mgc\u001b[0m\u001b[0;34m.\u001b[0m\u001b[0mdisable\u001b[0m\u001b[0;34m(\u001b[0m\u001b[0;34m)\u001b[0m\u001b[0;34m\u001b[0m\u001b[0;34m\u001b[0m\u001b[0m\n\u001b[1;32m    168\u001b[0m         \u001b[0;32mtry\u001b[0m\u001b[0;34m:\u001b[0m\u001b[0;34m\u001b[0m\u001b[0;34m\u001b[0m\u001b[0m\n\u001b[0;32m--> 169\u001b[0;31m             \u001b[0mtiming\u001b[0m \u001b[0;34m=\u001b[0m \u001b[0mself\u001b[0m\u001b[0;34m.\u001b[0m\u001b[0minner\u001b[0m\u001b[0;34m(\u001b[0m\u001b[0mit\u001b[0m\u001b[0;34m,\u001b[0m \u001b[0mself\u001b[0m\u001b[0;34m.\u001b[0m\u001b[0mtimer\u001b[0m\u001b[0;34m)\u001b[0m\u001b[0;34m\u001b[0m\u001b[0;34m\u001b[0m\u001b[0m\n\u001b[0m\u001b[1;32m    170\u001b[0m         \u001b[0;32mfinally\u001b[0m\u001b[0;34m:\u001b[0m\u001b[0;34m\u001b[0m\u001b[0;34m\u001b[0m\u001b[0m\n\u001b[1;32m    171\u001b[0m             \u001b[0;32mif\u001b[0m \u001b[0mgcold\u001b[0m\u001b[0;34m:\u001b[0m\u001b[0;34m\u001b[0m\u001b[0;34m\u001b[0m\u001b[0m\n",
      "\u001b[0;32m<magic-timeit>\u001b[0m in \u001b[0;36minner\u001b[0;34m(_it, _timer)\u001b[0m\n",
      "\u001b[0;32m~/Desktop/CM_lastRun/CM-2Norm_matrix_problem/BFGS/bfgs.py\u001b[0m in \u001b[0;36mbfgs\u001b[0;34m(self)\u001b[0m\n\u001b[1;32m    122\u001b[0m                 \u001b[0mA1\u001b[0m \u001b[0;34m=\u001b[0m \u001b[0mI\u001b[0m \u001b[0;34m-\u001b[0m \u001b[0mro\u001b[0m \u001b[0;34m*\u001b[0m \u001b[0ms\u001b[0m\u001b[0;34m[\u001b[0m\u001b[0;34m:\u001b[0m\u001b[0;34m,\u001b[0m \u001b[0mnp\u001b[0m\u001b[0;34m.\u001b[0m\u001b[0mnewaxis\u001b[0m\u001b[0;34m]\u001b[0m \u001b[0;34m*\u001b[0m \u001b[0my\u001b[0m\u001b[0;34m[\u001b[0m\u001b[0mnp\u001b[0m\u001b[0;34m.\u001b[0m\u001b[0mnewaxis\u001b[0m\u001b[0;34m,\u001b[0m \u001b[0;34m:\u001b[0m\u001b[0;34m]\u001b[0m\u001b[0;34m\u001b[0m\u001b[0;34m\u001b[0m\u001b[0m\n\u001b[1;32m    123\u001b[0m                 \u001b[0mA2\u001b[0m \u001b[0;34m=\u001b[0m \u001b[0mI\u001b[0m \u001b[0;34m-\u001b[0m \u001b[0mro\u001b[0m \u001b[0;34m*\u001b[0m \u001b[0my\u001b[0m\u001b[0;34m[\u001b[0m\u001b[0;34m:\u001b[0m\u001b[0;34m,\u001b[0m \u001b[0mnp\u001b[0m\u001b[0;34m.\u001b[0m\u001b[0mnewaxis\u001b[0m\u001b[0;34m]\u001b[0m \u001b[0;34m*\u001b[0m \u001b[0ms\u001b[0m\u001b[0;34m[\u001b[0m\u001b[0mnp\u001b[0m\u001b[0;34m.\u001b[0m\u001b[0mnewaxis\u001b[0m\u001b[0;34m,\u001b[0m \u001b[0;34m:\u001b[0m\u001b[0;34m]\u001b[0m\u001b[0;34m\u001b[0m\u001b[0;34m\u001b[0m\u001b[0m\n\u001b[0;32m--> 124\u001b[0;31m                 \u001b[0mH_new\u001b[0m \u001b[0;34m=\u001b[0m \u001b[0mnp\u001b[0m\u001b[0;34m.\u001b[0m\u001b[0mdot\u001b[0m\u001b[0;34m(\u001b[0m\u001b[0mA1\u001b[0m\u001b[0;34m,\u001b[0m \u001b[0mnp\u001b[0m\u001b[0;34m.\u001b[0m\u001b[0mdot\u001b[0m\u001b[0;34m(\u001b[0m\u001b[0mH\u001b[0m\u001b[0;34m,\u001b[0m \u001b[0mA2\u001b[0m\u001b[0;34m)\u001b[0m\u001b[0;34m)\u001b[0m \u001b[0;34m+\u001b[0m \u001b[0;34m(\u001b[0m\u001b[0mro\u001b[0m \u001b[0;34m*\u001b[0m \u001b[0ms\u001b[0m\u001b[0;34m[\u001b[0m\u001b[0;34m:\u001b[0m\u001b[0;34m,\u001b[0m \u001b[0mnp\u001b[0m\u001b[0;34m.\u001b[0m\u001b[0mnewaxis\u001b[0m\u001b[0;34m]\u001b[0m \u001b[0;34m*\u001b[0m \u001b[0ms\u001b[0m\u001b[0;34m[\u001b[0m\u001b[0mnp\u001b[0m\u001b[0;34m.\u001b[0m\u001b[0mnewaxis\u001b[0m\u001b[0;34m,\u001b[0m \u001b[0;34m:\u001b[0m\u001b[0;34m]\u001b[0m\u001b[0;34m)\u001b[0m\u001b[0;34m\u001b[0m\u001b[0;34m\u001b[0m\u001b[0m\n\u001b[0m\u001b[1;32m    125\u001b[0m \u001b[0;34m\u001b[0m\u001b[0m\n\u001b[1;32m    126\u001b[0m             \u001b[0;32melse\u001b[0m\u001b[0;34m:\u001b[0m\u001b[0;34m\u001b[0m\u001b[0;34m\u001b[0m\u001b[0m\n",
      "\u001b[0;32m<__array_function__ internals>\u001b[0m in \u001b[0;36mdot\u001b[0;34m(*args, **kwargs)\u001b[0m\n",
      "\u001b[0;31mKeyboardInterrupt\u001b[0m: "
     ]
    }
   ],
   "source": [
    "%%timeit -r 10\n",
    "# Measuring running time\n",
    "a_o_m3_bfgs_a.bfgs()"
   ]
  },
  {
   "cell_type": "code",
   "execution_count": null,
   "id": "fb17cd2a-fbc1-4d03-8ae5-f48d4a71abff",
   "metadata": {},
   "outputs": [
    {
     "name": "stdout",
     "output_type": "stream",
     "text": [
      "31.5 s ± 629 ms per loop (mean ± std. dev. of 10 runs, 1 loop each)\n"
     ]
    }
   ],
   "source": [
    "%%timeit -r 10\n",
    "# Measuring running time\n",
    "a_o_m3_bfgs_b.bfgs()"
   ]
  },
  {
   "cell_type": "markdown",
   "id": "e4e4965a-9bc4-4d58-890a-a2422036173e",
   "metadata": {
    "tags": []
   },
   "source": [
    "#### Comparison with off-shelf BFGS minimizer"
   ]
  },
  {
   "cell_type": "code",
   "execution_count": null,
   "id": "0f96d41e-4702-44a4-8158-4c732daee84a",
   "metadata": {},
   "outputs": [
    {
     "name": "stdout",
     "output_type": "stream",
     "text": [
      "Convergence reached in 294 iterations\n",
      "Computed Norm: 41.065553271820015\n",
      "True Norm: 41.06555327364635\n",
      "Error: 1.826336415433616e-09\n"
     ]
    }
   ],
   "source": [
    "off_shelf_opt(M3, x0_m3)\n",
    "funcs = Funcs(M3)"
   ]
  },
  {
   "cell_type": "code",
   "execution_count": null,
   "id": "e9058f23-22e8-4575-b2bd-0f7a46310d10",
   "metadata": {},
   "outputs": [
    {
     "name": "stdout",
     "output_type": "stream",
     "text": [
      "34.7 s ± 818 ms per loop (mean ± std. dev. of 10 runs, 1 loop each)\n"
     ]
    }
   ],
   "source": [
    "%%timeit -r 10\n",
    "# Measuring running time\n",
    "minimize(funcs.func_, x0_m3, method='BFGS', jac=funcs.func_grad_, options={'gtol': 1e-6, 'disp': False})"
   ]
  },
  {
   "cell_type": "markdown",
   "id": "831e906d-01ae-401a-8756-657f91eebfa3",
   "metadata": {
    "tags": []
   },
   "source": [
    "#### Summary for Original BFGS"
   ]
  },
  {
   "cell_type": "code",
   "execution_count": null,
   "id": "31bcc953-d3d0-4f84-94b8-e36e1e64bb75",
   "metadata": {},
   "outputs": [],
   "source": []
  },
  {
   "cell_type": "markdown",
   "id": "40e79cdc-8ab1-43a6-97e0-ce700df8eb7e",
   "metadata": {
    "tags": []
   },
   "source": [
    "### Cautious BFGS"
   ]
  },
  {
   "cell_type": "markdown",
   "id": "d9f1e62e-0dd1-44e1-8490-a3f26cd277e5",
   "metadata": {
    "tags": []
   },
   "source": [
    "#### Base performance with loaded starting point (Wolfe-type line search)"
   ]
  },
  {
   "cell_type": "code",
   "execution_count": null,
   "id": "be824859-8545-4777-a63e-19ef9432a69c",
   "metadata": {},
   "outputs": [
    {
     "name": "stdout",
     "output_type": "stream",
     "text": [
      "Convergence reached in 100 iterations\n",
      "Computed Norm: 41.065553273638365\n",
      "True Norm: 41.06555327364635\n",
      "Error: 7.986500349943526e-12\n"
     ]
    }
   ],
   "source": [
    "w_c_m3_bfgs_a = run_bfgs(M3, alg_method='C', ls_method='W', c1=1e-4, c2=0.9, starting_point=x0_m3)"
   ]
  },
  {
   "cell_type": "code",
   "execution_count": null,
   "id": "013cabe8-a0f3-44f9-a5a0-f4d95100a669",
   "metadata": {},
   "outputs": [
    {
     "name": "stdout",
     "output_type": "stream",
     "text": [
      "Convergence reached in 75 iterations\n",
      "Computed Norm: 41.065553273632354\n",
      "True Norm: 41.06555327364635\n",
      "Error: 1.3997691894473974e-11\n"
     ]
    }
   ],
   "source": [
    "w_c_m3_bfgs_b = run_bfgs(M3, alg_method='C', ls_method='W', c1=0.1, c2=0.49, starting_point=x0_m3)"
   ]
  },
  {
   "cell_type": "markdown",
   "id": "15efe57d-4066-4fae-a1f6-83a7539b247b",
   "metadata": {
    "tags": []
   },
   "source": [
    "#### Base performance with loaded starting point (Armijo-type line search)"
   ]
  },
  {
   "cell_type": "code",
   "execution_count": null,
   "id": "e1c6286d-0f43-483c-86ee-b15340464aa1",
   "metadata": {},
   "outputs": [
    {
     "name": "stdout",
     "output_type": "stream",
     "text": [
      "Convergence reached in 117 iterations\n",
      "Computed Norm: 41.065553273643665\n",
      "True Norm: 41.06555327364635\n",
      "Error: 2.6858515411731787e-12\n"
     ]
    }
   ],
   "source": [
    "a_c_m3_bfgs_a = run_bfgs(M3, alg_method='C', ls_method='A', c1=1e-4, starting_point=x0_m3)"
   ]
  },
  {
   "cell_type": "code",
   "execution_count": null,
   "id": "8bc87db6-db55-48a2-9846-47a0aa1ae162",
   "metadata": {},
   "outputs": [
    {
     "name": "stdout",
     "output_type": "stream",
     "text": [
      "Convergence reached in 117 iterations\n",
      "Computed Norm: 41.065553273643665\n",
      "True Norm: 41.06555327364635\n",
      "Error: 2.6858515411731787e-12\n"
     ]
    }
   ],
   "source": [
    "a_c_m3_bfgs_b = run_bfgs(M3, alg_method='C', ls_method='A', c1=0.1, starting_point=x0_m3)"
   ]
  },
  {
   "cell_type": "markdown",
   "id": "678f52ff-468f-4361-962f-31d66fa4064f",
   "metadata": {
    "tags": []
   },
   "source": [
    "#### Average runtime over 10 runs (Wolfe-type line search)"
   ]
  },
  {
   "cell_type": "code",
   "execution_count": null,
   "id": "2f82b871-031d-4e43-8408-b11f4ba6cffd",
   "metadata": {},
   "outputs": [
    {
     "name": "stdout",
     "output_type": "stream",
     "text": [
      "8.51 s ± 430 ms per loop (mean ± std. dev. of 10 runs, 1 loop each)\n"
     ]
    }
   ],
   "source": [
    "%%timeit -r 10\n",
    "# Measuring running time\n",
    "w_c_m3_bfgs_a.bfgs()"
   ]
  },
  {
   "cell_type": "code",
   "execution_count": null,
   "id": "6136a979-04fe-44bd-97df-73fe77b8925c",
   "metadata": {},
   "outputs": [
    {
     "name": "stdout",
     "output_type": "stream",
     "text": [
      "11.6 s ± 1.73 s per loop (mean ± std. dev. of 10 runs, 1 loop each)\n"
     ]
    }
   ],
   "source": [
    "%%timeit -r 10\n",
    "# Measuring running time\n",
    "w_c_m3_bfgs_b.bfgs()"
   ]
  },
  {
   "cell_type": "markdown",
   "id": "31590cdf-c794-47fe-8afc-4c8b18b90371",
   "metadata": {
    "tags": []
   },
   "source": [
    "#### Average runtime over 10 runs (Armijo-type line search)"
   ]
  },
  {
   "cell_type": "code",
   "execution_count": null,
   "id": "c7f146b4-6c27-46a0-84d7-f55fd4160d99",
   "metadata": {},
   "outputs": [
    {
     "name": "stdout",
     "output_type": "stream",
     "text": [
      "6.37 s ± 77.8 ms per loop (mean ± std. dev. of 10 runs, 1 loop each)\n"
     ]
    }
   ],
   "source": [
    "%%timeit -r 10\n",
    "# Measuring running time\n",
    "a_c_m3_bfgs_a.bfgs()"
   ]
  },
  {
   "cell_type": "code",
   "execution_count": null,
   "id": "95e64316-c6ea-40c8-8034-ba2e1c9ab78c",
   "metadata": {},
   "outputs": [
    {
     "name": "stdout",
     "output_type": "stream",
     "text": [
      "6.37 s ± 91.4 ms per loop (mean ± std. dev. of 10 runs, 1 loop each)\n"
     ]
    }
   ],
   "source": [
    "%%timeit -r 10\n",
    "# Measuring running time\n",
    "a_c_m3_bfgs_b.bfgs()"
   ]
  },
  {
   "cell_type": "markdown",
   "id": "205c6420-5c66-4b8b-8de3-bcb63d68fbcf",
   "metadata": {
    "tags": []
   },
   "source": [
    "#### Summary for Cautious BFGS"
   ]
  },
  {
   "cell_type": "code",
   "execution_count": null,
   "id": "ceadb8be-9249-4f8d-bee1-11fa2b845656",
   "metadata": {},
   "outputs": [],
   "source": []
  },
  {
   "cell_type": "markdown",
   "id": "67170e3a-8dff-498a-9c46-f02f230c2f4f",
   "metadata": {
    "jp-MarkdownHeadingCollapsed": true,
    "tags": []
   },
   "source": [
    "## M4 Matrix"
   ]
  },
  {
   "cell_type": "markdown",
   "id": "a6a21f9b-25d7-4321-be03-43cbcd38b81e",
   "metadata": {
    "tags": []
   },
   "source": [
    "### Original BFGS"
   ]
  },
  {
   "cell_type": "markdown",
   "id": "23d42602-5785-417d-b322-e2bf18e4b33c",
   "metadata": {
    "tags": []
   },
   "source": [
    "#### Base performance with loaded starting point (Wolfe-type line search)"
   ]
  },
  {
   "cell_type": "code",
   "execution_count": null,
   "id": "7fae8860-de91-4c4e-9c42-110ef9635b2a",
   "metadata": {},
   "outputs": [
    {
     "name": "stdout",
     "output_type": "stream",
     "text": [
      "Convergence reached in 192 iterations\n",
      "Computed Norm: 19.356959367506004\n",
      "True Norm: 19.356959368936618\n",
      "Error: 1.4306138496067433e-09\n"
     ]
    }
   ],
   "source": [
    "w_o_m4_bfgs_a = run_bfgs(M4, alg_method='O', ls_method='W', c1=1e-4, c2=0.9, starting_point=x0_m4)"
   ]
  },
  {
   "cell_type": "code",
   "execution_count": null,
   "id": "91dfb173-831d-4e5a-b4ac-ae8f9af5a89c",
   "metadata": {},
   "outputs": [
    {
     "name": "stdout",
     "output_type": "stream",
     "text": [
      "Convergence reached in 138 iterations\n",
      "Computed Norm: 19.3569593673212\n",
      "True Norm: 19.356959368936618\n",
      "Error: 1.6154189097505878e-09\n"
     ]
    }
   ],
   "source": [
    "w_o_m4_bfgs_b = run_bfgs(M4, alg_method='O', ls_method='W', c1=0.1, c2=0.49, starting_point=x0_m4)"
   ]
  },
  {
   "cell_type": "markdown",
   "id": "715824c8-4406-4488-851e-1c4622a2e139",
   "metadata": {
    "tags": []
   },
   "source": [
    "#### Base performance with loaded starting point (Armijo-type line search)"
   ]
  },
  {
   "cell_type": "code",
   "execution_count": null,
   "id": "ee2edf5f-d6fa-4605-93be-7e07a190bec1",
   "metadata": {},
   "outputs": [
    {
     "name": "stdout",
     "output_type": "stream",
     "text": [
      "Convergence reached in 211 iterations\n",
      "Computed Norm: 19.356959366896895\n",
      "True Norm: 19.356959368936618\n",
      "Error: 2.0397230571234104e-09\n"
     ]
    }
   ],
   "source": [
    "a_o_m4_bfgs_a = run_bfgs(M4, alg_method='O', ls_method='A', c1=1e-4, starting_point=x0_m4)"
   ]
  },
  {
   "cell_type": "code",
   "execution_count": null,
   "id": "46a08bb6-c48e-4ba8-bc9a-344ea1ea3bf5",
   "metadata": {},
   "outputs": [
    {
     "name": "stdout",
     "output_type": "stream",
     "text": [
      "Convergence reached in 211 iterations\n",
      "Computed Norm: 19.356959366896895\n",
      "True Norm: 19.356959368936618\n",
      "Error: 2.0397230571234104e-09\n"
     ]
    }
   ],
   "source": [
    "a_o_m4_bfgs_b = run_bfgs(M4, alg_method='O', ls_method='A', c1=0.1, starting_point=x0_m4)"
   ]
  },
  {
   "cell_type": "markdown",
   "id": "7b0999aa-48ed-4e84-acb2-a8563e6ce859",
   "metadata": {
    "tags": []
   },
   "source": [
    "#### Average runtime over 10 runs (Wolfe-type line search)"
   ]
  },
  {
   "cell_type": "code",
   "execution_count": null,
   "id": "5d3b0698-3300-4882-99c0-65c9ac16e972",
   "metadata": {},
   "outputs": [
    {
     "name": "stdout",
     "output_type": "stream",
     "text": [
      "161 ms ± 17.5 ms per loop (mean ± std. dev. of 10 runs, 1 loop each)\n"
     ]
    }
   ],
   "source": [
    "%%timeit -r 10\n",
    "# Measuring running time\n",
    "w_o_m4_bfgs_a.bfgs()"
   ]
  },
  {
   "cell_type": "code",
   "execution_count": null,
   "id": "ba556e47-ac7a-4bbb-944c-661dd29114d9",
   "metadata": {},
   "outputs": [
    {
     "name": "stdout",
     "output_type": "stream",
     "text": [
      "139 ms ± 52.6 ms per loop (mean ± std. dev. of 10 runs, 1 loop each)\n"
     ]
    }
   ],
   "source": [
    "%%timeit -r 10\n",
    "# Measuring running time\n",
    "w_o_m4_bfgs_b.bfgs()"
   ]
  },
  {
   "cell_type": "markdown",
   "id": "f4fa5fa8-1f58-4f38-a0c9-664cf4ef5650",
   "metadata": {
    "tags": []
   },
   "source": [
    "#### Average runtime over 10 runs (Armijo-type line search)"
   ]
  },
  {
   "cell_type": "code",
   "execution_count": null,
   "id": "925fd10b-b965-4952-a585-78edd179691b",
   "metadata": {},
   "outputs": [
    {
     "name": "stdout",
     "output_type": "stream",
     "text": [
      "160 ms ± 26.2 ms per loop (mean ± std. dev. of 10 runs, 1 loop each)\n"
     ]
    }
   ],
   "source": [
    "%%timeit -r 10\n",
    "# Measuring running time\n",
    "a_o_m4_bfgs_a.bfgs()"
   ]
  },
  {
   "cell_type": "code",
   "execution_count": null,
   "id": "d7bc16c1-af03-451d-97f4-b17470df61e4",
   "metadata": {},
   "outputs": [
    {
     "name": "stdout",
     "output_type": "stream",
     "text": [
      "187 ms ± 51.3 ms per loop (mean ± std. dev. of 10 runs, 1 loop each)\n"
     ]
    }
   ],
   "source": [
    "%%timeit -r 10\n",
    "# Measuring running time\n",
    "a_o_m4_bfgs_b.bfgs()"
   ]
  },
  {
   "cell_type": "markdown",
   "id": "356d7a37-85c5-4b2e-9296-4f56babf04a1",
   "metadata": {
    "tags": []
   },
   "source": [
    "#### Comparison with off-shelf BFGS minimizer"
   ]
  },
  {
   "cell_type": "code",
   "execution_count": null,
   "id": "fbf07ce9-4d48-4331-9d59-84fd4983f608",
   "metadata": {},
   "outputs": [
    {
     "name": "stdout",
     "output_type": "stream",
     "text": [
      "Convergence reached in 55 iterations\n",
      "Computed Norm: 18.42502730725014\n",
      "True Norm: 19.356959368936618\n",
      "Error: 0.9319320616864779\n"
     ]
    }
   ],
   "source": [
    "off_shelf_opt(M4, x0_m4)\n",
    "funcs = Funcs(M4)"
   ]
  },
  {
   "cell_type": "code",
   "execution_count": null,
   "id": "dbcfeeca-7091-43dd-92cd-f2c3c988230d",
   "metadata": {},
   "outputs": [
    {
     "name": "stdout",
     "output_type": "stream",
     "text": [
      "43.2 ms ± 7.09 ms per loop (mean ± std. dev. of 10 runs, 10 loops each)\n"
     ]
    }
   ],
   "source": [
    "%%timeit -r 10\n",
    "# Measuring running time\n",
    "minimize(funcs.func_, x0_m4, method='BFGS', jac=funcs.func_grad_, options={'gtol': 1e-6, 'disp': False})"
   ]
  },
  {
   "cell_type": "markdown",
   "id": "99e9d0ba-804f-4ec7-a6bd-1c7ae286c322",
   "metadata": {
    "tags": []
   },
   "source": [
    "#### Summary for Original BFGS"
   ]
  },
  {
   "cell_type": "code",
   "execution_count": null,
   "id": "e70d83f6-d8a9-4068-ac7b-dba947d6584c",
   "metadata": {},
   "outputs": [],
   "source": []
  },
  {
   "cell_type": "markdown",
   "id": "390708a7-c30f-4884-9f78-0332ca782512",
   "metadata": {
    "tags": []
   },
   "source": [
    "### Cautious BFGS"
   ]
  },
  {
   "cell_type": "markdown",
   "id": "70190817-3701-420f-86d2-57ce18da3992",
   "metadata": {
    "tags": []
   },
   "source": [
    "#### Base performance with loaded starting point (Wolfe-type line search)"
   ]
  },
  {
   "cell_type": "code",
   "execution_count": null,
   "id": "e41d3e9b-dd3d-41cf-8c65-446675c34710",
   "metadata": {},
   "outputs": [
    {
     "name": "stdout",
     "output_type": "stream",
     "text": [
      "Convergence reached in 58 iterations\n",
      "Computed Norm: 19.35695936892961\n",
      "True Norm: 19.356959368936618\n",
      "Error: 7.009504088273388e-12\n"
     ]
    }
   ],
   "source": [
    "w_c_m4_bfgs_a = run_bfgs(M4, alg_method='C', ls_method='W', c1=1e-4, c2=0.9, starting_point=x0_m4)"
   ]
  },
  {
   "cell_type": "code",
   "execution_count": null,
   "id": "590e9c1f-4a60-45e6-ab0d-1d4202aa491b",
   "metadata": {},
   "outputs": [
    {
     "name": "stdout",
     "output_type": "stream",
     "text": [
      "Convergence reached in 50 iterations\n",
      "Computed Norm: 19.356959368930855\n",
      "True Norm: 19.356959368936618\n",
      "Error: 5.7625015870144125e-12\n"
     ]
    }
   ],
   "source": [
    "w_c_m4_bfgs_b = run_bfgs(M4, alg_method='C', ls_method='W', c1=0.1, c2=0.49, starting_point=x0_m4)"
   ]
  },
  {
   "cell_type": "markdown",
   "id": "b6d3bd64-e737-46ad-95e5-934ae9014c3b",
   "metadata": {
    "tags": []
   },
   "source": [
    "#### Base performance with loaded starting point (Armijo-type line search)"
   ]
  },
  {
   "cell_type": "code",
   "execution_count": null,
   "id": "72cbb11d-240c-4ca3-9b86-9881354c5877",
   "metadata": {},
   "outputs": [
    {
     "name": "stdout",
     "output_type": "stream",
     "text": [
      "Convergence reached in 53 iterations\n",
      "Computed Norm: 19.356959368933875\n",
      "True Norm: 19.356959368936618\n",
      "Error: 2.7426949600339867e-12\n"
     ]
    }
   ],
   "source": [
    "a_c_m4_bfgs_a = run_bfgs(M4, alg_method='C', ls_method='A', c1=1e-4, starting_point=x0_m4)"
   ]
  },
  {
   "cell_type": "code",
   "execution_count": null,
   "id": "13a71875-0963-4c5a-8933-9baed74d65b1",
   "metadata": {},
   "outputs": [
    {
     "name": "stdout",
     "output_type": "stream",
     "text": [
      "Convergence reached in 53 iterations\n",
      "Computed Norm: 19.356959368933875\n",
      "True Norm: 19.356959368936618\n",
      "Error: 2.7426949600339867e-12\n"
     ]
    }
   ],
   "source": [
    "a_c_m4_bfgs_b = run_bfgs(M4, alg_method='C', ls_method='A', c1=0.1, starting_point=x0_m4)"
   ]
  },
  {
   "cell_type": "markdown",
   "id": "af944f87-7397-4416-b5c5-ad863765f1f7",
   "metadata": {
    "tags": []
   },
   "source": [
    "#### Average runtime over 10 runs (Wolfe-type line search)"
   ]
  },
  {
   "cell_type": "code",
   "execution_count": null,
   "id": "522957be-91f8-4c9a-9b8a-091a2ea81db0",
   "metadata": {},
   "outputs": [
    {
     "name": "stdout",
     "output_type": "stream",
     "text": [
      "41.2 ms ± 3.23 ms per loop (mean ± std. dev. of 10 runs, 10 loops each)\n"
     ]
    }
   ],
   "source": [
    "%%timeit -r 10\n",
    "# Measuring running time\n",
    "w_c_m4_bfgs_a.bfgs()"
   ]
  },
  {
   "cell_type": "code",
   "execution_count": null,
   "id": "5dafb2cc-51bc-4004-a279-ed20e9074730",
   "metadata": {},
   "outputs": [
    {
     "name": "stdout",
     "output_type": "stream",
     "text": [
      "38.6 ms ± 2.74 ms per loop (mean ± std. dev. of 10 runs, 10 loops each)\n"
     ]
    }
   ],
   "source": [
    "%%timeit -r 10\n",
    "# Measuring running time\n",
    "w_c_m4_bfgs_b.bfgs()"
   ]
  },
  {
   "cell_type": "markdown",
   "id": "847ca9e9-d614-45ec-b7e0-842176bcd5e1",
   "metadata": {
    "tags": []
   },
   "source": [
    "#### Average runtime over 10 runs (Armijo-type line search)"
   ]
  },
  {
   "cell_type": "code",
   "execution_count": null,
   "id": "bf134756-e50c-4b9c-98de-b6b08c60e522",
   "metadata": {},
   "outputs": [
    {
     "name": "stdout",
     "output_type": "stream",
     "text": [
      "28.5 ms ± 2.58 ms per loop (mean ± std. dev. of 10 runs, 10 loops each)\n"
     ]
    }
   ],
   "source": [
    "%%timeit -r 10\n",
    "# Measuring running time\n",
    "a_c_m4_bfgs_a.bfgs()"
   ]
  },
  {
   "cell_type": "code",
   "execution_count": null,
   "id": "82c8e8d8-050d-44ce-b04d-5402b3776dba",
   "metadata": {},
   "outputs": [
    {
     "name": "stdout",
     "output_type": "stream",
     "text": [
      "28.4 ms ± 3.2 ms per loop (mean ± std. dev. of 10 runs, 10 loops each)\n"
     ]
    }
   ],
   "source": [
    "%%timeit -r 10\n",
    "# Measuring running time\n",
    "a_c_m4_bfgs_b.bfgs()"
   ]
  },
  {
   "cell_type": "markdown",
   "id": "ca8d30dc-a2cb-48f6-a18d-e1dc916c1f1f",
   "metadata": {
    "tags": []
   },
   "source": [
    "#### Summary for Cautious BFGS"
   ]
  },
  {
   "cell_type": "code",
   "execution_count": null,
   "id": "a5e1f69e-5f1b-4b41-9628-d86c55d9ab48",
   "metadata": {},
   "outputs": [],
   "source": []
  },
  {
   "cell_type": "markdown",
   "id": "f4bba3f0-2f01-473b-82ae-c73229eb24f9",
   "metadata": {
    "jp-MarkdownHeadingCollapsed": true,
    "tags": []
   },
   "source": [
    "## M5 Matrix"
   ]
  },
  {
   "cell_type": "markdown",
   "id": "cecd9954-b1a8-4cc7-a059-9615b9fb445f",
   "metadata": {
    "tags": []
   },
   "source": [
    "### Original BFGS"
   ]
  },
  {
   "cell_type": "markdown",
   "id": "b7b2e85f-6847-4537-8102-eaf392fe079c",
   "metadata": {
    "tags": []
   },
   "source": [
    "#### Base performance with loaded starting point (Wolfe-type line search)"
   ]
  },
  {
   "cell_type": "code",
   "execution_count": null,
   "id": "3d735b75-87a7-4948-be37-9ed9bee8aad8",
   "metadata": {},
   "outputs": [
    {
     "name": "stdout",
     "output_type": "stream",
     "text": [
      "Convergence reached in 66 iterations\n",
      "Computed Norm: 23.624892381956926\n",
      "True Norm: 23.62489238197046\n",
      "Error: 1.3535839116229909e-11\n"
     ]
    }
   ],
   "source": [
    "w_o_m5_bfgs_a = run_bfgs(M5, alg_method='O', ls_method='W', c1=1e-4, c2=0.9, starting_point=x0_m5)"
   ]
  },
  {
   "cell_type": "code",
   "execution_count": null,
   "id": "648eeee4-c109-472f-a048-52706b86e467",
   "metadata": {},
   "outputs": [
    {
     "name": "stdout",
     "output_type": "stream",
     "text": [
      "Convergence reached in 52 iterations\n",
      "Computed Norm: 23.624892381944633\n",
      "True Norm: 23.62489238197046\n",
      "Error: 2.5828228444879642e-11\n"
     ]
    }
   ],
   "source": [
    "w_o_m5_bfgs_b = run_bfgs(M5, alg_method='O', ls_method='W', c1=0.1, c2=0.49, starting_point=x0_m5)"
   ]
  },
  {
   "cell_type": "markdown",
   "id": "0dc712a7-25d9-42ed-b6f1-bf58d705edab",
   "metadata": {
    "tags": []
   },
   "source": [
    "#### Base performance with loaded starting point (Armijo-type line search)"
   ]
  },
  {
   "cell_type": "code",
   "execution_count": null,
   "id": "453fe36b-1a61-42a3-9bd3-558f9b09c034",
   "metadata": {},
   "outputs": [
    {
     "name": "stdout",
     "output_type": "stream",
     "text": [
      "Convergence reached in 66 iterations\n",
      "Computed Norm: 23.624892381956926\n",
      "True Norm: 23.62489238197046\n",
      "Error: 1.3535839116229909e-11\n"
     ]
    }
   ],
   "source": [
    "a_o_m5_bfgs_a = run_bfgs(M5, alg_method='O', ls_method='A', c1=1e-4, starting_point=x0_m5)"
   ]
  },
  {
   "cell_type": "code",
   "execution_count": null,
   "id": "55f85f3f-1d5d-4e21-97a1-8c0d99b1deae",
   "metadata": {},
   "outputs": [
    {
     "name": "stdout",
     "output_type": "stream",
     "text": [
      "Convergence reached in 66 iterations\n",
      "Computed Norm: 23.624892381956926\n",
      "True Norm: 23.62489238197046\n",
      "Error: 1.3535839116229909e-11\n"
     ]
    }
   ],
   "source": [
    "a_o_m5_bfgs_b = run_bfgs(M5, alg_method='O', ls_method='A', c1=0.1, starting_point=x0_m5)"
   ]
  },
  {
   "cell_type": "markdown",
   "id": "4b535380-6443-4fa4-9b3c-466cf6f4a681",
   "metadata": {
    "tags": []
   },
   "source": [
    "#### Average runtime over 10 runs (Wolfe-type line search)"
   ]
  },
  {
   "cell_type": "code",
   "execution_count": null,
   "id": "c92b5393-70e1-4ed9-afc2-82038589d067",
   "metadata": {},
   "outputs": [
    {
     "name": "stdout",
     "output_type": "stream",
     "text": [
      "50.3 ms ± 3.04 ms per loop (mean ± std. dev. of 10 runs, 10 loops each)\n"
     ]
    }
   ],
   "source": [
    "%%timeit -r 10\n",
    "# Measuring running time\n",
    "w_o_m5_bfgs_a.bfgs()"
   ]
  },
  {
   "cell_type": "code",
   "execution_count": null,
   "id": "d03d72f3-0caf-420d-8b29-91bd485d89dd",
   "metadata": {},
   "outputs": [
    {
     "name": "stdout",
     "output_type": "stream",
     "text": [
      "43.3 ms ± 7.49 ms per loop (mean ± std. dev. of 10 runs, 10 loops each)\n"
     ]
    }
   ],
   "source": [
    "%%timeit -r 10\n",
    "# Measuring running time\n",
    "w_o_m5_bfgs_b.bfgs()"
   ]
  },
  {
   "cell_type": "markdown",
   "id": "4e090f82-1e4e-40b3-b6b7-a3a956d8cd98",
   "metadata": {
    "tags": []
   },
   "source": [
    "#### Average runtime over 10 runs (Armijo-type line search)"
   ]
  },
  {
   "cell_type": "code",
   "execution_count": null,
   "id": "884dbd92-af67-4f7a-bd18-04c182f18b6b",
   "metadata": {},
   "outputs": [
    {
     "name": "stdout",
     "output_type": "stream",
     "text": [
      "44.7 ms ± 4.63 ms per loop (mean ± std. dev. of 10 runs, 10 loops each)\n"
     ]
    }
   ],
   "source": [
    "%%timeit -r 10\n",
    "# Measuring running time\n",
    "a_o_m5_bfgs_a.bfgs()"
   ]
  },
  {
   "cell_type": "code",
   "execution_count": null,
   "id": "ed5e493e-1c65-4acb-887e-6f09bd155d57",
   "metadata": {},
   "outputs": [
    {
     "name": "stdout",
     "output_type": "stream",
     "text": [
      "97.4 ms ± 41.4 ms per loop (mean ± std. dev. of 10 runs, 10 loops each)\n"
     ]
    }
   ],
   "source": [
    "%%timeit -r 10\n",
    "# Measuring running time\n",
    "a_o_m5_bfgs_b.bfgs()"
   ]
  },
  {
   "cell_type": "markdown",
   "id": "8db3bd02-3d3e-463f-a9f5-24c2621b47ba",
   "metadata": {
    "tags": []
   },
   "source": [
    "#### Comparison with off-shelf BFGS minimizer"
   ]
  },
  {
   "cell_type": "code",
   "execution_count": null,
   "id": "7008438d-d0de-4694-8c06-da8c019e8d47",
   "metadata": {},
   "outputs": [
    {
     "name": "stdout",
     "output_type": "stream",
     "text": [
      "Convergence reached in 57 iterations\n",
      "Computed Norm: 23.624892381968756\n",
      "True Norm: 23.62489238197046\n",
      "Error: 1.7053025658242404e-12\n"
     ]
    }
   ],
   "source": [
    "off_shelf_opt(M5, x0_m5)\n",
    "funcs = Funcs(M5)"
   ]
  },
  {
   "cell_type": "code",
   "execution_count": null,
   "id": "6b3320f2-7411-4c96-b880-4f0f63f0306f",
   "metadata": {},
   "outputs": [
    {
     "name": "stdout",
     "output_type": "stream",
     "text": [
      "The slowest run took 13.64 times longer than the fastest. This could mean that an intermediate result is being cached.\n",
      "105 ms ± 120 ms per loop (mean ± std. dev. of 10 runs, 1 loop each)\n"
     ]
    }
   ],
   "source": [
    "%%timeit -r 10\n",
    "# Measuring running time\n",
    "minimize(funcs.func_, x0_m5, method='BFGS', jac=funcs.func_grad_, options={'gtol': 1e-6, 'disp': False})"
   ]
  },
  {
   "cell_type": "markdown",
   "id": "b4cd18e6-09b4-4f83-8b58-0d5d8160ae0e",
   "metadata": {
    "tags": []
   },
   "source": [
    "#### Summary for Original BFGS"
   ]
  },
  {
   "cell_type": "code",
   "execution_count": null,
   "id": "919f1b9f-27e9-4a5e-9055-8c6c88abfcf7",
   "metadata": {},
   "outputs": [],
   "source": []
  },
  {
   "cell_type": "markdown",
   "id": "ac45a37b-5d0e-457f-be7b-d4af7c54a922",
   "metadata": {
    "tags": []
   },
   "source": [
    "### Cautious BFGS"
   ]
  },
  {
   "cell_type": "markdown",
   "id": "a190b96e-2242-4bc1-aecc-716c382f7aba",
   "metadata": {
    "tags": []
   },
   "source": [
    "#### Base performance with loaded starting point (Wolfe-type line search)"
   ]
  },
  {
   "cell_type": "code",
   "execution_count": null,
   "id": "959a0ac8-517b-4094-97bd-2be432416e45",
   "metadata": {},
   "outputs": [
    {
     "name": "stdout",
     "output_type": "stream",
     "text": [
      "Convergence reached in 49 iterations\n",
      "Computed Norm: 23.62489238196187\n",
      "True Norm: 23.62489238197046\n",
      "Error: 8.590461675339611e-12\n"
     ]
    }
   ],
   "source": [
    "w_c_m5_bfgs_a = run_bfgs(M5, alg_method='C', ls_method='W', c1=1e-4, c2=0.9, starting_point=x0_m5)"
   ]
  },
  {
   "cell_type": "code",
   "execution_count": null,
   "id": "c9c80604-c513-4289-921f-670b847bee36",
   "metadata": {},
   "outputs": [
    {
     "name": "stdout",
     "output_type": "stream",
     "text": [
      "Convergence reached in 40 iterations\n",
      "Computed Norm: 23.624892381959825\n",
      "True Norm: 23.62489238197046\n",
      "Error: 1.06368247543287e-11\n"
     ]
    }
   ],
   "source": [
    "w_c_m5_bfgs_b = run_bfgs(M5, alg_method='C', ls_method='W', c1=0.1, c2=0.49, starting_point=x0_m5)"
   ]
  },
  {
   "cell_type": "markdown",
   "id": "fecd3095-8b80-4eea-9933-c5da755163a0",
   "metadata": {
    "tags": []
   },
   "source": [
    "#### Base performance with loaded starting point (Armijo-type line search)"
   ]
  },
  {
   "cell_type": "code",
   "execution_count": null,
   "id": "db065fbf-d33a-4453-99ed-c096d51f1f9a",
   "metadata": {},
   "outputs": [
    {
     "name": "stdout",
     "output_type": "stream",
     "text": [
      "Convergence reached in 55 iterations\n",
      "Computed Norm: 23.624892381965147\n",
      "True Norm: 23.62489238197046\n",
      "Error: 5.314859663485549e-12\n"
     ]
    }
   ],
   "source": [
    "a_c_m5_bfgs_a = run_bfgs(M5, alg_method='C', ls_method='A', c1=1e-4, starting_point=x0_m5)"
   ]
  },
  {
   "cell_type": "code",
   "execution_count": null,
   "id": "7037f2cb-6cc0-4631-b35a-1a21400b1ddc",
   "metadata": {},
   "outputs": [
    {
     "name": "stdout",
     "output_type": "stream",
     "text": [
      "Convergence reached in 55 iterations\n",
      "Computed Norm: 23.624892381965147\n",
      "True Norm: 23.62489238197046\n",
      "Error: 5.314859663485549e-12\n"
     ]
    }
   ],
   "source": [
    "a_c_m5_bfgs_b = run_bfgs(M5, alg_method='C', ls_method='A', c1=0.1, starting_point=x0_m5)"
   ]
  },
  {
   "cell_type": "markdown",
   "id": "778e0beb-7ffa-4331-ab64-0669f18a8a47",
   "metadata": {
    "tags": []
   },
   "source": [
    "#### Average runtime over 10 runs (Wolfe-type line search)"
   ]
  },
  {
   "cell_type": "code",
   "execution_count": null,
   "id": "4f140868-e95e-430b-9f4a-ccbea1a40822",
   "metadata": {},
   "outputs": [
    {
     "name": "stdout",
     "output_type": "stream",
     "text": [
      "The slowest run took 6.27 times longer than the fastest. This could mean that an intermediate result is being cached.\n",
      "104 ms ± 49.3 ms per loop (mean ± std. dev. of 10 runs, 1 loop each)\n"
     ]
    }
   ],
   "source": [
    "%%timeit -r 10\n",
    "# Measuring running time\n",
    "w_c_m5_bfgs_a.bfgs()"
   ]
  },
  {
   "cell_type": "code",
   "execution_count": null,
   "id": "3d9544e0-6cd0-44d6-9cf2-de2809ed45ed",
   "metadata": {},
   "outputs": [
    {
     "name": "stdout",
     "output_type": "stream",
     "text": [
      "The slowest run took 4.43 times longer than the fastest. This could mean that an intermediate result is being cached.\n",
      "61.7 ms ± 36.9 ms per loop (mean ± std. dev. of 10 runs, 10 loops each)\n"
     ]
    }
   ],
   "source": [
    "%%timeit -r 10\n",
    "# Measuring running time\n",
    "w_c_m5_bfgs_b.bfgs()"
   ]
  },
  {
   "cell_type": "markdown",
   "id": "62a19e05-2f96-4255-bece-7eef677a8f12",
   "metadata": {
    "tags": []
   },
   "source": [
    "#### Average runtime over 10 runs (Armijo-type line search)"
   ]
  },
  {
   "cell_type": "code",
   "execution_count": null,
   "id": "73949f94-a609-483f-a61b-a573a63a3ca9",
   "metadata": {},
   "outputs": [
    {
     "name": "stdout",
     "output_type": "stream",
     "text": [
      "The slowest run took 8.24 times longer than the fastest. This could mean that an intermediate result is being cached.\n",
      "117 ms ± 44.6 ms per loop (mean ± std. dev. of 10 runs, 1 loop each)\n"
     ]
    }
   ],
   "source": [
    "%%timeit -r 10\n",
    "# Measuring running time\n",
    "a_c_m5_bfgs_a.bfgs()"
   ]
  },
  {
   "cell_type": "code",
   "execution_count": null,
   "id": "b5ec6cd3-d737-4209-8452-9051cda57163",
   "metadata": {},
   "outputs": [
    {
     "name": "stdout",
     "output_type": "stream",
     "text": [
      "The slowest run took 4.34 times longer than the fastest. This could mean that an intermediate result is being cached.\n",
      "67.9 ms ± 41.5 ms per loop (mean ± std. dev. of 10 runs, 10 loops each)\n"
     ]
    }
   ],
   "source": [
    "%%timeit -r 10\n",
    "# Measuring running time\n",
    "a_c_m5_bfgs_b.bfgs()"
   ]
  },
  {
   "cell_type": "markdown",
   "id": "48693e96-4322-41a4-bbb3-19cfef0e123b",
   "metadata": {
    "tags": []
   },
   "source": [
    "#### Summary for Cautious BFGS"
   ]
  },
  {
   "cell_type": "code",
   "execution_count": null,
   "id": "dbfd2da7-b5bb-4e02-a85b-fbfdcea32918",
   "metadata": {},
   "outputs": [],
   "source": []
  },
  {
   "cell_type": "markdown",
   "id": "1934d54e-e611-470f-9f12-d06872af633b",
   "metadata": {
    "tags": []
   },
   "source": [
    "## Summary for Original BFGS"
   ]
  },
  {
   "cell_type": "code",
   "execution_count": null,
   "id": "ea3c5f48-bb5a-42e8-a4ec-6e70189d4be0",
   "metadata": {},
   "outputs": [],
   "source": []
  },
  {
   "cell_type": "markdown",
   "id": "4624e889-ae63-4ea9-a5f3-fe8e4046a40f",
   "metadata": {
    "tags": []
   },
   "source": [
    "## Summary for Cautious BFGS"
   ]
  },
  {
   "cell_type": "code",
   "execution_count": null,
   "id": "f45f2b9c-5477-4170-ae6e-c23d0503e9e9",
   "metadata": {},
   "outputs": [],
   "source": []
  }
 ],
 "metadata": {
  "kernelspec": {
   "display_name": "Python 3 (ipykernel)",
   "language": "python",
   "name": "python3"
  },
  "language_info": {
   "codemirror_mode": {
    "name": "ipython",
    "version": 3
   },
   "file_extension": ".py",
   "mimetype": "text/x-python",
   "name": "python",
   "nbconvert_exporter": "python",
   "pygments_lexer": "ipython3",
   "version": "3.8.3"
  }
 },
 "nbformat": 4,
 "nbformat_minor": 5
}
