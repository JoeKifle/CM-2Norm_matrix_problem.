{
 "cells": [
  {
   "cell_type": "code",
   "execution_count": 8,
   "metadata": {},
   "outputs": [],
   "source": [
    "import numpy as np\n",
    "from plotly.subplots import make_subplots\n",
    "import plotly.graph_objects as go\n",
    "from cgd_funcs import Funcs\n",
    "from cgd import CGD\n",
    "\n",
    "# Of the shelf solver CGD\n",
    "from scipy.optimize import minimize\n",
    "from numpy import linalg as la\n",
    "\n",
    "# Plotting\n",
    "import matplotlib.pyplot as plt\n",
    "from plotly.subplots import make_subplots\n",
    "import plotly.graph_objects as go\n",
    "\n",
    "font = {'size':15}\n",
    "plt.rc('font', **font)"
   ]
  },
  {
   "cell_type": "code",
   "execution_count": 18,
   "metadata": {},
   "outputs": [],
   "source": [
    "def plot_summary(error_mx, residual_mx, matrix):\n",
    "    \n",
    "    \n",
    "    fig, axs = plt.subplots(1, 2, figsize=(20, 8))\n",
    "    axs[0].plot(list(range(0,len(residual_mx)-1)), residual_mx[:-1], label = \"Residual\")\n",
    "    axs[1].plot(list(range(0,len(error_mx))), error_mx, label = \"Error\", color=\"orange\")\n",
    "    \n",
    "    axs[0].legend()\n",
    "    axs[1].legend()\n",
    "    #axs[0].set_yscale('log')\n",
    "    #axs[1].set_yscale('log')\n",
    "    axs[0].set_xlabel(\"Iterations\")\n",
    "    axs[0].set_ylabel(\"Residual\")\n",
    "    axs[1].set_xlabel(\"Iterations\")\n",
    "    axs[1].set_ylabel(\"Error\")\n",
    "    fig.suptitle(\"[\"+matrix+\"]\"+\"[epsilon = 1e-5] Residual and Error plot\")\n",
    "    #fig.suptitle(matrix_name + \" \" + method_name + \" Residual and Error plot\")"
   ]
  },
  {
   "cell_type": "code",
   "execution_count": 134,
   "metadata": {},
   "outputs": [],
   "source": [
    "# imports\n",
    "import plotly.express as px \n",
    "import pandas as pd \n",
    "import numpy as np "
   ]
  },
  {
   "cell_type": "code",
   "execution_count": 4,
   "metadata": {},
   "outputs": [],
   "source": [
    "# loading the matrices\n",
    "M1 = np.loadtxt('../data/M1.txt')\n",
    "x0_m1 = np.loadtxt('../data/x0_m1.txt')\n",
    "\n",
    "M2 = np.loadtxt('../data/M2.txt')\n",
    "x0_m2 = np.loadtxt('../data/x0_m2.txt')\n",
    "\n",
    "M3 = np.loadtxt('../data/M3.txt')\n",
    "x0_m3 = np.loadtxt('../data/x0_m3.txt')\n",
    "\n",
    "M4 = np.loadtxt('../data/M4.txt')\n",
    "x0_m4 = np.loadtxt('../data/x0_m4.txt')\n",
    "\n",
    "M5 = np.loadtxt('../data/M5.txt')\n",
    "x0_m5 = np.loadtxt('../data/x0_m5.txt')"
   ]
  },
  {
   "cell_type": "markdown",
   "metadata": {},
   "source": [
    "### Util Function for off-shelf CGD solved"
   ]
  },
  {
   "cell_type": "code",
   "execution_count": 9,
   "metadata": {},
   "outputs": [],
   "source": [
    "def off_shelf_opt(matrix, vector):\n",
    "    funcs = Funcs(matrix)\n",
    "    res = minimize(funcs.func_, vector, method='CG', jac=funcs.func_grad_, tol=1e-5, options={'gtol': 1e-6, 'disp': False})\n",
    "    fx = res.fun\n",
    "    \n",
    "    num_iterations = res.nit\n",
    "    if res.success:\n",
    "        print(\"Convergence reached in \" + str(num_iterations) + \" iterations\")\n",
    "    else:\n",
    "        print(\"Convergence not reached\")\n",
    "    \n",
    "    computed_norm = np.sqrt(-fx)\n",
    "    correct_norm = la.norm(matrix, 2)\n",
    "    error = abs(computed_norm - correct_norm)\n",
    "    \n",
    "    print(\"Computed Norm: \" + str(computed_norm))\n",
    "    print(\"True Norm: \" + str(correct_norm))\n",
    "    print(\"Error: \" + str(error))"
   ]
  },
  {
   "cell_type": "markdown",
   "metadata": {},
   "source": [
    "### M1 - Matrix Test"
   ]
  },
  {
   "cell_type": "code",
   "execution_count": 5,
   "metadata": {},
   "outputs": [],
   "source": [
    "funcs = Funcs(M1)\n",
    "# Initialize the CGD algorithm.\n",
    "cgd_m1 = CGD(funcs.func_,funcs.func_grad_,funcs.exact_line_search,x0_m1, 1e-5, 1000, method='PR', verboose=False)\n",
    "# Run the algorithm.\n",
    "residual_m1, errors_m1, result_m1 = cgd_m1.cgd()"
   ]
  },
  {
   "cell_type": "code",
   "execution_count": 6,
   "metadata": {},
   "outputs": [
    {
     "data": {
      "text/plain": [
       "560"
      ]
     },
     "execution_count": 6,
     "metadata": {},
     "output_type": "execute_result"
    }
   ],
   "source": [
    "len(errors_m1)"
   ]
  },
  {
   "cell_type": "code",
   "execution_count": 139,
   "metadata": {},
   "outputs": [
    {
     "name": "stdout",
     "output_type": "stream",
     "text": [
      "2.41 s ± 472 ms per loop (mean ± std. dev. of 10 runs, 1 loop each)\n"
     ]
    }
   ],
   "source": [
    "%%timeit -r 10\n",
    "# Measuring running time\n",
    "cgd_m1.cgd()"
   ]
  },
  {
   "cell_type": "code",
   "execution_count": 19,
   "metadata": {},
   "outputs": [
    {
     "data": {
      "image/png": "[encoded data removed]",
      "text/plain": [
       "<Figure size 1440x576 with 2 Axes>"
      ]
     },
     "metadata": {
      "needs_background": "light"
     },
     "output_type": "display_data"
    }
   ],
   "source": [
    "plot_summary(residual_m1, errors_m1, \"M1\")"
   ]
  },
  {
   "cell_type": "code",
   "execution_count": 141,
   "metadata": {},
   "outputs": [
    {
     "name": "stdout",
     "output_type": "stream",
     "text": [
      "585 ms ± 42.3 ms per loop (mean ± std. dev. of 10 runs, 1 loop each)\n"
     ]
    }
   ],
   "source": [
    "%%timeit -r 10\n",
    "# Norm of matrix M1\n",
    "np.linalg.norm(M1, ord=2)"
   ]
  },
  {
   "cell_type": "code",
   "execution_count": 142,
   "metadata": {},
   "outputs": [
    {
     "data": {
      "text/plain": [
       "72.40864404728691"
      ]
     },
     "execution_count": 142,
     "metadata": {},
     "output_type": "execute_result"
    }
   ],
   "source": [
    "# CGD norm result\n",
    "np.sqrt(abs(result_m1))"
   ]
  },
  {
   "cell_type": "code",
   "execution_count": 143,
   "metadata": {},
   "outputs": [
    {
     "data": {
      "text/plain": [
       "2.743263394222595e-10"
      ]
     },
     "execution_count": 143,
     "metadata": {},
     "output_type": "execute_result"
    }
   ],
   "source": [
    "# Error \n",
    "np.linalg.norm(M1, ord=2) - np.sqrt(abs(result_m1))"
   ]
  },
  {
   "cell_type": "code",
   "execution_count": 144,
   "metadata": {},
   "outputs": [
    {
     "name": "stdout",
     "output_type": "stream",
     "text": [
      "Convergence reached in 65 iterations\n",
      "Computed Norm: 72.40864404753631\n",
      "True Norm: 72.40864404756124\n",
      "Error: 2.4925839170464315e-11\n"
     ]
    }
   ],
   "source": [
    "off_shelf_opt(M1, x0_m1)\n",
    "funcs = Funcs(M1)"
   ]
  },
  {
   "cell_type": "code",
   "execution_count": 145,
   "metadata": {},
   "outputs": [
    {
     "name": "stdout",
     "output_type": "stream",
     "text": [
      "455 ms ± 29.3 ms per loop (mean ± std. dev. of 10 runs, 1 loop each)\n"
     ]
    }
   ],
   "source": [
    "%%timeit -r 10\n",
    "# Measuring running time\n",
    "minimize(funcs.func_, x0_m1, method='CG', jac=funcs.func_grad_, options={'gtol': 1e-5, 'disp': False})"
   ]
  },
  {
   "cell_type": "markdown",
   "metadata": {},
   "source": [
    "### M2 - Matrix Test"
   ]
  },
  {
   "cell_type": "code",
   "execution_count": 11,
   "metadata": {},
   "outputs": [],
   "source": [
    "funcs = Funcs(M2)\n",
    "# Initialize the CGD algorithm.\n",
    "cgd_m2 = CGD(funcs.func_,funcs.func_grad_,funcs.exact_line_search,x0_m2, 1e-5, 1000, method='PR', verboose=False)\n",
    "\n",
    "# Run the algorithm.\n",
    "residual_m2, errors_m2, result_m2 = cgd_m2.cgd()"
   ]
  },
  {
   "cell_type": "code",
   "execution_count": 12,
   "metadata": {},
   "outputs": [
    {
     "data": {
      "text/plain": [
       "193"
      ]
     },
     "execution_count": 12,
     "metadata": {},
     "output_type": "execute_result"
    }
   ],
   "source": [
    "len(errors_m2)"
   ]
  },
  {
   "cell_type": "code",
   "execution_count": 148,
   "metadata": {},
   "outputs": [
    {
     "name": "stdout",
     "output_type": "stream",
     "text": [
      "86.2 ms ± 35.1 ms per loop (mean ± std. dev. of 10 runs, 1 loop each)\n"
     ]
    }
   ],
   "source": [
    "%%timeit -r 10\n",
    "# Measuring running time\n",
    "cgd_m2.cgd()"
   ]
  },
  {
   "cell_type": "code",
   "execution_count": 20,
   "metadata": {},
   "outputs": [
    {
     "data": {
      "image/png": "[encoded data removed]",
      "text/plain": [
       "<Figure size 1440x576 with 2 Axes>"
      ]
     },
     "metadata": {
      "needs_background": "light"
     },
     "output_type": "display_data"
    }
   ],
   "source": [
    "plot_summary(residual_m2, errors_m2, \"M2\")"
   ]
  },
  {
   "cell_type": "code",
   "execution_count": 150,
   "metadata": {},
   "outputs": [
    {
     "name": "stdout",
     "output_type": "stream",
     "text": [
      "81.8 ms ± 1.98 ms per loop (mean ± std. dev. of 10 runs, 10 loops each)\n"
     ]
    }
   ],
   "source": [
    "%%timeit -r 10\n",
    "# Norm of matrix M2\n",
    "np.linalg.norm(M2, ord=2)"
   ]
  },
  {
   "cell_type": "code",
   "execution_count": 151,
   "metadata": {},
   "outputs": [
    {
     "data": {
      "text/plain": [
       "108.70787384765995"
      ]
     },
     "execution_count": 151,
     "metadata": {},
     "output_type": "execute_result"
    }
   ],
   "source": [
    "# CGD norm result\n",
    "np.sqrt(abs(result_m2))"
   ]
  },
  {
   "cell_type": "code",
   "execution_count": 152,
   "metadata": {},
   "outputs": [
    {
     "data": {
      "text/plain": [
       "0.7596371319719708"
      ]
     },
     "execution_count": 152,
     "metadata": {},
     "output_type": "execute_result"
    }
   ],
   "source": [
    "# Error\n",
    "np.linalg.norm(M2, ord=2) - np.sqrt(abs(result_m2))"
   ]
  },
  {
   "cell_type": "code",
   "execution_count": 153,
   "metadata": {},
   "outputs": [
    {
     "name": "stdout",
     "output_type": "stream",
     "text": [
      "Convergence reached in 89 iterations\n",
      "Computed Norm: 109.46751097963158\n",
      "True Norm: 109.46751097963192\n",
      "Error: 3.410605131648481e-13\n"
     ]
    }
   ],
   "source": [
    "off_shelf_opt(M2, x0_m2)\n",
    "funcs = Funcs(M2)"
   ]
  },
  {
   "cell_type": "code",
   "execution_count": 154,
   "metadata": {},
   "outputs": [
    {
     "name": "stdout",
     "output_type": "stream",
     "text": [
      "33.4 ms ± 1.72 ms per loop (mean ± std. dev. of 10 runs, 10 loops each)\n"
     ]
    }
   ],
   "source": [
    "%%timeit -r 10\n",
    "# Measuring running time\n",
    "minimize(funcs.func_, x0_m2, method='CG', jac=funcs.func_grad_, options={'gtol': 1e-5, 'disp': False})"
   ]
  },
  {
   "cell_type": "markdown",
   "metadata": {},
   "source": [
    "### M3 - Matrix Test"
   ]
  },
  {
   "cell_type": "code",
   "execution_count": 22,
   "metadata": {},
   "outputs": [],
   "source": [
    "funcs = Funcs(M3)\n",
    "# Initialize the CGD algorithm.\n",
    "cgd_m3 = CGD(funcs.func_,funcs.func_grad_,funcs.exact_line_search,x0_m3, 1e-5, 1000, method='PR', verboose=False)\n",
    "\n",
    "# Run the algorithm.\n",
    "residual_m3, errors_m3, result_m3 = cgd_m3.cgd()"
   ]
  },
  {
   "cell_type": "code",
   "execution_count": 23,
   "metadata": {},
   "outputs": [
    {
     "data": {
      "text/plain": [
       "58"
      ]
     },
     "execution_count": 23,
     "metadata": {},
     "output_type": "execute_result"
    }
   ],
   "source": [
    "len(errors_m3)"
   ]
  },
  {
   "cell_type": "code",
   "execution_count": 196,
   "metadata": {},
   "outputs": [
    {
     "name": "stdout",
     "output_type": "stream",
     "text": [
      "257 ms ± 17.9 ms per loop (mean ± std. dev. of 10 runs, 1 loop each)\n"
     ]
    }
   ],
   "source": [
    "%%timeit -r 10\n",
    "# Measuring running time\n",
    "cgd_m3.cgd()"
   ]
  },
  {
   "cell_type": "code",
   "execution_count": 24,
   "metadata": {},
   "outputs": [
    {
     "data": {
      "image/png": "[encoded data removed]",
      "text/plain": [
       "<Figure size 1440x576 with 2 Axes>"
      ]
     },
     "metadata": {
      "needs_background": "light"
     },
     "output_type": "display_data"
    }
   ],
   "source": [
    "plot_summary(residual_m3, errors_m3, \"M3\")"
   ]
  },
  {
   "cell_type": "code",
   "execution_count": 193,
   "metadata": {},
   "outputs": [
    {
     "name": "stdout",
     "output_type": "stream",
     "text": [
      "11.5 ms ± 2.17 ms per loop (mean ± std. dev. of 10 runs, 10 loops each)\n"
     ]
    }
   ],
   "source": [
    "%%timeit -r 10\n",
    "# Norm of matrix M3\n",
    "np.linalg.norm(M3, ord=2)"
   ]
  },
  {
   "cell_type": "code",
   "execution_count": 160,
   "metadata": {},
   "outputs": [
    {
     "data": {
      "text/plain": [
       "41.06555327354033"
      ]
     },
     "execution_count": 160,
     "metadata": {},
     "output_type": "execute_result"
    }
   ],
   "source": [
    "# CGD norm result\n",
    "np.sqrt(abs(result_m3))"
   ]
  },
  {
   "cell_type": "code",
   "execution_count": 161,
   "metadata": {},
   "outputs": [
    {
     "data": {
      "text/plain": [
       "1.0602008160276455e-10"
      ]
     },
     "execution_count": 161,
     "metadata": {},
     "output_type": "execute_result"
    }
   ],
   "source": [
    "# Error\n",
    "np.linalg.norm(M3, ord=2) - np.sqrt(abs(result_m3))"
   ]
  },
  {
   "cell_type": "code",
   "execution_count": 162,
   "metadata": {},
   "outputs": [
    {
     "name": "stdout",
     "output_type": "stream",
     "text": [
      "Convergence reached in 36 iterations\n",
      "Computed Norm: 41.065553273443705\n",
      "True Norm: 41.06555327364635\n",
      "Error: 2.0264678823878057e-10\n"
     ]
    }
   ],
   "source": [
    "off_shelf_opt(M3, x0_m3)\n",
    "funcs = Funcs(M3)"
   ]
  },
  {
   "cell_type": "code",
   "execution_count": 163,
   "metadata": {},
   "outputs": [
    {
     "name": "stdout",
     "output_type": "stream",
     "text": [
      "317 ms ± 15.7 ms per loop (mean ± std. dev. of 10 runs, 1 loop each)\n"
     ]
    }
   ],
   "source": [
    "%%timeit -r 10\n",
    "# Measuring running time\n",
    "minimize(funcs.func_, x0_m3, method='CG', jac=funcs.func_grad_, options={'gtol': 1e-5, 'disp': False})"
   ]
  },
  {
   "cell_type": "markdown",
   "metadata": {},
   "source": [
    "### M4 - Matrix Test"
   ]
  },
  {
   "cell_type": "code",
   "execution_count": 25,
   "metadata": {},
   "outputs": [],
   "source": [
    "funcs = Funcs(M4)\n",
    "# Initialize the CGD algorithm.\n",
    "cgd_m4 = CGD(funcs.func_,funcs.func_grad_,funcs.exact_line_search,x0_m4, 1e-5, 1000, method='PR', verboose=False)\n",
    "\n",
    "# Run the algorithm.\n",
    "residual_m4, errors_m4, result_m4 = cgd_m4.cgd()"
   ]
  },
  {
   "cell_type": "code",
   "execution_count": 26,
   "metadata": {},
   "outputs": [
    {
     "data": {
      "text/plain": [
       "58"
      ]
     },
     "execution_count": 26,
     "metadata": {},
     "output_type": "execute_result"
    }
   ],
   "source": [
    "len(errors_m4)"
   ]
  },
  {
   "cell_type": "code",
   "execution_count": 166,
   "metadata": {},
   "outputs": [
    {
     "name": "stdout",
     "output_type": "stream",
     "text": [
      "17.2 ms ± 1.2 ms per loop (mean ± std. dev. of 10 runs, 10 loops each)\n"
     ]
    }
   ],
   "source": [
    "%%timeit -r 10\n",
    "# Measuring running time\n",
    "cgd_m4.cgd()"
   ]
  },
  {
   "cell_type": "code",
   "execution_count": 27,
   "metadata": {},
   "outputs": [
    {
     "data": {
      "image/png": "[encoded data removed]",
      "text/plain": [
       "<Figure size 1440x576 with 2 Axes>"
      ]
     },
     "metadata": {
      "needs_background": "light"
     },
     "output_type": "display_data"
    }
   ],
   "source": [
    "plot_summary(residual_m4, errors_m4, \"M4\")"
   ]
  },
  {
   "cell_type": "code",
   "execution_count": 168,
   "metadata": {},
   "outputs": [
    {
     "name": "stdout",
     "output_type": "stream",
     "text": [
      "1.41 ms ± 60.9 µs per loop (mean ± std. dev. of 10 runs, 100 loops each)\n"
     ]
    }
   ],
   "source": [
    "%%timeit -r 10\n",
    "# Norm of matrix M4\n",
    "np.linalg.norm(M4, ord=2)"
   ]
  },
  {
   "cell_type": "code",
   "execution_count": 169,
   "metadata": {},
   "outputs": [
    {
     "data": {
      "text/plain": [
       "19.356959368913913"
      ]
     },
     "execution_count": 169,
     "metadata": {},
     "output_type": "execute_result"
    }
   ],
   "source": [
    "# CGD norm result\n",
    "np.sqrt(abs(result_m4))"
   ]
  },
  {
   "cell_type": "code",
   "execution_count": 170,
   "metadata": {},
   "outputs": [
    {
     "data": {
      "text/plain": [
       "2.2705393121214e-11"
      ]
     },
     "execution_count": 170,
     "metadata": {},
     "output_type": "execute_result"
    }
   ],
   "source": [
    "# Error\n",
    "np.linalg.norm(M4, ord=2) - np.sqrt(abs(result_m4))"
   ]
  },
  {
   "cell_type": "code",
   "execution_count": 171,
   "metadata": {},
   "outputs": [
    {
     "name": "stdout",
     "output_type": "stream",
     "text": [
      "Convergence reached in 32 iterations\n",
      "Computed Norm: 19.356959368934493\n",
      "True Norm: 19.356959368936618\n",
      "Error: 2.1245227799226996e-12\n"
     ]
    }
   ],
   "source": [
    "off_shelf_opt(M4, x0_m4)\n",
    "funcs = Funcs(M4)"
   ]
  },
  {
   "cell_type": "code",
   "execution_count": 172,
   "metadata": {},
   "outputs": [
    {
     "name": "stdout",
     "output_type": "stream",
     "text": [
      "15.6 ms ± 2.27 ms per loop (mean ± std. dev. of 10 runs, 10 loops each)\n"
     ]
    }
   ],
   "source": [
    "%%timeit -r 10\n",
    "# Measuring running time\n",
    "minimize(funcs.func_, x0_m4, method='CG', jac=funcs.func_grad_, options={'gtol': 1e-5, 'disp': False})"
   ]
  },
  {
   "cell_type": "markdown",
   "metadata": {},
   "source": [
    "### M5 - Matrix"
   ]
  },
  {
   "cell_type": "code",
   "execution_count": 28,
   "metadata": {},
   "outputs": [],
   "source": [
    "funcs = Funcs(M5)\n",
    "# Initialize the CGD algorithm.\n",
    "cgd_m5 = CGD(funcs.func_,funcs.func_grad_,funcs.exact_line_search,x0_m5, 1e-5, 1000, method='PR', verboose=False)\n",
    "\n",
    "# Run the algorithm.\n",
    "residual_m5, errors_m5, result_m5 = cgd_m5.cgd()"
   ]
  },
  {
   "cell_type": "code",
   "execution_count": 29,
   "metadata": {},
   "outputs": [
    {
     "data": {
      "text/plain": [
       "26"
      ]
     },
     "execution_count": 29,
     "metadata": {},
     "output_type": "execute_result"
    }
   ],
   "source": [
    "len(errors_m5)"
   ]
  },
  {
   "cell_type": "code",
   "execution_count": 175,
   "metadata": {},
   "outputs": [
    {
     "name": "stdout",
     "output_type": "stream",
     "text": [
      "7.75 ms ± 295 µs per loop (mean ± std. dev. of 10 runs, 100 loops each)\n"
     ]
    }
   ],
   "source": [
    "%%timeit -r 10\n",
    "# Measuring running time\n",
    "cgd_m5.cgd()"
   ]
  },
  {
   "cell_type": "code",
   "execution_count": 30,
   "metadata": {},
   "outputs": [
    {
     "data": {
      "image/png": "[encoded data removed]",
      "text/plain": [
       "<Figure size 1440x576 with 2 Axes>"
      ]
     },
     "metadata": {
      "needs_background": "light"
     },
     "output_type": "display_data"
    }
   ],
   "source": [
    "plot_summary(residual_m5, errors_m5, \"M5\")"
   ]
  },
  {
   "cell_type": "code",
   "execution_count": 202,
   "metadata": {},
   "outputs": [
    {
     "name": "stdout",
     "output_type": "stream",
     "text": [
      "8.78 ms ± 2.31 ms per loop (mean ± std. dev. of 10 runs, 100 loops each)\n"
     ]
    }
   ],
   "source": [
    "%%timeit -r 10\n",
    "# Norm of matrix M5\n",
    "np.linalg.norm(M5, ord=2)"
   ]
  },
  {
   "cell_type": "code",
   "execution_count": 178,
   "metadata": {},
   "outputs": [
    {
     "data": {
      "text/plain": [
       "23.624892381968966"
      ]
     },
     "execution_count": 178,
     "metadata": {},
     "output_type": "execute_result"
    }
   ],
   "source": [
    "# CGD norm result\n",
    "np.sqrt(abs(result_m5))"
   ]
  },
  {
   "cell_type": "code",
   "execution_count": 179,
   "metadata": {},
   "outputs": [
    {
     "data": {
      "text/plain": [
       "1.4956924587750109e-12"
      ]
     },
     "execution_count": 179,
     "metadata": {},
     "output_type": "execute_result"
    }
   ],
   "source": [
    "# Error\n",
    "np.linalg.norm(M5, ord=2) - np.sqrt(abs(result_m5))"
   ]
  },
  {
   "cell_type": "code",
   "execution_count": 180,
   "metadata": {},
   "outputs": [
    {
     "name": "stdout",
     "output_type": "stream",
     "text": [
      "Convergence reached in 23 iterations\n",
      "Computed Norm: 23.624892381969808\n",
      "True Norm: 23.62489238197046\n",
      "Error: 6.536993168992922e-13\n"
     ]
    }
   ],
   "source": [
    "off_shelf_opt(M5, x0_m5)\n",
    "funcs = Funcs(M5)"
   ]
  },
  {
   "cell_type": "code",
   "execution_count": 181,
   "metadata": {},
   "outputs": [
    {
     "name": "stdout",
     "output_type": "stream",
     "text": [
      "7.28 ms ± 1.48 ms per loop (mean ± std. dev. of 10 runs, 10 loops each)\n"
     ]
    }
   ],
   "source": [
    "%%timeit -r 10\n",
    "# Measuring running time\n",
    "minimize(funcs.func_, x0_m5, method='CG', jac=funcs.func_grad_, options={'gtol': 1e-5, 'disp': False})"
   ]
  }
 ],
 "metadata": {
  "interpreter": {
   "hash": "aee8b7b246df8f9039afb4144a1f6fd8d2ca17a180786b69acc140d282b71a49"
  },
  "kernelspec": {
   "display_name": "Python 3.8.5 64-bit",
   "language": "python",
   "name": "python3"
  },
  "language_info": {
   "codemirror_mode": {
    "name": "ipython",
    "version": 3
   },
   "file_extension": ".py",
   "mimetype": "text/x-python",
   "name": "python",
   "nbconvert_exporter": "python",
   "pygments_lexer": "ipython3",
   "version": "3.8.3"
  },
  "orig_nbformat": 4
 },
 "nbformat": 4,
 "nbformat_minor": 2
}
